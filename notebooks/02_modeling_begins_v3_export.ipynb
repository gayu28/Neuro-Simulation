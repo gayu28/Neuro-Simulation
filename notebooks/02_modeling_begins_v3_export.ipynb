{
 "cells": [
  {
   "cell_type": "code",
   "execution_count": 63,
   "id": "e7e0c6df-10e3-4f0e-80b0-64f6cd1d924f",
   "metadata": {},
   "outputs": [],
   "source": [
    "import numpy as np\n",
    "import pandas as pd"
   ]
  },
  {
   "cell_type": "code",
   "execution_count": 64,
   "id": "656bf20d-525e-4967-a1a1-47d1972fdada",
   "metadata": {},
   "outputs": [],
   "source": [
    "from sklearn.model_selection import StratifiedKFold\n",
    "\n",
    "from sklearn.linear_model import ElasticNetCV, ElasticNet\n",
    "from sklearn.ensemble import BaggingRegressor, RandomForestClassifier, RandomForestRegressor\n",
    "from sklearn.metrics import r2_score, mean_squared_error"
   ]
  },
  {
   "cell_type": "code",
   "execution_count": 65,
   "id": "9424839b-4bd4-4736-a549-837aa4d6b55c",
   "metadata": {},
   "outputs": [],
   "source": [
    "import matplotlib.pyplot as plt\n",
    "import seaborn as sns"
   ]
  },
  {
   "cell_type": "code",
   "execution_count": 86,
   "id": "e023e7b5-2f93-43d6-b94b-750e4c5a6613",
   "metadata": {},
   "outputs": [],
   "source": [
    "from plot_learning_curve import plot_learning_curve"
   ]
  },
  {
   "cell_type": "markdown",
   "id": "9348d4ba-d3d1-4667-87b2-e64525d3562d",
   "metadata": {},
   "source": [
    "# Config"
   ]
  },
  {
   "cell_type": "code",
   "execution_count": 101,
   "id": "e9f0f374-4a75-4ab2-b0d8-fd3be14d9d69",
   "metadata": {},
   "outputs": [],
   "source": [
    "random_state = 1291\n",
    "\n",
    "feature_cols = [\"PC\", \"RA\", \"SA1\",\"FiringRate_value\",\"Spikes_n_items\",  \"depth\",\"Pin_Radius\",\"duration\",\n",
    "                \"Spikes_diff_time_inrange_10\",\n",
    "                \"Spikes_diff_time_inrange_20\", \n",
    "                \"Spikes_diff_mean_5\",\n",
    "                \"Spikes_diff_mean_15\"] # \"depth\", \"Pin_Radius\"\n",
    "\n",
    "target_col = \"Frequency\"\n",
    "\n",
    "N_folds = 10"
   ]
  },
  {
   "cell_type": "markdown",
   "id": "5d9b62e4-c9aa-4813-a4d8-f2609a80dace",
   "metadata": {},
   "source": [
    "# Load Data"
   ]
  },
  {
   "cell_type": "code",
   "execution_count": 102,
   "id": "fa330054-53a9-4eab-9b0d-41005bb506da",
   "metadata": {},
   "outputs": [],
   "source": [
    "dataset = pd.read_csv(\"../data/dataset_v3.csv\", index_col=0).reset_index(drop=True)"
   ]
  },
  {
   "cell_type": "code",
   "execution_count": 103,
   "id": "f3727871-7d1b-408c-b77f-9757dee44eb9",
   "metadata": {},
   "outputs": [
    {
     "name": "stdout",
     "output_type": "stream",
     "text": [
      "(42343, 13)\n"
     ]
    },
    {
     "data": {
      "text/html": [
       "<div>\n",
       "<style scoped>\n",
       "    .dataframe tbody tr th:only-of-type {\n",
       "        vertical-align: middle;\n",
       "    }\n",
       "\n",
       "    .dataframe tbody tr th {\n",
       "        vertical-align: top;\n",
       "    }\n",
       "\n",
       "    .dataframe thead th {\n",
       "        text-align: right;\n",
       "    }\n",
       "</style>\n",
       "<table border=\"1\" class=\"dataframe\">\n",
       "  <thead>\n",
       "    <tr style=\"text-align: right;\">\n",
       "      <th></th>\n",
       "      <th>PC</th>\n",
       "      <th>RA</th>\n",
       "      <th>SA1</th>\n",
       "      <th>FiringRate_value</th>\n",
       "      <th>Spikes_n_items</th>\n",
       "      <th>depth</th>\n",
       "      <th>Pin_Radius</th>\n",
       "      <th>duration</th>\n",
       "      <th>Spikes_diff_time_inrange_10</th>\n",
       "      <th>Spikes_diff_time_inrange_20</th>\n",
       "      <th>Spikes_diff_mean_5</th>\n",
       "      <th>Spikes_diff_mean_15</th>\n",
       "      <th>Frequency</th>\n",
       "    </tr>\n",
       "  </thead>\n",
       "  <tbody>\n",
       "    <tr>\n",
       "      <th>2787</th>\n",
       "      <td>1</td>\n",
       "      <td>0</td>\n",
       "      <td>0</td>\n",
       "      <td>55.00000</td>\n",
       "      <td>88</td>\n",
       "      <td>1.79</td>\n",
       "      <td>0.79</td>\n",
       "      <td>1.6000</td>\n",
       "      <td>0.179199</td>\n",
       "      <td>0.181763</td>\n",
       "      <td>0.090837</td>\n",
       "      <td>0.272603</td>\n",
       "      <td>55</td>\n",
       "    </tr>\n",
       "    <tr>\n",
       "      <th>36857</th>\n",
       "      <td>0</td>\n",
       "      <td>1</td>\n",
       "      <td>0</td>\n",
       "      <td>31.59375</td>\n",
       "      <td>58</td>\n",
       "      <td>1.67</td>\n",
       "      <td>1.14</td>\n",
       "      <td>1.8360</td>\n",
       "      <td>0.307129</td>\n",
       "      <td>0.307617</td>\n",
       "      <td>0.153726</td>\n",
       "      <td>0.461304</td>\n",
       "      <td>65</td>\n",
       "    </tr>\n",
       "    <tr>\n",
       "      <th>28559</th>\n",
       "      <td>1</td>\n",
       "      <td>0</td>\n",
       "      <td>0</td>\n",
       "      <td>144.00000</td>\n",
       "      <td>173</td>\n",
       "      <td>1.52</td>\n",
       "      <td>0.67</td>\n",
       "      <td>1.2020</td>\n",
       "      <td>0.086975</td>\n",
       "      <td>0.066589</td>\n",
       "      <td>0.033775</td>\n",
       "      <td>0.100453</td>\n",
       "      <td>75</td>\n",
       "    </tr>\n",
       "    <tr>\n",
       "      <th>38517</th>\n",
       "      <td>0</td>\n",
       "      <td>1</td>\n",
       "      <td>0</td>\n",
       "      <td>82.87500</td>\n",
       "      <td>120</td>\n",
       "      <td>0.71</td>\n",
       "      <td>0.69</td>\n",
       "      <td>1.4485</td>\n",
       "      <td>0.129883</td>\n",
       "      <td>0.117432</td>\n",
       "      <td>0.059049</td>\n",
       "      <td>0.176704</td>\n",
       "      <td>85</td>\n",
       "    </tr>\n",
       "    <tr>\n",
       "      <th>1469</th>\n",
       "      <td>1</td>\n",
       "      <td>0</td>\n",
       "      <td>0</td>\n",
       "      <td>43.68750</td>\n",
       "      <td>69</td>\n",
       "      <td>0.90</td>\n",
       "      <td>1.38</td>\n",
       "      <td>1.5800</td>\n",
       "      <td>0.222046</td>\n",
       "      <td>0.222168</td>\n",
       "      <td>0.111068</td>\n",
       "      <td>0.333249</td>\n",
       "      <td>45</td>\n",
       "    </tr>\n",
       "  </tbody>\n",
       "</table>\n",
       "</div>"
      ],
      "text/plain": [
       "       PC  RA  SA1  FiringRate_value  Spikes_n_items  depth  Pin_Radius  \\\n",
       "2787    1   0    0          55.00000              88   1.79        0.79   \n",
       "36857   0   1    0          31.59375              58   1.67        1.14   \n",
       "28559   1   0    0         144.00000             173   1.52        0.67   \n",
       "38517   0   1    0          82.87500             120   0.71        0.69   \n",
       "1469    1   0    0          43.68750              69   0.90        1.38   \n",
       "\n",
       "       duration  Spikes_diff_time_inrange_10  Spikes_diff_time_inrange_20  \\\n",
       "2787     1.6000                     0.179199                     0.181763   \n",
       "36857    1.8360                     0.307129                     0.307617   \n",
       "28559    1.2020                     0.086975                     0.066589   \n",
       "38517    1.4485                     0.129883                     0.117432   \n",
       "1469     1.5800                     0.222046                     0.222168   \n",
       "\n",
       "       Spikes_diff_mean_5  Spikes_diff_mean_15  Frequency  \n",
       "2787             0.090837             0.272603         55  \n",
       "36857            0.153726             0.461304         65  \n",
       "28559            0.033775             0.100453         75  \n",
       "38517            0.059049             0.176704         85  \n",
       "1469             0.111068             0.333249         45  "
      ]
     },
     "execution_count": 103,
     "metadata": {},
     "output_type": "execute_result"
    }
   ],
   "source": [
    "print(dataset.shape)\n",
    "dataset.sample(5)"
   ]
  },
  {
   "cell_type": "markdown",
   "id": "83acc1a0-db26-4e3f-b98b-ffb38f9d9786",
   "metadata": {},
   "source": [
    "# Split"
   ]
  },
  {
   "cell_type": "code",
   "execution_count": 104,
   "id": "17a83b88-dbf0-4902-96b6-cb8b8f7c94fd",
   "metadata": {},
   "outputs": [
    {
     "data": {
      "text/plain": [
       "((42343, 12), (42343,))"
      ]
     },
     "execution_count": 104,
     "metadata": {},
     "output_type": "execute_result"
    }
   ],
   "source": [
    "X, y = dataset[feature_cols], dataset[target_col]\n",
    "X.shape, y.shape"
   ]
  },
  {
   "cell_type": "code",
   "execution_count": 105,
   "id": "e08ed771-5c7b-4aa0-96e9-720ecd547823",
   "metadata": {},
   "outputs": [
    {
     "name": "stdout",
     "output_type": "stream",
     "text": [
      "Using N_folds: 10\n"
     ]
    }
   ],
   "source": [
    "print(f\"Using N_folds: {N_folds}\")\n",
    "skf = StratifiedKFold(n_splits=N_folds, shuffle=True, random_state=random_state)\n",
    "for i, (train_index, test_index) in enumerate(skf.split(X, y)):\n",
    "    dataset[f\"fold_{i}\"] = \"\"\n",
    "    dataset.loc[train_index, f\"fold_{i}\"] = \"train\"\n",
    "    dataset.loc[test_index, f\"fold_{i}\"] = \"test\""
   ]
  },
  {
   "cell_type": "markdown",
   "id": "9a8fbadf-423c-4721-be22-f9d64e5c5fb7",
   "metadata": {},
   "source": [
    "# Model"
   ]
  },
  {
   "cell_type": "code",
   "execution_count": 106,
   "id": "dd41ed86-7acf-41d0-bc84-ed0feac2ac4a",
   "metadata": {},
   "outputs": [],
   "source": [
    "# BaggingClassifier - ElasticNetCV\n",
    "\n",
    "# enet = ElasticNetCV(\n",
    "#     l1_ratio=0.5,\n",
    "#     eps=0.001,\n",
    "#     n_alphas=100,\n",
    "#     random_state=random_state,\n",
    "#     fit_intercept=True)\n",
    "\n",
    "# bagging = BaggingRegressor(enet,\n",
    "#                            n_estimators=100,\n",
    "#                             max_samples=0.5, max_features=0.5)\n"
   ]
  },
  {
   "cell_type": "code",
   "execution_count": 107,
   "id": "2fefcc8e-4191-4ef5-a4c4-bc6177b82750",
   "metadata": {},
   "outputs": [],
   "source": [
    "# RandomForestClassifier\n",
    "\n",
    "rfc = RandomForestClassifier(\n",
    "    min_samples_split=6,\n",
    "    max_features=0.3,\n",
    "    n_jobs=2,\n",
    ") \n",
    "\n",
    "\n",
    "# rfc = RandomForestRegressor(\n",
    "#     min_samples_split=2 # 25\n",
    "# ) "
   ]
  },
  {
   "cell_type": "code",
   "execution_count": 108,
   "id": "f2aed327-bd5e-4cd4-83dd-6b937bade4cf",
   "metadata": {},
   "outputs": [],
   "source": [
    "# ElasticNetCV\n",
    "\n",
    "# enet = ElasticNetCV(\n",
    "#     l1_ratio=0.5,\n",
    "#     eps=0.001,\n",
    "#     n_alphas=100,\n",
    "#     random_state=random_state,\n",
    "#     fit_intercept=True)"
   ]
  },
  {
   "cell_type": "code",
   "execution_count": 116,
   "id": "1acb6579-a2c8-4d25-b347-191d3014dc28",
   "metadata": {},
   "outputs": [
    {
     "name": "stdout",
     "output_type": "stream",
     "text": [
      "fold_0\n",
      "0.979059515062454 0.867060212514758\n",
      "fold_1\n",
      "0.9788495853888948 0.8651711924439197\n",
      "fold_2\n",
      "0.9783772436233862 0.8531286894923259\n",
      "fold_3\n",
      "0.97782676008292 0.8665564478034955\n",
      "fold_4\n",
      "0.9791125455929046 0.8644307982994804\n",
      "fold_5\n",
      "0.9790338240310688 0.8646669815777043\n",
      "fold_6\n",
      "0.978561494660054 0.8658478979688238\n",
      "fold_7\n",
      "0.9788763809073971 0.8670288143599433\n",
      "fold_8\n",
      "0.9796111154845312 0.865139348134152\n",
      "fold_9\n",
      "0.9792699887165761 0.865375531412376\n",
      "CPU times: user 3min 44s, sys: 7.02 s, total: 3min 51s\n",
      "Wall time: 2min 7s\n"
     ]
    }
   ],
   "source": [
    "%%time\n",
    "\n",
    "for f in range(N_folds):\n",
    "    print(f\"fold_{f}\")\n",
    "    X_tr, y_tr = dataset.loc[dataset[f\"fold_{f}\"]==\"train\",feature_cols], dataset.loc[dataset[f\"fold_{f}\"]==\"train\", target_col]\n",
    "    X_test, y_test = dataset.loc[dataset[f\"fold_{f}\"]==\"test\",feature_cols], dataset.loc[dataset[f\"fold_{f}\"]==\"test\", target_col]\n",
    "    \n",
    "    rfc = rfc.fit(X_tr, y_tr)\n",
    "    print(\n",
    "        rfc.score(X_tr, y_tr),\n",
    "        rfc.score(X_test, y_test)\n",
    "    )\n",
    "    \n",
    "    dataset.loc[dataset[f\"fold_{f}\"]==\"train\", f\"fold_{f}_pred\"] = rfc.predict(X_tr)\n",
    "    dataset.loc[dataset[f\"fold_{f}\"]==\"test\", f\"fold_{f}_pred\"] = rfc.predict(X_test)\n",
    "    \n",
    "    "
   ]
  },
  {
   "cell_type": "code",
   "execution_count": 117,
   "id": "4b1ea6d9-31a0-4fc5-a1a7-a930826a176a",
   "metadata": {},
   "outputs": [
    {
     "data": {
      "text/plain": [
       "['../models/rfc_v3.joblib']"
      ]
     },
     "execution_count": 117,
     "metadata": {},
     "output_type": "execute_result"
    }
   ],
   "source": [
    "import joblib\n",
    "joblib.dump(rfc, '../models/rfc_v3.joblib') "
   ]
  },
  {
   "cell_type": "markdown",
   "id": "7e676672-3910-46ad-8b25-9b4ab18ceb80",
   "metadata": {},
   "source": [
    "# Learning Curve - model - data dependancy"
   ]
  },
  {
   "cell_type": "code",
   "execution_count": 115,
   "id": "be7063b9-d1bf-4a0c-ac55-fdd2f340de11",
   "metadata": {},
   "outputs": [
    {
     "name": "stdout",
     "output_type": "stream",
     "text": [
      "CPU times: user 76.6 ms, sys: 7.98 ms, total: 84.5 ms\n",
      "Wall time: 1min 9s\n"
     ]
    },
    {
     "data": {
      "text/plain": [
       "<module 'matplotlib.pyplot' from '/home/minesh_1291/anaconda3/envs/noaa-runtime/lib/python3.8/site-packages/matplotlib/pyplot.py'>"
      ]
     },
     "execution_count": 115,
     "metadata": {},
     "output_type": "execute_result"
    },
    {
     "data": {
      "image/png": "[encoded data removed]",
      "text/plain": [
       "<Figure size 432x288 with 1 Axes>"
      ]
     },
     "metadata": {
      "needs_background": "light"
     },
     "output_type": "display_data"
    }
   ],
   "source": [
    "%%time\n",
    "\n",
    "rfc = RandomForestClassifier(\n",
    "    min_samples_split=12,\n",
    "    max_features=0.7,\n",
    "    n_jobs=2,\n",
    ") \n",
    "skf = StratifiedKFold(n_splits=3, shuffle=True, random_state=random_state)\n",
    "\n",
    "\n",
    "plot_learning_curve(estimator=rfc, title=\"Learning Curve\", X=X, y=y, ylim=(0.5, 1.01), cv=skf, n_jobs=2)"
   ]
  },
  {
   "cell_type": "code",
   "execution_count": null,
   "id": "b4276761-8b80-4c92-9a9b-51dc0fba2a22",
   "metadata": {},
   "outputs": [],
   "source": []
  },
  {
   "cell_type": "markdown",
   "id": "8325ac71-ee28-4a99-ac3c-f2ceda643e3d",
   "metadata": {},
   "source": [
    "# Check Data Distribution to specific fold"
   ]
  },
  {
   "cell_type": "code",
   "execution_count": 111,
   "id": "ed18d53b-f98f-4436-a63e-0efd03fdda16",
   "metadata": {},
   "outputs": [
    {
     "name": "stdout",
     "output_type": "stream",
     "text": [
      "fold_0\n",
      "    train    PC    RA  SA1  test   PC   RA  SA1\n",
      "5     290     9   281    0    33    2   31    0\n",
      "15   2138  1289   849    0   237  133  104    0\n",
      "25   3310  2080  1230    0   367  234  133    0\n",
      "35   3907  2472  1435    0   434  291  143    0\n",
      "45   4352  2643  1709    0   484  310  174    0\n",
      "55   4573  2795  1778    0   508  293  215    0\n",
      "65   4777  2902  1875    0   531  310  221    0\n",
      "75   4918  2900  2018    0   547  304  242    1\n",
      "85   4956  2967  1988    1   551  326  225    0\n",
      "95   4887  2958  1929    0   543  330  213    0\n",
      "\n",
      "fold_1\n",
      "    train    PC    RA  SA1  test   PC   RA  SA1\n",
      "5     290    11   279    0    33    0   33    0\n",
      "15   2138  1275   863    0   237  147   90    0\n",
      "25   3310  2082  1228    0   367  232  135    0\n",
      "35   3907  2499  1408    0   434  264  170    0\n",
      "45   4352  2660  1692    0   484  293  191    0\n",
      "55   4573  2778  1795    0   508  310  198    0\n",
      "65   4777  2903  1874    0   531  309  222    0\n",
      "75   4918  2884  2033    1   547  320  227    0\n",
      "85   4956  2968  1987    1   551  325  226    0\n",
      "95   4887  2959  1928    0   543  329  214    0\n",
      "\n",
      "fold_2\n",
      "    train    PC    RA  SA1  test   PC   RA  SA1\n",
      "5     290    11   279    0    33    0   33    0\n",
      "15   2138  1284   854    0   237  138   99    0\n",
      "25   3309  2084  1225    0   368  230  138    0\n",
      "35   3907  2490  1417    0   434  273  161    0\n",
      "45   4352  2678  1674    0   484  275  209    0\n",
      "55   4573  2795  1778    0   508  293  215    0\n",
      "65   4777  2885  1892    0   531  327  204    0\n",
      "75   4919  2866  2052    1   546  338  208    0\n",
      "85   4956  2966  1989    1   551  327  224    0\n",
      "95   4887  2957  1930    0   543  331  212    0\n",
      "\n",
      "fold_3\n",
      "    train    PC    RA  SA1  test   PC   RA  SA1\n",
      "5     291    11   280    0    32    0   32    0\n",
      "15   2138  1275   863    0   237  147   90    0\n",
      "25   3309  2097  1212    0   368  217  151    0\n",
      "35   3907  2502  1405    0   434  261  173    0\n",
      "45   4352  2665  1687    0   484  288  196    0\n",
      "55   4573  2775  1798    0   508  313  195    0\n",
      "65   4777  2878  1899    0   531  334  197    0\n",
      "75   4919  2868  2050    1   546  336  210    0\n",
      "85   4956  2964  1991    1   551  329  222    0\n",
      "95   4887  2963  1924    0   543  325  218    0\n",
      "\n",
      "fold_4\n",
      "    train    PC    RA  SA1  test   PC   RA  SA1\n",
      "5     291    10   281    0    32    1   31    0\n",
      "15   2138  1264   874    0   237  158   79    0\n",
      "25   3309  2086  1223    0   368  228  140    0\n",
      "35   3907  2488  1419    0   434  275  159    0\n",
      "45   4352  2645  1707    0   484  308  176    0\n",
      "55   4573  2777  1796    0   508  311  197    0\n",
      "65   4777  2892  1885    0   531  320  211    0\n",
      "75   4919  2876  2042    1   546  328  218    0\n",
      "85   4956  2950  2005    1   551  343  208    0\n",
      "95   4887  2976  1911    0   543  312  231    0\n",
      "\n",
      "fold_5\n",
      "    train    PC    RA  SA1  test   PC   RA  SA1\n",
      "5     291    10   281    0    32    1   31    0\n",
      "15   2137  1278   859    0   238  144   94    0\n",
      "25   3309  2082  1227    0   368  232  136    0\n",
      "35   3907  2454  1453    0   434  309  125    0\n",
      "45   4353  2658  1695    0   483  295  188    0\n",
      "55   4573  2772  1801    0   508  316  192    0\n",
      "65   4777  2890  1887    0   531  322  209    0\n",
      "75   4919  2887  2031    1   546  317  229    0\n",
      "85   4956  2962  1993    1   551  331  220    0\n",
      "95   4887  2963  1924    0   543  325  218    0\n",
      "\n",
      "fold_6\n",
      "    train    PC    RA  SA1  test   PC   RA  SA1\n",
      "5     291     8   283    0    32    3   29    0\n",
      "15   2137  1281   856    0   238  141   97    0\n",
      "25   3309  2081  1228    0   368  233  135    0\n",
      "35   3906  2474  1432    0   435  289  146    0\n",
      "45   4353  2676  1677    0   483  277  206    0\n",
      "55   4573  2757  1816    0   508  331  177    0\n",
      "65   4777  2896  1881    0   531  316  215    0\n",
      "75   4919  2890  2028    1   546  314  232    0\n",
      "85   4957  2957  1999    1   550  336  214    0\n",
      "95   4887  2951  1936    0   543  337  206    0\n",
      "\n",
      "fold_7\n",
      "    train    PC    RA  SA1  test   PC   RA  SA1\n",
      "5     291    11   280    0    32    0   32    0\n",
      "15   2137  1287   850    0   238  135  103    0\n",
      "25   3309  2077  1232    0   368  237  131    0\n",
      "35   3907  2502  1405    0   434  261  173    0\n",
      "45   4353  2655  1698    0   483  298  185    0\n",
      "55   4573  2785  1788    0   508  303  205    0\n",
      "65   4777  2882  1895    0   531  330  201    0\n",
      "75   4918  2884  2033    1   547  320  227    0\n",
      "85   4957  2959  1997    1   550  334  216    0\n",
      "95   4887  2941  1946    0   543  347  196    0\n",
      "\n",
      "fold_8\n",
      "    train    PC    RA  SA1  test   PC   RA  SA1\n",
      "5     291     9   282    0    32    2   30    0\n",
      "15   2137  1276   861    0   238  146   92    0\n",
      "25   3309  2076  1233    0   368  238  130    0\n",
      "35   3907  2485  1422    0   434  278  156    0\n",
      "45   4353  2638  1715    0   483  315  168    0\n",
      "55   4572  2784  1788    0   509  304  205    0\n",
      "65   4778  2892  1886    0   530  320  210    0\n",
      "75   4918  2902  2015    1   547  302  245    0\n",
      "85   4957  2975  1981    1   550  318  232    0\n",
      "95   4887  2955  1932    0   543  333  210    0\n",
      "\n",
      "fold_9\n",
      "    train    PC    RA  SA1  test   PC   RA  SA1\n",
      "5     291     9   282    0    32    2   30    0\n",
      "15   2137  1289   848    0   238  133  105    0\n",
      "25   3310  2081  1229    0   367  233  134    0\n",
      "35   3907  2501  1406    0   434  262  172    0\n",
      "45   4352  2659  1693    0   484  294  190    0\n",
      "55   4573  2774  1799    0   508  314  194    0\n",
      "65   4778  2888  1890    0   530  324  206    0\n",
      "75   4918  2879  2038    1   547  325  222    0\n",
      "85   4956  2969  1987    0   551  324  226    1\n",
      "95   4887  2969  1918    0   543  319  224    0\n",
      "\n"
     ]
    }
   ],
   "source": [
    "for f in range(N_folds):\n",
    "    X_tr, y_tr = dataset.loc[dataset[f\"fold_{f}\"]==\"train\",feature_cols], dataset.loc[dataset[f\"fold_{f}\"]==\"train\", target_col]\n",
    "    X_test, y_test = dataset.loc[dataset[f\"fold_{f}\"]==\"test\",feature_cols], dataset.loc[dataset[f\"fold_{f}\"]==\"test\", target_col]\n",
    "    \n",
    "    y_counts = pd.concat([\n",
    "        y_tr.value_counts().rename(\"train\"), \n",
    "        X_tr[\"PC RA SA1\".split()].groupby(y_tr).sum(),\n",
    "        y_test.value_counts().rename(\"test\"),\n",
    "        X_test[\"PC RA SA1\".split()].groupby(y_test).sum()],1\n",
    "    )\n",
    "    \n",
    "    print(f\"fold_{f}\")\n",
    "    print(y_counts)\n",
    "    print()"
   ]
  },
  {
   "cell_type": "code",
   "execution_count": 113,
   "id": "c468732a-0bbe-48a1-8825-2bcface03325",
   "metadata": {},
   "outputs": [],
   "source": [
    "dataset[\"Afferent_Class\"] = dataset[[\"PC\", \"RA\", \"SA1\"]].idxmax(1)"
   ]
  },
  {
   "cell_type": "code",
   "execution_count": 114,
   "id": "21a78c9c-fa4a-42be-8ad7-e43914e90cfc",
   "metadata": {},
   "outputs": [
    {
     "data": {
      "text/plain": [
       "Afferent_Class  Frequency  fold_1\n",
       "PC              5          train       11\n",
       "                15         test       147\n",
       "                           train     1275\n",
       "                25         test       232\n",
       "                           train     2082\n",
       "                35         test       264\n",
       "                           train     2499\n",
       "                45         test       293\n",
       "                           train     2660\n",
       "                55         test       310\n",
       "                           train     2778\n",
       "                65         test       309\n",
       "                           train     2903\n",
       "                75         test       320\n",
       "                           train     2884\n",
       "                85         test       325\n",
       "                           train     2968\n",
       "                95         test       329\n",
       "                           train     2959\n",
       "RA              5          test        33\n",
       "                           train      279\n",
       "                15         test        90\n",
       "                           train      863\n",
       "                25         test       135\n",
       "                           train     1228\n",
       "                35         test       170\n",
       "                           train     1408\n",
       "                45         test       191\n",
       "                           train     1692\n",
       "                55         test       198\n",
       "                           train     1795\n",
       "                65         test       222\n",
       "                           train     1874\n",
       "                75         test       227\n",
       "                           train     2033\n",
       "                85         test       226\n",
       "                           train     1987\n",
       "                95         test       214\n",
       "                           train     1928\n",
       "SA1             75         train        1\n",
       "                85         train        1\n",
       "Name: fold_1, dtype: int64"
      ]
     },
     "execution_count": 114,
     "metadata": {},
     "output_type": "execute_result"
    }
   ],
   "source": [
    "dataset.groupby([\"Afferent_Class\",\"Frequency\"])[\"fold_1\"].value_counts().sort_index()"
   ]
  },
  {
   "cell_type": "code",
   "execution_count": null,
   "id": "a3948753-52ee-48c8-b612-eba4b3de3625",
   "metadata": {},
   "outputs": [],
   "source": []
  }
 ],
 "metadata": {
  "kernelspec": {
   "display_name": "Py3.8 (noaa)",
   "language": "python",
   "name": "noaa-runtime"
  },
  "language_info": {
   "codemirror_mode": {
    "name": "ipython",
    "version": 3
   },
   "file_extension": ".py",
   "mimetype": "text/x-python",
   "name": "python",
   "nbconvert_exporter": "python",
   "pygments_lexer": "ipython3",
   "version": "3.8.5"
  }
 },
 "nbformat": 4,
 "nbformat_minor": 5
}
