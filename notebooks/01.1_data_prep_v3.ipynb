{
 "cells": [
  {
   "cell_type": "code",
   "execution_count": 1,
   "id": "e2b67116-289b-477a-b41b-6ca71c5a5bac",
   "metadata": {},
   "outputs": [],
   "source": [
    "import numpy as np\n",
    "import pandas as pd\n",
    "\n",
    "import matplotlib.pyplot as plt"
   ]
  },
  {
   "cell_type": "code",
   "execution_count": 2,
   "id": "9f9aa24b-8764-481e-b244-5f5a5c4cc6c0",
   "metadata": {},
   "outputs": [],
   "source": [
    "pd.set_option('display.max_rows', None)\n",
    "pd.set_option('display.max_columns', None)\n",
    "pd.set_option('display.width', 12)\n",
    "pd.set_option('display.max_colwidth', 200)"
   ]
  },
  {
   "cell_type": "markdown",
   "id": "6761c283-8008-49f8-a5f4-d09437eb6270",
   "metadata": {},
   "source": [
    "# Utilities"
   ]
  },
  {
   "cell_type": "code",
   "execution_count": 3,
   "id": "227d4f0b-8f3b-413f-a0ec-a5dbd20d857f",
   "metadata": {},
   "outputs": [],
   "source": [
    "def eval_w(x):\n",
    "    try:\n",
    "        return eval(x)\n",
    "    except Exception as e:\n",
    "        print(x, e)\n",
    "        return []\n",
    "\n",
    "def check_list_lengths(series):\n",
    "    return series.apply(lambda x: len(x)).value_counts()\n",
    "        \n",
    "def np_from_str(string):\n",
    "    string = string.replace(\"[]\",\"\").replace(\"]\",\"\").replace(\"[\",\"\").replace(\".\",\"\")\n",
    "    float_list = [float(i.strip()) for i in string.split()]\n",
    "    return float_list"
   ]
  },
  {
   "cell_type": "markdown",
   "id": "694808f8-cd63-4225-a00f-029b6d507a98",
   "metadata": {},
   "source": [
    "# Main"
   ]
  },
  {
   "cell_type": "code",
   "execution_count": 135,
   "id": "cfcf7561-a1fb-4d58-a9cf-37d62ad05076",
   "metadata": {},
   "outputs": [],
   "source": [
    "inputfile = \"../data/TactSim_Draft4.pkl\""
   ]
  },
  {
   "cell_type": "code",
   "execution_count": 140,
   "id": "fee4d51d-5e1b-4c1f-8ab3-9d598da5a98e",
   "metadata": {},
   "outputs": [
    {
     "name": "stdout",
     "output_type": "stream",
     "text": [
      "(12499, 7)\n"
     ]
    },
    {
     "data": {
      "text/html": [
       "<div>\n",
       "<style scoped>\n",
       "    .dataframe tbody tr th:only-of-type {\n",
       "        vertical-align: middle;\n",
       "    }\n",
       "\n",
       "    .dataframe tbody tr th {\n",
       "        vertical-align: top;\n",
       "    }\n",
       "\n",
       "    .dataframe thead th {\n",
       "        text-align: right;\n",
       "    }\n",
       "</style>\n",
       "<table border=\"1\" class=\"dataframe\">\n",
       "  <thead>\n",
       "    <tr style=\"text-align: right;\">\n",
       "      <th></th>\n",
       "      <th>FiringRate</th>\n",
       "      <th>Spikes</th>\n",
       "      <th>Frequency</th>\n",
       "      <th>depth</th>\n",
       "      <th>Afferent_Class</th>\n",
       "      <th>duration</th>\n",
       "      <th>Pin_Radius</th>\n",
       "    </tr>\n",
       "  </thead>\n",
       "  <tbody>\n",
       "    <tr>\n",
       "      <th>0</th>\n",
       "      <td>(95.3,)</td>\n",
       "      <td>(0.001, 0.0098, 0.02, 0.0304, 0.0408, 0.0514, 0.0618, 0.0724, 0.0828, 0.0934, 0.104, 0.1144, 0.125, 0.1354, 0.146, 0.1566, 0.167, 0.1776, 0.1882, 0.1986, 0.2092, 0.2196, 0.2302, 0.2408, 0.2512, 0....</td>\n",
       "      <td>95</td>\n",
       "      <td>1.60</td>\n",
       "      <td>PC</td>\n",
       "      <td>1.763</td>\n",
       "      <td>1.07</td>\n",
       "    </tr>\n",
       "    <tr>\n",
       "      <th>1</th>\n",
       "      <td>(130.6,)</td>\n",
       "      <td>(0.001, 0.0064, 0.013, 0.0206, 0.028, 0.0358, 0.0432, 0.051, 0.0584, 0.0664, 0.0738, 0.0818, 0.0892, 0.0972, 0.1046, 0.1124, 0.1198, 0.1278, 0.1353, 0.1432, 0.1506, 0.1586, 0.166, 0.174, 0.1814, 0...</td>\n",
       "      <td>65</td>\n",
       "      <td>0.58</td>\n",
       "      <td>PC</td>\n",
       "      <td>1.034</td>\n",
       "      <td>1.39</td>\n",
       "    </tr>\n",
       "    <tr>\n",
       "      <th>2</th>\n",
       "      <td>(0.7627,)</td>\n",
       "      <td>(0.0494,)</td>\n",
       "      <td>95</td>\n",
       "      <td>2.04</td>\n",
       "      <td>RA</td>\n",
       "      <td>1.311</td>\n",
       "      <td>1.38</td>\n",
       "    </tr>\n",
       "  </tbody>\n",
       "</table>\n",
       "</div>"
      ],
      "text/plain": [
       "  FiringRate  \\\n",
       "0    (95.3,)   \n",
       "1   (130.6,)   \n",
       "2  (0.7627,)   \n",
       "\n",
       "                                                                                                                                                                                                    Spikes  \\\n",
       "0  (0.001, 0.0098, 0.02, 0.0304, 0.0408, 0.0514, 0.0618, 0.0724, 0.0828, 0.0934, 0.104, 0.1144, 0.125, 0.1354, 0.146, 0.1566, 0.167, 0.1776, 0.1882, 0.1986, 0.2092, 0.2196, 0.2302, 0.2408, 0.2512, 0....   \n",
       "1  (0.001, 0.0064, 0.013, 0.0206, 0.028, 0.0358, 0.0432, 0.051, 0.0584, 0.0664, 0.0738, 0.0818, 0.0892, 0.0972, 0.1046, 0.1124, 0.1198, 0.1278, 0.1353, 0.1432, 0.1506, 0.1586, 0.166, 0.174, 0.1814, 0...   \n",
       "2                                                                                                                                                                                                (0.0494,)   \n",
       "\n",
       "   Frequency  \\\n",
       "0         95   \n",
       "1         65   \n",
       "2         95   \n",
       "\n",
       "   depth  \\\n",
       "0   1.60   \n",
       "1   0.58   \n",
       "2   2.04   \n",
       "\n",
       "  Afferent_Class  \\\n",
       "0             PC   \n",
       "1             PC   \n",
       "2             RA   \n",
       "\n",
       "   duration  \\\n",
       "0     1.763   \n",
       "1     1.034   \n",
       "2     1.311   \n",
       "\n",
       "   Pin_Radius  \n",
       "0        1.07  \n",
       "1        1.39  \n",
       "2        1.38  "
      ]
     },
     "execution_count": 140,
     "metadata": {},
     "output_type": "execute_result"
    }
   ],
   "source": [
    "sim_df_v2 = pd.read_pickle(\"../data/TactSim-Draft2.pkl\")\n",
    "sim_df_v2['FiringRate'] = sim_df_v2['FiringRate'].apply(lambda x: tuple(x.astype(\"float16\")))\n",
    "sim_df_v2['Spikes'] = sim_df_v2['Spikes'].apply(lambda x: tuple(x.astype(\"float16\")))\n",
    "\n",
    "print(sim_df_v2.shape)\n",
    "sim_df_v2[:3]"
   ]
  },
  {
   "cell_type": "code",
   "execution_count": 149,
   "id": "2a925cc7-cbf2-4ddf-a489-2a2f22685b33",
   "metadata": {},
   "outputs": [
    {
     "name": "stdout",
     "output_type": "stream",
     "text": [
      "(37149, 7)\n"
     ]
    },
    {
     "data": {
      "text/html": [
       "<div>\n",
       "<style scoped>\n",
       "    .dataframe tbody tr th:only-of-type {\n",
       "        vertical-align: middle;\n",
       "    }\n",
       "\n",
       "    .dataframe tbody tr th {\n",
       "        vertical-align: top;\n",
       "    }\n",
       "\n",
       "    .dataframe thead th {\n",
       "        text-align: right;\n",
       "    }\n",
       "</style>\n",
       "<table border=\"1\" class=\"dataframe\">\n",
       "  <thead>\n",
       "    <tr style=\"text-align: right;\">\n",
       "      <th></th>\n",
       "      <th>FiringRate</th>\n",
       "      <th>Spikes</th>\n",
       "      <th>Frequency</th>\n",
       "      <th>depth</th>\n",
       "      <th>Afferent_Class</th>\n",
       "      <th>duration</th>\n",
       "      <th>Pin_Radius</th>\n",
       "    </tr>\n",
       "  </thead>\n",
       "  <tbody>\n",
       "    <tr>\n",
       "      <th>0</th>\n",
       "      <td>(0.0,)</td>\n",
       "      <td>()</td>\n",
       "      <td>25</td>\n",
       "      <td>2.79</td>\n",
       "      <td>SA1</td>\n",
       "      <td>1.110</td>\n",
       "      <td>0.76</td>\n",
       "    </tr>\n",
       "    <tr>\n",
       "      <th>1</th>\n",
       "      <td>(0.0,)</td>\n",
       "      <td>()</td>\n",
       "      <td>65</td>\n",
       "      <td>0.50</td>\n",
       "      <td>SA1</td>\n",
       "      <td>1.824</td>\n",
       "      <td>0.70</td>\n",
       "    </tr>\n",
       "    <tr>\n",
       "      <th>2</th>\n",
       "      <td>(0.0,)</td>\n",
       "      <td>()</td>\n",
       "      <td>25</td>\n",
       "      <td>0.42</td>\n",
       "      <td>SA1</td>\n",
       "      <td>1.139</td>\n",
       "      <td>1.31</td>\n",
       "    </tr>\n",
       "  </tbody>\n",
       "</table>\n",
       "</div>"
      ],
      "text/plain": [
       "  FiringRate  \\\n",
       "0     (0.0,)   \n",
       "1     (0.0,)   \n",
       "2     (0.0,)   \n",
       "\n",
       "  Spikes  \\\n",
       "0     ()   \n",
       "1     ()   \n",
       "2     ()   \n",
       "\n",
       "   Frequency  \\\n",
       "0         25   \n",
       "1         65   \n",
       "2         25   \n",
       "\n",
       "   depth  \\\n",
       "0   2.79   \n",
       "1   0.50   \n",
       "2   0.42   \n",
       "\n",
       "  Afferent_Class  \\\n",
       "0            SA1   \n",
       "1            SA1   \n",
       "2            SA1   \n",
       "\n",
       "   duration  \\\n",
       "0     1.110   \n",
       "1     1.824   \n",
       "2     1.139   \n",
       "\n",
       "   Pin_Radius  \n",
       "0        0.76  \n",
       "1        0.70  \n",
       "2        1.31  "
      ]
     },
     "execution_count": 149,
     "metadata": {},
     "output_type": "execute_result"
    }
   ],
   "source": [
    "sim_df = pd.read_pickle(inputfile)\n",
    "sim_df['FiringRate'] = sim_df['FiringRate'].apply(lambda x: tuple(x.astype(\"float16\")))\n",
    "sim_df['Spikes'] = sim_df['Spikes'].apply(lambda x: tuple(x.astype(\"float16\")))\n",
    "print(sim_df.shape)\n",
    "sim_df[:3]"
   ]
  },
  {
   "cell_type": "code",
   "execution_count": 150,
   "id": "35e545cd-4ee8-472a-945f-1bf9079d10cb",
   "metadata": {},
   "outputs": [
    {
     "data": {
      "text/plain": [
       "(49648, 7)"
      ]
     },
     "execution_count": 150,
     "metadata": {},
     "output_type": "execute_result"
    }
   ],
   "source": [
    "sim_df_v3 = pd.concat(\n",
    "    [sim_df_v2[\"FiringRate\tSpikes\tFrequency\tAfferent_Class depth Pin_Radius duration\".split()],\n",
    "     sim_df]\n",
    ").drop_duplicates()\n",
    "\n",
    "sim_df_v3.shape"
   ]
  },
  {
   "cell_type": "code",
   "execution_count": 151,
   "id": "0b2d0e13-f3fe-4641-8d0a-3b71e10fc179",
   "metadata": {},
   "outputs": [],
   "source": [
    "sim_df = sim_df_v3"
   ]
  },
  {
   "cell_type": "markdown",
   "id": "367aa931-5406-4e14-b973-2aa97d49db13",
   "metadata": {},
   "source": [
    "# Notes"
   ]
  },
  {
   "cell_type": "markdown",
   "id": "fdfcf4db-160c-4520-b820-343d04d119c0",
   "metadata": {},
   "source": [
    "- 21.5k Samples & 7 Columns\n",
    "- Columns\n",
    "  - Predictors\n",
    "      - FiringRate\n",
    "      - Spikes\n",
    "      - Afferent_Class\n",
    "  - Target\n",
    "      - Frequency"
   ]
  },
  {
   "cell_type": "markdown",
   "id": "0a5abb7d-b776-493b-998d-1c514136dead",
   "metadata": {},
   "source": [
    "## check data: FiringRate"
   ]
  },
  {
   "cell_type": "markdown",
   "id": "de75e173-e823-4c66-b66a-36f014dbd249",
   "metadata": {},
   "source": [
    "- Contains list with only one value"
   ]
  },
  {
   "cell_type": "code",
   "execution_count": 152,
   "id": "07ee2c09-2d0b-486c-82fd-a6df210e24a2",
   "metadata": {
    "tags": []
   },
   "outputs": [
    {
     "data": {
      "text/plain": [
       "1    49648\n",
       "Name: FiringRate, dtype: int64"
      ]
     },
     "execution_count": 152,
     "metadata": {},
     "output_type": "execute_result"
    }
   ],
   "source": [
    "check_list_lengths(sim_df[\"FiringRate\"])"
   ]
  },
  {
   "cell_type": "code",
   "execution_count": 176,
   "id": "e3b9a02b-b0a3-44f5-aafd-a9416cd6f307",
   "metadata": {},
   "outputs": [
    {
     "data": {
      "text/html": [
       "<div>\n",
       "<style scoped>\n",
       "    .dataframe tbody tr th:only-of-type {\n",
       "        vertical-align: middle;\n",
       "    }\n",
       "\n",
       "    .dataframe tbody tr th {\n",
       "        vertical-align: top;\n",
       "    }\n",
       "\n",
       "    .dataframe thead th {\n",
       "        text-align: right;\n",
       "    }\n",
       "</style>\n",
       "<table border=\"1\" class=\"dataframe\">\n",
       "  <thead>\n",
       "    <tr style=\"text-align: right;\">\n",
       "      <th></th>\n",
       "      <th>FiringRate</th>\n",
       "      <th>Spikes</th>\n",
       "      <th>Frequency</th>\n",
       "      <th>Afferent_Class</th>\n",
       "      <th>depth</th>\n",
       "      <th>Pin_Radius</th>\n",
       "      <th>duration</th>\n",
       "      <th>FiringRate_value</th>\n",
       "      <th>Spikes_n_items</th>\n",
       "    </tr>\n",
       "  </thead>\n",
       "  <tbody>\n",
       "    <tr>\n",
       "      <th>0</th>\n",
       "      <td>(95.3,)</td>\n",
       "      <td>(0.001, 0.0098, 0.02, 0.0304, 0.0408, 0.0514, 0.0618, 0.0724, 0.0828, 0.0934, 0.104, 0.1144, 0.125, 0.1354, 0.146, 0.1566, 0.167, 0.1776, 0.1882, 0.1986, 0.2092, 0.2196, 0.2302, 0.2408, 0.2512, 0....</td>\n",
       "      <td>95</td>\n",
       "      <td>PC</td>\n",
       "      <td>1.60</td>\n",
       "      <td>1.070</td>\n",
       "      <td>1.7630</td>\n",
       "      <td>95.3125</td>\n",
       "      <td>168</td>\n",
       "    </tr>\n",
       "    <tr>\n",
       "      <th>1</th>\n",
       "      <td>(130.6,)</td>\n",
       "      <td>(0.001, 0.0064, 0.013, 0.0206, 0.028, 0.0358, 0.0432, 0.051, 0.0584, 0.0664, 0.0738, 0.0818, 0.0892, 0.0972, 0.1046, 0.1124, 0.1198, 0.1278, 0.1353, 0.1432, 0.1506, 0.1586, 0.166, 0.174, 0.1814, 0...</td>\n",
       "      <td>65</td>\n",
       "      <td>PC</td>\n",
       "      <td>0.58</td>\n",
       "      <td>1.390</td>\n",
       "      <td>1.0340</td>\n",
       "      <td>130.6250</td>\n",
       "      <td>135</td>\n",
       "    </tr>\n",
       "    <tr>\n",
       "      <th>2</th>\n",
       "      <td>(35.25,)</td>\n",
       "      <td>(0.0262, 0.05, 0.0798, 0.104, 0.1344, 0.1584, 0.189, 0.2133, 0.2434, 0.2673, 0.298, 0.322, 0.3525, 0.3765, 0.407, 0.4312, 0.4617, 0.4856, 0.516, 0.54, 0.571, 0.5947, 0.625, 0.6494, 0.6797, 0.7036,...</td>\n",
       "      <td>55</td>\n",
       "      <td>PC</td>\n",
       "      <td>1.30</td>\n",
       "      <td>0.825</td>\n",
       "      <td>1.0215</td>\n",
       "      <td>35.2500</td>\n",
       "      <td>36</td>\n",
       "    </tr>\n",
       "  </tbody>\n",
       "</table>\n",
       "</div>"
      ],
      "text/plain": [
       "  FiringRate  \\\n",
       "0    (95.3,)   \n",
       "1   (130.6,)   \n",
       "2   (35.25,)   \n",
       "\n",
       "                                                                                                                                                                                                    Spikes  \\\n",
       "0  (0.001, 0.0098, 0.02, 0.0304, 0.0408, 0.0514, 0.0618, 0.0724, 0.0828, 0.0934, 0.104, 0.1144, 0.125, 0.1354, 0.146, 0.1566, 0.167, 0.1776, 0.1882, 0.1986, 0.2092, 0.2196, 0.2302, 0.2408, 0.2512, 0....   \n",
       "1  (0.001, 0.0064, 0.013, 0.0206, 0.028, 0.0358, 0.0432, 0.051, 0.0584, 0.0664, 0.0738, 0.0818, 0.0892, 0.0972, 0.1046, 0.1124, 0.1198, 0.1278, 0.1353, 0.1432, 0.1506, 0.1586, 0.166, 0.174, 0.1814, 0...   \n",
       "2  (0.0262, 0.05, 0.0798, 0.104, 0.1344, 0.1584, 0.189, 0.2133, 0.2434, 0.2673, 0.298, 0.322, 0.3525, 0.3765, 0.407, 0.4312, 0.4617, 0.4856, 0.516, 0.54, 0.571, 0.5947, 0.625, 0.6494, 0.6797, 0.7036,...   \n",
       "\n",
       "   Frequency  \\\n",
       "0         95   \n",
       "1         65   \n",
       "2         55   \n",
       "\n",
       "  Afferent_Class  \\\n",
       "0             PC   \n",
       "1             PC   \n",
       "2             PC   \n",
       "\n",
       "   depth  \\\n",
       "0   1.60   \n",
       "1   0.58   \n",
       "2   1.30   \n",
       "\n",
       "   Pin_Radius  \\\n",
       "0       1.070   \n",
       "1       1.390   \n",
       "2       0.825   \n",
       "\n",
       "   duration  \\\n",
       "0    1.7630   \n",
       "1    1.0340   \n",
       "2    1.0215   \n",
       "\n",
       "   FiringRate_value  \\\n",
       "0           95.3125   \n",
       "1          130.6250   \n",
       "2           35.2500   \n",
       "\n",
       "   Spikes_n_items  \n",
       "0             168  \n",
       "1             135  \n",
       "2              36  "
      ]
     },
     "execution_count": 176,
     "metadata": {},
     "output_type": "execute_result"
    }
   ],
   "source": [
    "sim_df[\"FiringRate_value\"] = sim_df[\"FiringRate\"].apply(lambda x: x[0])\n",
    "sim_df[:3]"
   ]
  },
  {
   "cell_type": "markdown",
   "id": "965c3ade-acd1-4ca0-994c-8022ac4b8ecb",
   "metadata": {},
   "source": [
    "## check data: Spikes"
   ]
  },
  {
   "cell_type": "markdown",
   "id": "9ea39568-d174-4ca2-931c-a0a61a17790f",
   "metadata": {},
   "source": [
    "| num of items | num of samples |\n",
    "| -- | -- |\n",
    "| 0 |   10914 | \n",
    "| 1 |     314 | \n",
    "| 2 |      165 | \n",
    "| 3 |       102 | \n",
    "| 4 |        78 | \n",
    "Sum = 11573"
   ]
  },
  {
   "cell_type": "code",
   "execution_count": 177,
   "id": "d7285ade-59bb-484b-b0c3-06ed76682cd1",
   "metadata": {},
   "outputs": [],
   "source": [
    "# sim_df[\"Spikes\"].apply(lambda x: len(x)).value_counts()[:30] # len of string"
   ]
  },
  {
   "cell_type": "code",
   "execution_count": 178,
   "id": "4cd184fe-6967-45e0-92b3-f1f3eddea0af",
   "metadata": {},
   "outputs": [
    {
     "data": {
      "image/png": "[encoded data removed]",
      "text/plain": [
       "<Figure size 432x288 with 1 Axes>"
      ]
     },
     "metadata": {
      "needs_background": "light"
     },
     "output_type": "display_data"
    }
   ],
   "source": [
    "sim_df[\"Spikes_n_items\"] = sim_df[\"Spikes\"].apply(lambda x: len(x))\n",
    "\n",
    "sim_df[\"Spikes\"].apply(lambda x: len(x)).value_counts()[:].plot(kind=\"hist\", bins=120);"
   ]
  },
  {
   "cell_type": "code",
   "execution_count": 179,
   "id": "5493704e-0bee-4d3f-af3a-bba8a6f0e571",
   "metadata": {},
   "outputs": [],
   "source": [
    "# choosing sample with >10 spike recorded\n",
    "sim_df[\"Spikes_n_items\"].value_counts().sort_index()\n",
    "sim_df = sim_df[sim_df[\"Spikes_n_items\"]>10].reset_index(drop=True)"
   ]
  },
  {
   "cell_type": "markdown",
   "id": "d7142f4b-c38b-42c5-be08-252ac505dea5",
   "metadata": {},
   "source": [
    "## check data: Afferent_Class"
   ]
  },
  {
   "cell_type": "code",
   "execution_count": 180,
   "id": "ff03dc47-b15d-4685-9241-614576624e1a",
   "metadata": {},
   "outputs": [
    {
     "data": {
      "text/plain": [
       "PC     25765\n",
       "RA     17676\n",
       "SA1       29\n",
       "Name: Afferent_Class, dtype: int64"
      ]
     },
     "execution_count": 180,
     "metadata": {},
     "output_type": "execute_result"
    }
   ],
   "source": [
    "sim_df[\"Afferent_Class\"].value_counts()"
   ]
  },
  {
   "cell_type": "code",
   "execution_count": 181,
   "id": "f7fa3a33-8727-4705-bc28-94395956a422",
   "metadata": {},
   "outputs": [
    {
     "data": {
      "text/plain": [
       "Afferent_Class    \n",
       "PC              49    266\n",
       "                46    265\n",
       "                47    255\n",
       "                48    251\n",
       "                42    235\n",
       "RA              34    261\n",
       "                36    252\n",
       "                39    248\n",
       "                29    244\n",
       "                24    238\n",
       "SA1             12      9\n",
       "                11      8\n",
       "                13      6\n",
       "                15      3\n",
       "                16      2\n",
       "Name: Spikes_n_items, dtype: int64"
      ]
     },
     "execution_count": 181,
     "metadata": {},
     "output_type": "execute_result"
    }
   ],
   "source": [
    "sim_df.groupby(\"Afferent_Class\")[\"Spikes_n_items\"].apply(lambda x: x.value_counts()[:5])"
   ]
  },
  {
   "cell_type": "markdown",
   "id": "7d2e296b-118b-4147-8e43-6b519570b0cc",
   "metadata": {},
   "source": [
    "## check data: Frequency"
   ]
  },
  {
   "cell_type": "code",
   "execution_count": 182,
   "id": "8d8bbd07-0469-40dd-a172-b611d36f64a0",
   "metadata": {},
   "outputs": [
    {
     "data": {
      "text/plain": [
       "5      446\n",
       "15    2536\n",
       "25    3782\n",
       "35    4458\n",
       "45    4952\n",
       "55    5174\n",
       "65    5421\n",
       "75    5560\n",
       "85    5610\n",
       "95    5531\n",
       "Name: Frequency, dtype: int64"
      ]
     },
     "execution_count": 182,
     "metadata": {},
     "output_type": "execute_result"
    }
   ],
   "source": [
    "sim_df[\"Frequency\"].value_counts().sort_index()"
   ]
  },
  {
   "cell_type": "code",
   "execution_count": 183,
   "id": "64a1c6b6-dbd0-47ac-9f07-bdabe1a43721",
   "metadata": {},
   "outputs": [
    {
     "data": {
      "text/plain": [
       "Afferent_Class  Frequency\n",
       "PC              5              50\n",
       "                15           1511\n",
       "                25           2338\n",
       "                35           2775\n",
       "                45           2976\n",
       "                55           3096\n",
       "                65           3222\n",
       "                75           3207\n",
       "                85           3302\n",
       "                95           3288\n",
       "RA              5             396\n",
       "                15           1025\n",
       "                25           1444\n",
       "                35           1683\n",
       "                45           1976\n",
       "                55           2077\n",
       "                65           2191\n",
       "                75           2344\n",
       "                85           2304\n",
       "                95           2236\n",
       "SA1             55              1\n",
       "                65              8\n",
       "                75              9\n",
       "                85              4\n",
       "                95              7\n",
       "Name: Frequency, dtype: int64"
      ]
     },
     "execution_count": 183,
     "metadata": {},
     "output_type": "execute_result"
    }
   ],
   "source": [
    "sim_df.groupby(\"Afferent_Class\")[\"Frequency\"].value_counts().sort_index()"
   ]
  },
  {
   "cell_type": "code",
   "execution_count": 184,
   "id": "22c11ce8-1e20-4e9b-a6de-2932326a287f",
   "metadata": {
    "tags": []
   },
   "outputs": [],
   "source": [
    "# sim_df.groupby([\"Afferent_Class\",\"Frequency\"])[\"Spikes_n_items\"].value_counts().sort_index()"
   ]
  },
  {
   "cell_type": "markdown",
   "id": "8adf2631-74c2-49e5-afa3-bc8433dfb3e4",
   "metadata": {},
   "source": [
    "# Visualize Data: spikes"
   ]
  },
  {
   "cell_type": "code",
   "execution_count": 185,
   "id": "c61a7e46-8372-4dc4-a430-2b5050e1de44",
   "metadata": {},
   "outputs": [
    {
     "data": {
      "text/plain": [
       "mean      108.656223\n",
       "median     73.000000\n",
       "Name: Spikes_n_items, dtype: float64"
      ]
     },
     "execution_count": 185,
     "metadata": {},
     "output_type": "execute_result"
    }
   ],
   "source": [
    "sim_df[\"Spikes_n_items\"].agg([\"mean\",\"median\"])"
   ]
  },
  {
   "cell_type": "code",
   "execution_count": 186,
   "id": "fe251817-ea63-4706-a7d8-d2c2595a1509",
   "metadata": {},
   "outputs": [
    {
     "data": {
      "text/plain": [
       "0    95\n",
       "1    65\n",
       "2    55\n",
       "3    65\n",
       "4    85\n",
       "Name: Frequency, dtype: int64"
      ]
     },
     "execution_count": 186,
     "metadata": {},
     "output_type": "execute_result"
    }
   ],
   "source": [
    "sim_df[\"Frequency\"][:5]"
   ]
  },
  {
   "cell_type": "code",
   "execution_count": 187,
   "id": "7c637cc5-25dd-4035-bd56-b84e812252d5",
   "metadata": {},
   "outputs": [
    {
     "data": {
      "text/plain": [
       "[<matplotlib.lines.Line2D at 0x7fe997bda8b0>]"
      ]
     },
     "execution_count": 187,
     "metadata": {},
     "output_type": "execute_result"
    },
    {
     "data": {
      "image/png": "[encoded data removed]",
      "text/plain": [
       "<Figure size 432x288 with 1 Axes>"
      ]
     },
     "metadata": {
      "needs_background": "light"
     },
     "output_type": "display_data"
    }
   ],
   "source": [
    "plt.plot(sim_df[\"Spikes\"][0][:70], \".\")\n",
    "plt.plot(sim_df[\"Spikes\"][1][:70], \".\")\n",
    "plt.plot(sim_df[\"Spikes\"][2][:70], \".\")\n",
    "plt.plot(sim_df[\"Spikes\"][3][:70], \".\")\n",
    "plt.plot(sim_df[\"Spikes\"][4][:70], \".\")"
   ]
  },
  {
   "cell_type": "markdown",
   "id": "a211b726-2176-4993-9a57-050a9b37f608",
   "metadata": {},
   "source": [
    "# Feature Engineering"
   ]
  },
  {
   "cell_type": "code",
   "execution_count": 188,
   "id": "d5ae36b2-90c1-4868-91f2-e7f5a5a9a782",
   "metadata": {},
   "outputs": [],
   "source": [
    "sim_df_feat = pd.concat([sim_df,pd.get_dummies(sim_df[\"Afferent_Class\"])],1)"
   ]
  },
  {
   "cell_type": "code",
   "execution_count": 189,
   "id": "e8ea399d-e9ff-42ca-9fa2-d9186c006504",
   "metadata": {},
   "outputs": [
    {
     "name": "stderr",
     "output_type": "stream",
     "text": [
      "/home/minesh_1291/anaconda3/envs/noaa-runtime/lib/python3.8/site-packages/numpy/lib/nanfunctions.py:1113: RuntimeWarning: All-NaN slice encountered\n",
      "  r, k = function_base._ureduce(a, func=_nanmedian, axis=axis, out=out,\n"
     ]
    },
    {
     "name": "stdout",
     "output_type": "stream",
     "text": [
      "CPU times: user 1min 15s, sys: 35.5 ms, total: 1min 15s\n",
      "Wall time: 1min 16s\n"
     ]
    }
   ],
   "source": [
    "%%time\n",
    "\n",
    "def diff_feats(x, func, period=2):\n",
    "    tmp_sr = pd.Series(x)\n",
    "    if len(tmp_sr)>1:\n",
    "        res = func(pd.Series.diff(tmp_sr, period))\n",
    "        if res == np.nan:\n",
    "            return -1\n",
    "        return func(pd.Series.diff(tmp_sr, period))\n",
    "    else:\n",
    "        return -1\n",
    "\n",
    "sim_df_feat[\"Spikes_diff_mean_5\"] = sim_df_feat[\"Spikes\"].apply(lambda x: diff_feats(x, period=5, func=np.mean))\n",
    "sim_df_feat[\"Spikes_diff_mean_15\"] = sim_df_feat[\"Spikes\"].apply(lambda x: diff_feats(x, period=15, func=np.mean))\n",
    "\n",
    "\n",
    "sim_df_feat[\"Spikes_diff_median_5\"] = sim_df_feat[\"Spikes\"].apply(lambda x: diff_feats(x, period=5, func=np.nanmedian))\n",
    "sim_df_feat[\"Spikes_diff_median_15\"] = sim_df_feat[\"Spikes\"].apply(lambda x: diff_feats(x, period=15, func=np.nanmedian))\n"
   ]
  },
  {
   "cell_type": "code",
   "execution_count": 190,
   "id": "5024c7f1-eb5f-4537-8048-afebe0ed29c5",
   "metadata": {},
   "outputs": [],
   "source": [
    "# tryout\n",
    "# np.nanmedian(\n",
    "#     pd.Series.diff(\n",
    "#         pd.Series(\n",
    "#             (0.001, 0.0098, 0.02, 0.0304, 0.040799999999999996, 0.0514, 0.0618, 0.0724, 0.08280000000000001, 0.09340000000000001)\n",
    "#         ), \n",
    "#         5\n",
    "#     )\n",
    "# )"
   ]
  },
  {
   "cell_type": "code",
   "execution_count": 191,
   "id": "c025c6e2-0513-4bbb-9863-0f4ba16eb142",
   "metadata": {},
   "outputs": [
    {
     "name": "stdout",
     "output_type": "stream",
     "text": [
      "CPU times: user 74.9 ms, sys: 0 ns, total: 74.9 ms\n",
      "Wall time: 76.5 ms\n"
     ]
    }
   ],
   "source": [
    "%%time\n",
    "\n",
    "def diff_time_inrange(x, start=0, end=10):\n",
    "    if len(x)>end:\n",
    "        return x[end]-x[start]\n",
    "    else:\n",
    "        return -1\n",
    "\n",
    "sim_df_feat[\"Spikes_diff_time_inrange_10\"] = sim_df_feat[\"Spikes\"].apply(lambda x: diff_time_inrange(x))\n",
    "sim_df_feat[\"Spikes_diff_time_inrange_20\"] = sim_df_feat[\"Spikes\"].apply(lambda x: diff_time_inrange(x, 10, 20))"
   ]
  },
  {
   "cell_type": "markdown",
   "id": "bd4c0662-0881-4465-9c05-86d42a8de342",
   "metadata": {},
   "source": [
    "# Feature Explore/Viz"
   ]
  },
  {
   "cell_type": "code",
   "execution_count": 192,
   "id": "83a2df3f-092d-41fd-8097-cb0b9c5a9a00",
   "metadata": {},
   "outputs": [
    {
     "name": "stdout",
     "output_type": "stream",
     "text": [
      "(43470, 18)\n"
     ]
    },
    {
     "data": {
      "text/plain": [
       "FiringRate                        0\n",
       "Spikes                            0\n",
       "Frequency                         0\n",
       "Afferent_Class                    0\n",
       "depth                             0\n",
       "Pin_Radius                        0\n",
       "duration                          0\n",
       "FiringRate_value                  0\n",
       "Spikes_n_items                    0\n",
       "PC                                0\n",
       "RA                                0\n",
       "SA1                               0\n",
       "Spikes_diff_mean_5                0\n",
       "Spikes_diff_mean_15            1127\n",
       "Spikes_diff_median_5              0\n",
       "Spikes_diff_median_15          1127\n",
       "Spikes_diff_time_inrange_10       0\n",
       "Spikes_diff_time_inrange_20       0\n",
       "dtype: int64"
      ]
     },
     "execution_count": 192,
     "metadata": {},
     "output_type": "execute_result"
    }
   ],
   "source": [
    "print(sim_df_feat.shape)\n",
    "sim_df_feat.isna().sum()"
   ]
  },
  {
   "cell_type": "code",
   "execution_count": 193,
   "id": "27e30f92-f43d-4df6-b881-0eab5ed1cbe1",
   "metadata": {},
   "outputs": [],
   "source": [
    "sim_df_feat = sim_df_feat.dropna()"
   ]
  },
  {
   "cell_type": "code",
   "execution_count": 194,
   "id": "e9d50e1a-d25c-4a5d-9efe-a2f6daa88a34",
   "metadata": {},
   "outputs": [
    {
     "data": {
      "text/html": [
       "<style  type=\"text/css\" >\n",
       "#T_47566e1e_dc2f_11eb_8661_1bead2d2d6f9row0_col0,#T_47566e1e_dc2f_11eb_8661_1bead2d2d6f9row1_col1,#T_47566e1e_dc2f_11eb_8661_1bead2d2d6f9row2_col2,#T_47566e1e_dc2f_11eb_8661_1bead2d2d6f9row3_col3,#T_47566e1e_dc2f_11eb_8661_1bead2d2d6f9row4_col4,#T_47566e1e_dc2f_11eb_8661_1bead2d2d6f9row5_col5,#T_47566e1e_dc2f_11eb_8661_1bead2d2d6f9row6_col6,#T_47566e1e_dc2f_11eb_8661_1bead2d2d6f9row7_col7,#T_47566e1e_dc2f_11eb_8661_1bead2d2d6f9row8_col8,#T_47566e1e_dc2f_11eb_8661_1bead2d2d6f9row9_col9,#T_47566e1e_dc2f_11eb_8661_1bead2d2d6f9row9_col10,#T_47566e1e_dc2f_11eb_8661_1bead2d2d6f9row9_col11,#T_47566e1e_dc2f_11eb_8661_1bead2d2d6f9row9_col12,#T_47566e1e_dc2f_11eb_8661_1bead2d2d6f9row9_col13,#T_47566e1e_dc2f_11eb_8661_1bead2d2d6f9row10_col9,#T_47566e1e_dc2f_11eb_8661_1bead2d2d6f9row10_col10,#T_47566e1e_dc2f_11eb_8661_1bead2d2d6f9row10_col11,#T_47566e1e_dc2f_11eb_8661_1bead2d2d6f9row10_col12,#T_47566e1e_dc2f_11eb_8661_1bead2d2d6f9row10_col13,#T_47566e1e_dc2f_11eb_8661_1bead2d2d6f9row11_col9,#T_47566e1e_dc2f_11eb_8661_1bead2d2d6f9row11_col10,#T_47566e1e_dc2f_11eb_8661_1bead2d2d6f9row11_col11,#T_47566e1e_dc2f_11eb_8661_1bead2d2d6f9row11_col12,#T_47566e1e_dc2f_11eb_8661_1bead2d2d6f9row12_col9,#T_47566e1e_dc2f_11eb_8661_1bead2d2d6f9row12_col10,#T_47566e1e_dc2f_11eb_8661_1bead2d2d6f9row12_col11,#T_47566e1e_dc2f_11eb_8661_1bead2d2d6f9row12_col12,#T_47566e1e_dc2f_11eb_8661_1bead2d2d6f9row12_col13,#T_47566e1e_dc2f_11eb_8661_1bead2d2d6f9row13_col9,#T_47566e1e_dc2f_11eb_8661_1bead2d2d6f9row13_col10,#T_47566e1e_dc2f_11eb_8661_1bead2d2d6f9row13_col12,#T_47566e1e_dc2f_11eb_8661_1bead2d2d6f9row13_col13,#T_47566e1e_dc2f_11eb_8661_1bead2d2d6f9row14_col14{\n",
       "            background-color:  #b40426;\n",
       "            color:  #f1f1f1;\n",
       "        }#T_47566e1e_dc2f_11eb_8661_1bead2d2d6f9row0_col1{\n",
       "            background-color:  #bed2f6;\n",
       "            color:  #000000;\n",
       "        }#T_47566e1e_dc2f_11eb_8661_1bead2d2d6f9row0_col2,#T_47566e1e_dc2f_11eb_8661_1bead2d2d6f9row2_col3,#T_47566e1e_dc2f_11eb_8661_1bead2d2d6f9row4_col2,#T_47566e1e_dc2f_11eb_8661_1bead2d2d6f9row5_col1,#T_47566e1e_dc2f_11eb_8661_1bead2d2d6f9row5_col2,#T_47566e1e_dc2f_11eb_8661_1bead2d2d6f9row13_col4,#T_47566e1e_dc2f_11eb_8661_1bead2d2d6f9row13_col5,#T_47566e1e_dc2f_11eb_8661_1bead2d2d6f9row14_col2{\n",
       "            background-color:  #3d50c3;\n",
       "            color:  #f1f1f1;\n",
       "        }#T_47566e1e_dc2f_11eb_8661_1bead2d2d6f9row0_col3,#T_47566e1e_dc2f_11eb_8661_1bead2d2d6f9row1_col2,#T_47566e1e_dc2f_11eb_8661_1bead2d2d6f9row4_col3,#T_47566e1e_dc2f_11eb_8661_1bead2d2d6f9row13_col0{\n",
       "            background-color:  #3c4ec2;\n",
       "            color:  #f1f1f1;\n",
       "        }#T_47566e1e_dc2f_11eb_8661_1bead2d2d6f9row0_col4{\n",
       "            background-color:  #f7b497;\n",
       "            color:  #000000;\n",
       "        }#T_47566e1e_dc2f_11eb_8661_1bead2d2d6f9row0_col5{\n",
       "            background-color:  #f7ba9f;\n",
       "            color:  #000000;\n",
       "        }#T_47566e1e_dc2f_11eb_8661_1bead2d2d6f9row0_col6,#T_47566e1e_dc2f_11eb_8661_1bead2d2d6f9row2_col7{\n",
       "            background-color:  #dddcdc;\n",
       "            color:  #000000;\n",
       "        }#T_47566e1e_dc2f_11eb_8661_1bead2d2d6f9row0_col7,#T_47566e1e_dc2f_11eb_8661_1bead2d2d6f9row2_col6,#T_47566e1e_dc2f_11eb_8661_1bead2d2d6f9row8_col7{\n",
       "            background-color:  #dcdddd;\n",
       "            color:  #000000;\n",
       "        }#T_47566e1e_dc2f_11eb_8661_1bead2d2d6f9row0_col8{\n",
       "            background-color:  #455cce;\n",
       "            color:  #f1f1f1;\n",
       "        }#T_47566e1e_dc2f_11eb_8661_1bead2d2d6f9row0_col9,#T_47566e1e_dc2f_11eb_8661_1bead2d2d6f9row0_col10,#T_47566e1e_dc2f_11eb_8661_1bead2d2d6f9row0_col11,#T_47566e1e_dc2f_11eb_8661_1bead2d2d6f9row0_col12,#T_47566e1e_dc2f_11eb_8661_1bead2d2d6f9row0_col13,#T_47566e1e_dc2f_11eb_8661_1bead2d2d6f9row14_col3{\n",
       "            background-color:  #6788ee;\n",
       "            color:  #000000;\n",
       "        }#T_47566e1e_dc2f_11eb_8661_1bead2d2d6f9row0_col14{\n",
       "            background-color:  #5b7ae5;\n",
       "            color:  #000000;\n",
       "        }#T_47566e1e_dc2f_11eb_8661_1bead2d2d6f9row1_col0,#T_47566e1e_dc2f_11eb_8661_1bead2d2d6f9row3_col10,#T_47566e1e_dc2f_11eb_8661_1bead2d2d6f9row14_col13{\n",
       "            background-color:  #cedaeb;\n",
       "            color:  #000000;\n",
       "        }#T_47566e1e_dc2f_11eb_8661_1bead2d2d6f9row1_col3,#T_47566e1e_dc2f_11eb_8661_1bead2d2d6f9row5_col9,#T_47566e1e_dc2f_11eb_8661_1bead2d2d6f9row5_col10,#T_47566e1e_dc2f_11eb_8661_1bead2d2d6f9row5_col11,#T_47566e1e_dc2f_11eb_8661_1bead2d2d6f9row5_col12,#T_47566e1e_dc2f_11eb_8661_1bead2d2d6f9row5_col13,#T_47566e1e_dc2f_11eb_8661_1bead2d2d6f9row8_col2{\n",
       "            background-color:  #3f53c6;\n",
       "            color:  #f1f1f1;\n",
       "        }#T_47566e1e_dc2f_11eb_8661_1bead2d2d6f9row1_col4,#T_47566e1e_dc2f_11eb_8661_1bead2d2d6f9row5_col3{\n",
       "            background-color:  #82a6fb;\n",
       "            color:  #000000;\n",
       "        }#T_47566e1e_dc2f_11eb_8661_1bead2d2d6f9row1_col5,#T_47566e1e_dc2f_11eb_8661_1bead2d2d6f9row2_col14{\n",
       "            background-color:  #80a3fa;\n",
       "            color:  #000000;\n",
       "        }#T_47566e1e_dc2f_11eb_8661_1bead2d2d6f9row1_col6{\n",
       "            background-color:  #f6bda2;\n",
       "            color:  #000000;\n",
       "        }#T_47566e1e_dc2f_11eb_8661_1bead2d2d6f9row1_col7{\n",
       "            background-color:  #afcafc;\n",
       "            color:  #000000;\n",
       "        }#T_47566e1e_dc2f_11eb_8661_1bead2d2d6f9row1_col8,#T_47566e1e_dc2f_11eb_8661_1bead2d2d6f9row4_col8,#T_47566e1e_dc2f_11eb_8661_1bead2d2d6f9row6_col8{\n",
       "            background-color:  #4055c8;\n",
       "            color:  #f1f1f1;\n",
       "        }#T_47566e1e_dc2f_11eb_8661_1bead2d2d6f9row1_col9,#T_47566e1e_dc2f_11eb_8661_1bead2d2d6f9row1_col10,#T_47566e1e_dc2f_11eb_8661_1bead2d2d6f9row1_col11,#T_47566e1e_dc2f_11eb_8661_1bead2d2d6f9row1_col12,#T_47566e1e_dc2f_11eb_8661_1bead2d2d6f9row6_col5{\n",
       "            background-color:  #e8d6cc;\n",
       "            color:  #000000;\n",
       "        }#T_47566e1e_dc2f_11eb_8661_1bead2d2d6f9row1_col13{\n",
       "            background-color:  #e7d7ce;\n",
       "            color:  #000000;\n",
       "        }#T_47566e1e_dc2f_11eb_8661_1bead2d2d6f9row1_col14{\n",
       "            background-color:  #9bbcff;\n",
       "            color:  #000000;\n",
       "        }#T_47566e1e_dc2f_11eb_8661_1bead2d2d6f9row2_col0,#T_47566e1e_dc2f_11eb_8661_1bead2d2d6f9row6_col0{\n",
       "            background-color:  #a5c3fe;\n",
       "            color:  #000000;\n",
       "        }#T_47566e1e_dc2f_11eb_8661_1bead2d2d6f9row2_col1{\n",
       "            background-color:  #8caffe;\n",
       "            color:  #000000;\n",
       "        }#T_47566e1e_dc2f_11eb_8661_1bead2d2d6f9row2_col4{\n",
       "            background-color:  #c5d6f2;\n",
       "            color:  #000000;\n",
       "        }#T_47566e1e_dc2f_11eb_8661_1bead2d2d6f9row2_col5,#T_47566e1e_dc2f_11eb_8661_1bead2d2d6f9row2_col13{\n",
       "            background-color:  #c1d4f4;\n",
       "            color:  #000000;\n",
       "        }#T_47566e1e_dc2f_11eb_8661_1bead2d2d6f9row2_col8,#T_47566e1e_dc2f_11eb_8661_1bead2d2d6f9row3_col8{\n",
       "            background-color:  #465ecf;\n",
       "            color:  #f1f1f1;\n",
       "        }#T_47566e1e_dc2f_11eb_8661_1bead2d2d6f9row2_col9,#T_47566e1e_dc2f_11eb_8661_1bead2d2d6f9row2_col10,#T_47566e1e_dc2f_11eb_8661_1bead2d2d6f9row2_col12,#T_47566e1e_dc2f_11eb_8661_1bead2d2d6f9row3_col4{\n",
       "            background-color:  #c3d5f4;\n",
       "            color:  #000000;\n",
       "        }#T_47566e1e_dc2f_11eb_8661_1bead2d2d6f9row2_col11,#T_47566e1e_dc2f_11eb_8661_1bead2d2d6f9row8_col4{\n",
       "            background-color:  #c4d5f3;\n",
       "            color:  #000000;\n",
       "        }#T_47566e1e_dc2f_11eb_8661_1bead2d2d6f9row3_col0{\n",
       "            background-color:  #a2c1ff;\n",
       "            color:  #000000;\n",
       "        }#T_47566e1e_dc2f_11eb_8661_1bead2d2d6f9row3_col1,#T_47566e1e_dc2f_11eb_8661_1bead2d2d6f9row14_col5{\n",
       "            background-color:  #8db0fe;\n",
       "            color:  #000000;\n",
       "        }#T_47566e1e_dc2f_11eb_8661_1bead2d2d6f9row3_col2,#T_47566e1e_dc2f_11eb_8661_1bead2d2d6f9row4_col1,#T_47566e1e_dc2f_11eb_8661_1bead2d2d6f9row4_col9,#T_47566e1e_dc2f_11eb_8661_1bead2d2d6f9row4_col10,#T_47566e1e_dc2f_11eb_8661_1bead2d2d6f9row4_col11,#T_47566e1e_dc2f_11eb_8661_1bead2d2d6f9row4_col12,#T_47566e1e_dc2f_11eb_8661_1bead2d2d6f9row4_col13,#T_47566e1e_dc2f_11eb_8661_1bead2d2d6f9row4_col14,#T_47566e1e_dc2f_11eb_8661_1bead2d2d6f9row6_col2,#T_47566e1e_dc2f_11eb_8661_1bead2d2d6f9row6_col3,#T_47566e1e_dc2f_11eb_8661_1bead2d2d6f9row6_col7,#T_47566e1e_dc2f_11eb_8661_1bead2d2d6f9row7_col6,#T_47566e1e_dc2f_11eb_8661_1bead2d2d6f9row9_col0,#T_47566e1e_dc2f_11eb_8661_1bead2d2d6f9row9_col2,#T_47566e1e_dc2f_11eb_8661_1bead2d2d6f9row9_col4,#T_47566e1e_dc2f_11eb_8661_1bead2d2d6f9row9_col5,#T_47566e1e_dc2f_11eb_8661_1bead2d2d6f9row10_col0,#T_47566e1e_dc2f_11eb_8661_1bead2d2d6f9row10_col2,#T_47566e1e_dc2f_11eb_8661_1bead2d2d6f9row10_col4,#T_47566e1e_dc2f_11eb_8661_1bead2d2d6f9row10_col5,#T_47566e1e_dc2f_11eb_8661_1bead2d2d6f9row11_col0,#T_47566e1e_dc2f_11eb_8661_1bead2d2d6f9row11_col2,#T_47566e1e_dc2f_11eb_8661_1bead2d2d6f9row11_col4,#T_47566e1e_dc2f_11eb_8661_1bead2d2d6f9row11_col5,#T_47566e1e_dc2f_11eb_8661_1bead2d2d6f9row12_col0,#T_47566e1e_dc2f_11eb_8661_1bead2d2d6f9row12_col2,#T_47566e1e_dc2f_11eb_8661_1bead2d2d6f9row12_col4,#T_47566e1e_dc2f_11eb_8661_1bead2d2d6f9row12_col5,#T_47566e1e_dc2f_11eb_8661_1bead2d2d6f9row13_col2,#T_47566e1e_dc2f_11eb_8661_1bead2d2d6f9row14_col8{\n",
       "            background-color:  #3b4cc0;\n",
       "            color:  #f1f1f1;\n",
       "        }#T_47566e1e_dc2f_11eb_8661_1bead2d2d6f9row3_col5{\n",
       "            background-color:  #e4d9d2;\n",
       "            color:  #000000;\n",
       "        }#T_47566e1e_dc2f_11eb_8661_1bead2d2d6f9row3_col6,#T_47566e1e_dc2f_11eb_8661_1bead2d2d6f9row8_col6{\n",
       "            background-color:  #dbdcde;\n",
       "            color:  #000000;\n",
       "        }#T_47566e1e_dc2f_11eb_8661_1bead2d2d6f9row3_col7{\n",
       "            background-color:  #dedcdb;\n",
       "            color:  #000000;\n",
       "        }#T_47566e1e_dc2f_11eb_8661_1bead2d2d6f9row3_col9,#T_47566e1e_dc2f_11eb_8661_1bead2d2d6f9row3_col11,#T_47566e1e_dc2f_11eb_8661_1bead2d2d6f9row3_col12,#T_47566e1e_dc2f_11eb_8661_1bead2d2d6f9row3_col13{\n",
       "            background-color:  #cdd9ec;\n",
       "            color:  #000000;\n",
       "        }#T_47566e1e_dc2f_11eb_8661_1bead2d2d6f9row3_col14,#T_47566e1e_dc2f_11eb_8661_1bead2d2d6f9row7_col0{\n",
       "            background-color:  #a3c2fe;\n",
       "            color:  #000000;\n",
       "        }#T_47566e1e_dc2f_11eb_8661_1bead2d2d6f9row4_col0{\n",
       "            background-color:  #f4c5ad;\n",
       "            color:  #000000;\n",
       "        }#T_47566e1e_dc2f_11eb_8661_1bead2d2d6f9row4_col5,#T_47566e1e_dc2f_11eb_8661_1bead2d2d6f9row5_col4{\n",
       "            background-color:  #bd1f2d;\n",
       "            color:  #f1f1f1;\n",
       "        }#T_47566e1e_dc2f_11eb_8661_1bead2d2d6f9row4_col6,#T_47566e1e_dc2f_11eb_8661_1bead2d2d6f9row9_col7,#T_47566e1e_dc2f_11eb_8661_1bead2d2d6f9row10_col7,#T_47566e1e_dc2f_11eb_8661_1bead2d2d6f9row11_col7,#T_47566e1e_dc2f_11eb_8661_1bead2d2d6f9row12_col7,#T_47566e1e_dc2f_11eb_8661_1bead2d2d6f9row13_col7{\n",
       "            background-color:  #f5c4ac;\n",
       "            color:  #000000;\n",
       "        }#T_47566e1e_dc2f_11eb_8661_1bead2d2d6f9row4_col7,#T_47566e1e_dc2f_11eb_8661_1bead2d2d6f9row9_col6,#T_47566e1e_dc2f_11eb_8661_1bead2d2d6f9row10_col6,#T_47566e1e_dc2f_11eb_8661_1bead2d2d6f9row11_col6,#T_47566e1e_dc2f_11eb_8661_1bead2d2d6f9row12_col6{\n",
       "            background-color:  #b7cff9;\n",
       "            color:  #000000;\n",
       "        }#T_47566e1e_dc2f_11eb_8661_1bead2d2d6f9row5_col0{\n",
       "            background-color:  #f3c8b2;\n",
       "            color:  #000000;\n",
       "        }#T_47566e1e_dc2f_11eb_8661_1bead2d2d6f9row5_col6{\n",
       "            background-color:  #f4c6af;\n",
       "            color:  #000000;\n",
       "        }#T_47566e1e_dc2f_11eb_8661_1bead2d2d6f9row5_col7{\n",
       "            background-color:  #bad0f8;\n",
       "            color:  #000000;\n",
       "        }#T_47566e1e_dc2f_11eb_8661_1bead2d2d6f9row5_col8,#T_47566e1e_dc2f_11eb_8661_1bead2d2d6f9row7_col1,#T_47566e1e_dc2f_11eb_8661_1bead2d2d6f9row7_col8,#T_47566e1e_dc2f_11eb_8661_1bead2d2d6f9row8_col3{\n",
       "            background-color:  #4257c9;\n",
       "            color:  #f1f1f1;\n",
       "        }#T_47566e1e_dc2f_11eb_8661_1bead2d2d6f9row5_col14,#T_47566e1e_dc2f_11eb_8661_1bead2d2d6f9row7_col2{\n",
       "            background-color:  #3e51c5;\n",
       "            color:  #f1f1f1;\n",
       "        }#T_47566e1e_dc2f_11eb_8661_1bead2d2d6f9row6_col1,#T_47566e1e_dc2f_11eb_8661_1bead2d2d6f9row14_col6{\n",
       "            background-color:  #d6dce4;\n",
       "            color:  #000000;\n",
       "        }#T_47566e1e_dc2f_11eb_8661_1bead2d2d6f9row6_col4,#T_47566e1e_dc2f_11eb_8661_1bead2d2d6f9row7_col9,#T_47566e1e_dc2f_11eb_8661_1bead2d2d6f9row7_col10,#T_47566e1e_dc2f_11eb_8661_1bead2d2d6f9row7_col11,#T_47566e1e_dc2f_11eb_8661_1bead2d2d6f9row7_col12,#T_47566e1e_dc2f_11eb_8661_1bead2d2d6f9row7_col13{\n",
       "            background-color:  #ebd3c6;\n",
       "            color:  #000000;\n",
       "        }#T_47566e1e_dc2f_11eb_8661_1bead2d2d6f9row6_col9,#T_47566e1e_dc2f_11eb_8661_1bead2d2d6f9row6_col10,#T_47566e1e_dc2f_11eb_8661_1bead2d2d6f9row6_col11,#T_47566e1e_dc2f_11eb_8661_1bead2d2d6f9row6_col12,#T_47566e1e_dc2f_11eb_8661_1bead2d2d6f9row7_col4{\n",
       "            background-color:  #93b5fe;\n",
       "            color:  #000000;\n",
       "        }#T_47566e1e_dc2f_11eb_8661_1bead2d2d6f9row6_col13,#T_47566e1e_dc2f_11eb_8661_1bead2d2d6f9row7_col14,#T_47566e1e_dc2f_11eb_8661_1bead2d2d6f9row14_col4{\n",
       "            background-color:  #8fb1fe;\n",
       "            color:  #000000;\n",
       "        }#T_47566e1e_dc2f_11eb_8661_1bead2d2d6f9row6_col14{\n",
       "            background-color:  #7295f4;\n",
       "            color:  #000000;\n",
       "        }#T_47566e1e_dc2f_11eb_8661_1bead2d2d6f9row7_col3{\n",
       "            background-color:  #4358cb;\n",
       "            color:  #f1f1f1;\n",
       "        }#T_47566e1e_dc2f_11eb_8661_1bead2d2d6f9row7_col5,#T_47566e1e_dc2f_11eb_8661_1bead2d2d6f9row13_col14{\n",
       "            background-color:  #92b4fe;\n",
       "            color:  #000000;\n",
       "        }#T_47566e1e_dc2f_11eb_8661_1bead2d2d6f9row8_col0{\n",
       "            background-color:  #a6c4fe;\n",
       "            color:  #000000;\n",
       "        }#T_47566e1e_dc2f_11eb_8661_1bead2d2d6f9row8_col1{\n",
       "            background-color:  #8badfd;\n",
       "            color:  #000000;\n",
       "        }#T_47566e1e_dc2f_11eb_8661_1bead2d2d6f9row8_col5{\n",
       "            background-color:  #c0d4f5;\n",
       "            color:  #000000;\n",
       "        }#T_47566e1e_dc2f_11eb_8661_1bead2d2d6f9row8_col9,#T_47566e1e_dc2f_11eb_8661_1bead2d2d6f9row8_col10,#T_47566e1e_dc2f_11eb_8661_1bead2d2d6f9row8_col11,#T_47566e1e_dc2f_11eb_8661_1bead2d2d6f9row8_col12{\n",
       "            background-color:  #cbd8ee;\n",
       "            color:  #000000;\n",
       "        }#T_47566e1e_dc2f_11eb_8661_1bead2d2d6f9row8_col13{\n",
       "            background-color:  #cad8ef;\n",
       "            color:  #000000;\n",
       "        }#T_47566e1e_dc2f_11eb_8661_1bead2d2d6f9row8_col14{\n",
       "            background-color:  #779af7;\n",
       "            color:  #000000;\n",
       "        }#T_47566e1e_dc2f_11eb_8661_1bead2d2d6f9row9_col1,#T_47566e1e_dc2f_11eb_8661_1bead2d2d6f9row10_col1,#T_47566e1e_dc2f_11eb_8661_1bead2d2d6f9row11_col1,#T_47566e1e_dc2f_11eb_8661_1bead2d2d6f9row12_col1,#T_47566e1e_dc2f_11eb_8661_1bead2d2d6f9row13_col1{\n",
       "            background-color:  #c6d6f1;\n",
       "            color:  #000000;\n",
       "        }#T_47566e1e_dc2f_11eb_8661_1bead2d2d6f9row9_col3,#T_47566e1e_dc2f_11eb_8661_1bead2d2d6f9row10_col3,#T_47566e1e_dc2f_11eb_8661_1bead2d2d6f9row12_col3,#T_47566e1e_dc2f_11eb_8661_1bead2d2d6f9row13_col3,#T_47566e1e_dc2f_11eb_8661_1bead2d2d6f9row13_col8{\n",
       "            background-color:  #4f69d9;\n",
       "            color:  #000000;\n",
       "        }#T_47566e1e_dc2f_11eb_8661_1bead2d2d6f9row9_col8,#T_47566e1e_dc2f_11eb_8661_1bead2d2d6f9row10_col8,#T_47566e1e_dc2f_11eb_8661_1bead2d2d6f9row11_col3,#T_47566e1e_dc2f_11eb_8661_1bead2d2d6f9row11_col8,#T_47566e1e_dc2f_11eb_8661_1bead2d2d6f9row12_col8{\n",
       "            background-color:  #4e68d8;\n",
       "            color:  #000000;\n",
       "        }#T_47566e1e_dc2f_11eb_8661_1bead2d2d6f9row9_col14{\n",
       "            background-color:  #94b6ff;\n",
       "            color:  #000000;\n",
       "        }#T_47566e1e_dc2f_11eb_8661_1bead2d2d6f9row10_col14,#T_47566e1e_dc2f_11eb_8661_1bead2d2d6f9row11_col14,#T_47566e1e_dc2f_11eb_8661_1bead2d2d6f9row12_col14{\n",
       "            background-color:  #96b7ff;\n",
       "            color:  #000000;\n",
       "        }#T_47566e1e_dc2f_11eb_8661_1bead2d2d6f9row11_col13,#T_47566e1e_dc2f_11eb_8661_1bead2d2d6f9row13_col11{\n",
       "            background-color:  #b50927;\n",
       "            color:  #f1f1f1;\n",
       "        }#T_47566e1e_dc2f_11eb_8661_1bead2d2d6f9row13_col6{\n",
       "            background-color:  #b6cefa;\n",
       "            color:  #000000;\n",
       "        }#T_47566e1e_dc2f_11eb_8661_1bead2d2d6f9row14_col0{\n",
       "            background-color:  #84a7fc;\n",
       "            color:  #000000;\n",
       "        }#T_47566e1e_dc2f_11eb_8661_1bead2d2d6f9row14_col1{\n",
       "            background-color:  #a7c5fe;\n",
       "            color:  #000000;\n",
       "        }#T_47566e1e_dc2f_11eb_8661_1bead2d2d6f9row14_col7{\n",
       "            background-color:  #e3d9d3;\n",
       "            color:  #000000;\n",
       "        }#T_47566e1e_dc2f_11eb_8661_1bead2d2d6f9row14_col9,#T_47566e1e_dc2f_11eb_8661_1bead2d2d6f9row14_col10,#T_47566e1e_dc2f_11eb_8661_1bead2d2d6f9row14_col11,#T_47566e1e_dc2f_11eb_8661_1bead2d2d6f9row14_col12{\n",
       "            background-color:  #d2dbe8;\n",
       "            color:  #000000;\n",
       "        }</style><table id=\"T_47566e1e_dc2f_11eb_8661_1bead2d2d6f9\" ><thead>    <tr>        <th class=\"blank level0\" ></th>        <th class=\"col_heading level0 col0\" >Frequency</th>        <th class=\"col_heading level0 col1\" >depth</th>        <th class=\"col_heading level0 col2\" >Pin_Radius</th>        <th class=\"col_heading level0 col3\" >duration</th>        <th class=\"col_heading level0 col4\" >FiringRate_value</th>        <th class=\"col_heading level0 col5\" >Spikes_n_items</th>        <th class=\"col_heading level0 col6\" >PC</th>        <th class=\"col_heading level0 col7\" >RA</th>        <th class=\"col_heading level0 col8\" >SA1</th>        <th class=\"col_heading level0 col9\" >Spikes_diff_mean_5</th>        <th class=\"col_heading level0 col10\" >Spikes_diff_mean_15</th>        <th class=\"col_heading level0 col11\" >Spikes_diff_median_5</th>        <th class=\"col_heading level0 col12\" >Spikes_diff_median_15</th>        <th class=\"col_heading level0 col13\" >Spikes_diff_time_inrange_10</th>        <th class=\"col_heading level0 col14\" >Spikes_diff_time_inrange_20</th>    </tr></thead><tbody>\n",
       "                <tr>\n",
       "                        <th id=\"T_47566e1e_dc2f_11eb_8661_1bead2d2d6f9level0_row0\" class=\"row_heading level0 row0\" >Frequency</th>\n",
       "                        <td id=\"T_47566e1e_dc2f_11eb_8661_1bead2d2d6f9row0_col0\" class=\"data row0 col0\" >1.000000</td>\n",
       "                        <td id=\"T_47566e1e_dc2f_11eb_8661_1bead2d2d6f9row0_col1\" class=\"data row0 col1\" >0.187355</td>\n",
       "                        <td id=\"T_47566e1e_dc2f_11eb_8661_1bead2d2d6f9row0_col2\" class=\"data row0 col2\" >0.001386</td>\n",
       "                        <td id=\"T_47566e1e_dc2f_11eb_8661_1bead2d2d6f9row0_col3\" class=\"data row0 col3\" >-0.009464</td>\n",
       "                        <td id=\"T_47566e1e_dc2f_11eb_8661_1bead2d2d6f9row0_col4\" class=\"data row0 col4\" >0.448515</td>\n",
       "                        <td id=\"T_47566e1e_dc2f_11eb_8661_1bead2d2d6f9row0_col5\" class=\"data row0 col5\" >0.429141</td>\n",
       "                        <td id=\"T_47566e1e_dc2f_11eb_8661_1bead2d2d6f9row0_col6\" class=\"data row0 col6\" >0.002644</td>\n",
       "                        <td id=\"T_47566e1e_dc2f_11eb_8661_1bead2d2d6f9row0_col7\" class=\"data row0 col7\" >-0.002724</td>\n",
       "                        <td id=\"T_47566e1e_dc2f_11eb_8661_1bead2d2d6f9row0_col8\" class=\"data row0 col8\" >0.005739</td>\n",
       "                        <td id=\"T_47566e1e_dc2f_11eb_8661_1bead2d2d6f9row0_col9\" class=\"data row0 col9\" >-0.463036</td>\n",
       "                        <td id=\"T_47566e1e_dc2f_11eb_8661_1bead2d2d6f9row0_col10\" class=\"data row0 col10\" >-0.462938</td>\n",
       "                        <td id=\"T_47566e1e_dc2f_11eb_8661_1bead2d2d6f9row0_col11\" class=\"data row0 col11\" >-0.465842</td>\n",
       "                        <td id=\"T_47566e1e_dc2f_11eb_8661_1bead2d2d6f9row0_col12\" class=\"data row0 col12\" >-0.463224</td>\n",
       "                        <td id=\"T_47566e1e_dc2f_11eb_8661_1bead2d2d6f9row0_col13\" class=\"data row0 col13\" >-0.455496</td>\n",
       "                        <td id=\"T_47566e1e_dc2f_11eb_8661_1bead2d2d6f9row0_col14\" class=\"data row0 col14\" >-0.136841</td>\n",
       "            </tr>\n",
       "            <tr>\n",
       "                        <th id=\"T_47566e1e_dc2f_11eb_8661_1bead2d2d6f9level0_row1\" class=\"row_heading level0 row1\" >depth</th>\n",
       "                        <td id=\"T_47566e1e_dc2f_11eb_8661_1bead2d2d6f9row1_col0\" class=\"data row1 col0\" >0.187355</td>\n",
       "                        <td id=\"T_47566e1e_dc2f_11eb_8661_1bead2d2d6f9row1_col1\" class=\"data row1 col1\" >1.000000</td>\n",
       "                        <td id=\"T_47566e1e_dc2f_11eb_8661_1bead2d2d6f9row1_col2\" class=\"data row1 col2\" >-0.003159</td>\n",
       "                        <td id=\"T_47566e1e_dc2f_11eb_8661_1bead2d2d6f9row1_col3\" class=\"data row1 col3\" >0.003904</td>\n",
       "                        <td id=\"T_47566e1e_dc2f_11eb_8661_1bead2d2d6f9row1_col4\" class=\"data row1 col4\" >-0.333827</td>\n",
       "                        <td id=\"T_47566e1e_dc2f_11eb_8661_1bead2d2d6f9row1_col5\" class=\"data row1 col5\" >-0.319913</td>\n",
       "                        <td id=\"T_47566e1e_dc2f_11eb_8661_1bead2d2d6f9row1_col6\" class=\"data row1 col6\" >0.297602</td>\n",
       "                        <td id=\"T_47566e1e_dc2f_11eb_8661_1bead2d2d6f9row1_col7\" class=\"data row1 col7\" >-0.297472</td>\n",
       "                        <td id=\"T_47566e1e_dc2f_11eb_8661_1bead2d2d6f9row1_col8\" class=\"data row1 col8\" >-0.009706</td>\n",
       "                        <td id=\"T_47566e1e_dc2f_11eb_8661_1bead2d2d6f9row1_col9\" class=\"data row1 col9\" >0.225652</td>\n",
       "                        <td id=\"T_47566e1e_dc2f_11eb_8661_1bead2d2d6f9row1_col10\" class=\"data row1 col10\" >0.225819</td>\n",
       "                        <td id=\"T_47566e1e_dc2f_11eb_8661_1bead2d2d6f9row1_col11\" class=\"data row1 col11\" >0.224266</td>\n",
       "                        <td id=\"T_47566e1e_dc2f_11eb_8661_1bead2d2d6f9row1_col12\" class=\"data row1 col12\" >0.225253</td>\n",
       "                        <td id=\"T_47566e1e_dc2f_11eb_8661_1bead2d2d6f9row1_col13\" class=\"data row1 col13\" >0.224270</td>\n",
       "                        <td id=\"T_47566e1e_dc2f_11eb_8661_1bead2d2d6f9row1_col14\" class=\"data row1 col14\" >0.100708</td>\n",
       "            </tr>\n",
       "            <tr>\n",
       "                        <th id=\"T_47566e1e_dc2f_11eb_8661_1bead2d2d6f9level0_row2\" class=\"row_heading level0 row2\" >Pin_Radius</th>\n",
       "                        <td id=\"T_47566e1e_dc2f_11eb_8661_1bead2d2d6f9row2_col0\" class=\"data row2 col0\" >0.001386</td>\n",
       "                        <td id=\"T_47566e1e_dc2f_11eb_8661_1bead2d2d6f9row2_col1\" class=\"data row2 col1\" >-0.003159</td>\n",
       "                        <td id=\"T_47566e1e_dc2f_11eb_8661_1bead2d2d6f9row2_col2\" class=\"data row2 col2\" >1.000000</td>\n",
       "                        <td id=\"T_47566e1e_dc2f_11eb_8661_1bead2d2d6f9row2_col3\" class=\"data row2 col3\" >-0.004410</td>\n",
       "                        <td id=\"T_47566e1e_dc2f_11eb_8661_1bead2d2d6f9row2_col4\" class=\"data row2 col4\" >0.002899</td>\n",
       "                        <td id=\"T_47566e1e_dc2f_11eb_8661_1bead2d2d6f9row2_col5\" class=\"data row2 col5\" >0.001411</td>\n",
       "                        <td id=\"T_47566e1e_dc2f_11eb_8661_1bead2d2d6f9row2_col6\" class=\"data row2 col6\" >-0.005563</td>\n",
       "                        <td id=\"T_47566e1e_dc2f_11eb_8661_1bead2d2d6f9row2_col7\" class=\"data row2 col7\" >0.005417</td>\n",
       "                        <td id=\"T_47566e1e_dc2f_11eb_8661_1bead2d2d6f9row2_col8\" class=\"data row2 col8\" >0.010418</td>\n",
       "                        <td id=\"T_47566e1e_dc2f_11eb_8661_1bead2d2d6f9row2_col9\" class=\"data row2 col9\" >-0.007127</td>\n",
       "                        <td id=\"T_47566e1e_dc2f_11eb_8661_1bead2d2d6f9row2_col10\" class=\"data row2 col10\" >-0.007129</td>\n",
       "                        <td id=\"T_47566e1e_dc2f_11eb_8661_1bead2d2d6f9row2_col11\" class=\"data row2 col11\" >-0.007160</td>\n",
       "                        <td id=\"T_47566e1e_dc2f_11eb_8661_1bead2d2d6f9row2_col12\" class=\"data row2 col12\" >-0.007078</td>\n",
       "                        <td id=\"T_47566e1e_dc2f_11eb_8661_1bead2d2d6f9row2_col13\" class=\"data row2 col13\" >-0.006997</td>\n",
       "                        <td id=\"T_47566e1e_dc2f_11eb_8661_1bead2d2d6f9row2_col14\" class=\"data row2 col14\" >0.000947</td>\n",
       "            </tr>\n",
       "            <tr>\n",
       "                        <th id=\"T_47566e1e_dc2f_11eb_8661_1bead2d2d6f9level0_row3\" class=\"row_heading level0 row3\" >duration</th>\n",
       "                        <td id=\"T_47566e1e_dc2f_11eb_8661_1bead2d2d6f9row3_col0\" class=\"data row3 col0\" >-0.009464</td>\n",
       "                        <td id=\"T_47566e1e_dc2f_11eb_8661_1bead2d2d6f9row3_col1\" class=\"data row3 col1\" >0.003904</td>\n",
       "                        <td id=\"T_47566e1e_dc2f_11eb_8661_1bead2d2d6f9row3_col2\" class=\"data row3 col2\" >-0.004410</td>\n",
       "                        <td id=\"T_47566e1e_dc2f_11eb_8661_1bead2d2d6f9row3_col3\" class=\"data row3 col3\" >1.000000</td>\n",
       "                        <td id=\"T_47566e1e_dc2f_11eb_8661_1bead2d2d6f9row3_col4\" class=\"data row3 col4\" >-0.009280</td>\n",
       "                        <td id=\"T_47566e1e_dc2f_11eb_8661_1bead2d2d6f9row3_col5\" class=\"data row3 col5\" >0.210121</td>\n",
       "                        <td id=\"T_47566e1e_dc2f_11eb_8661_1bead2d2d6f9row3_col6\" class=\"data row3 col6\" >-0.014567</td>\n",
       "                        <td id=\"T_47566e1e_dc2f_11eb_8661_1bead2d2d6f9row3_col7\" class=\"data row3 col7\" >0.014433</td>\n",
       "                        <td id=\"T_47566e1e_dc2f_11eb_8661_1bead2d2d6f9row3_col8\" class=\"data row3 col8\" >0.009597</td>\n",
       "                        <td id=\"T_47566e1e_dc2f_11eb_8661_1bead2d2d6f9row3_col9\" class=\"data row3 col9\" >0.053263</td>\n",
       "                        <td id=\"T_47566e1e_dc2f_11eb_8661_1bead2d2d6f9row3_col10\" class=\"data row3 col10\" >0.053464</td>\n",
       "                        <td id=\"T_47566e1e_dc2f_11eb_8661_1bead2d2d6f9row3_col11\" class=\"data row3 col11\" >0.052155</td>\n",
       "                        <td id=\"T_47566e1e_dc2f_11eb_8661_1bead2d2d6f9row3_col12\" class=\"data row3 col12\" >0.053325</td>\n",
       "                        <td id=\"T_47566e1e_dc2f_11eb_8661_1bead2d2d6f9row3_col13\" class=\"data row3 col13\" >0.053847</td>\n",
       "                        <td id=\"T_47566e1e_dc2f_11eb_8661_1bead2d2d6f9row3_col14\" class=\"data row3 col14\" >0.128545</td>\n",
       "            </tr>\n",
       "            <tr>\n",
       "                        <th id=\"T_47566e1e_dc2f_11eb_8661_1bead2d2d6f9level0_row4\" class=\"row_heading level0 row4\" >FiringRate_value</th>\n",
       "                        <td id=\"T_47566e1e_dc2f_11eb_8661_1bead2d2d6f9row4_col0\" class=\"data row4 col0\" >0.448515</td>\n",
       "                        <td id=\"T_47566e1e_dc2f_11eb_8661_1bead2d2d6f9row4_col1\" class=\"data row4 col1\" >-0.333827</td>\n",
       "                        <td id=\"T_47566e1e_dc2f_11eb_8661_1bead2d2d6f9row4_col2\" class=\"data row4 col2\" >0.002899</td>\n",
       "                        <td id=\"T_47566e1e_dc2f_11eb_8661_1bead2d2d6f9row4_col3\" class=\"data row4 col3\" >-0.009280</td>\n",
       "                        <td id=\"T_47566e1e_dc2f_11eb_8661_1bead2d2d6f9row4_col4\" class=\"data row4 col4\" >1.000000</td>\n",
       "                        <td id=\"T_47566e1e_dc2f_11eb_8661_1bead2d2d6f9row4_col5\" class=\"data row4 col5\" >0.958074</td>\n",
       "                        <td id=\"T_47566e1e_dc2f_11eb_8661_1bead2d2d6f9row4_col6\" class=\"data row4 col6\" >0.251066</td>\n",
       "                        <td id=\"T_47566e1e_dc2f_11eb_8661_1bead2d2d6f9row4_col7\" class=\"data row4 col7\" >-0.250970</td>\n",
       "                        <td id=\"T_47566e1e_dc2f_11eb_8661_1bead2d2d6f9row4_col8\" class=\"data row4 col8\" >-0.007204</td>\n",
       "                        <td id=\"T_47566e1e_dc2f_11eb_8661_1bead2d2d6f9row4_col9\" class=\"data row4 col9\" >-0.706594</td>\n",
       "                        <td id=\"T_47566e1e_dc2f_11eb_8661_1bead2d2d6f9row4_col10\" class=\"data row4 col10\" >-0.706869</td>\n",
       "                        <td id=\"T_47566e1e_dc2f_11eb_8661_1bead2d2d6f9row4_col11\" class=\"data row4 col11\" >-0.708120</td>\n",
       "                        <td id=\"T_47566e1e_dc2f_11eb_8661_1bead2d2d6f9row4_col12\" class=\"data row4 col12\" >-0.706480</td>\n",
       "                        <td id=\"T_47566e1e_dc2f_11eb_8661_1bead2d2d6f9row4_col13\" class=\"data row4 col13\" >-0.694109</td>\n",
       "                        <td id=\"T_47566e1e_dc2f_11eb_8661_1bead2d2d6f9row4_col14\" class=\"data row4 col14\" >-0.271502</td>\n",
       "            </tr>\n",
       "            <tr>\n",
       "                        <th id=\"T_47566e1e_dc2f_11eb_8661_1bead2d2d6f9level0_row5\" class=\"row_heading level0 row5\" >Spikes_n_items</th>\n",
       "                        <td id=\"T_47566e1e_dc2f_11eb_8661_1bead2d2d6f9row5_col0\" class=\"data row5 col0\" >0.429141</td>\n",
       "                        <td id=\"T_47566e1e_dc2f_11eb_8661_1bead2d2d6f9row5_col1\" class=\"data row5 col1\" >-0.319913</td>\n",
       "                        <td id=\"T_47566e1e_dc2f_11eb_8661_1bead2d2d6f9row5_col2\" class=\"data row5 col2\" >0.001411</td>\n",
       "                        <td id=\"T_47566e1e_dc2f_11eb_8661_1bead2d2d6f9row5_col3\" class=\"data row5 col3\" >0.210121</td>\n",
       "                        <td id=\"T_47566e1e_dc2f_11eb_8661_1bead2d2d6f9row5_col4\" class=\"data row5 col4\" >0.958074</td>\n",
       "                        <td id=\"T_47566e1e_dc2f_11eb_8661_1bead2d2d6f9row5_col5\" class=\"data row5 col5\" >1.000000</td>\n",
       "                        <td id=\"T_47566e1e_dc2f_11eb_8661_1bead2d2d6f9row5_col6\" class=\"data row5 col6\" >0.237330</td>\n",
       "                        <td id=\"T_47566e1e_dc2f_11eb_8661_1bead2d2d6f9row5_col7\" class=\"data row5 col7\" >-0.237242</td>\n",
       "                        <td id=\"T_47566e1e_dc2f_11eb_8661_1bead2d2d6f9row5_col8\" class=\"data row5 col8\" >-0.006658</td>\n",
       "                        <td id=\"T_47566e1e_dc2f_11eb_8661_1bead2d2d6f9row5_col9\" class=\"data row5 col9\" >-0.674474</td>\n",
       "                        <td id=\"T_47566e1e_dc2f_11eb_8661_1bead2d2d6f9row5_col10\" class=\"data row5 col10\" >-0.674705</td>\n",
       "                        <td id=\"T_47566e1e_dc2f_11eb_8661_1bead2d2d6f9row5_col11\" class=\"data row5 col11\" >-0.675952</td>\n",
       "                        <td id=\"T_47566e1e_dc2f_11eb_8661_1bead2d2d6f9row5_col12\" class=\"data row5 col12\" >-0.674338</td>\n",
       "                        <td id=\"T_47566e1e_dc2f_11eb_8661_1bead2d2d6f9row5_col13\" class=\"data row5 col13\" >-0.662461</td>\n",
       "                        <td id=\"T_47566e1e_dc2f_11eb_8661_1bead2d2d6f9row5_col14\" class=\"data row5 col14\" >-0.253553</td>\n",
       "            </tr>\n",
       "            <tr>\n",
       "                        <th id=\"T_47566e1e_dc2f_11eb_8661_1bead2d2d6f9level0_row6\" class=\"row_heading level0 row6\" >PC</th>\n",
       "                        <td id=\"T_47566e1e_dc2f_11eb_8661_1bead2d2d6f9row6_col0\" class=\"data row6 col0\" >0.002644</td>\n",
       "                        <td id=\"T_47566e1e_dc2f_11eb_8661_1bead2d2d6f9row6_col1\" class=\"data row6 col1\" >0.297602</td>\n",
       "                        <td id=\"T_47566e1e_dc2f_11eb_8661_1bead2d2d6f9row6_col2\" class=\"data row6 col2\" >-0.005563</td>\n",
       "                        <td id=\"T_47566e1e_dc2f_11eb_8661_1bead2d2d6f9row6_col3\" class=\"data row6 col3\" >-0.014567</td>\n",
       "                        <td id=\"T_47566e1e_dc2f_11eb_8661_1bead2d2d6f9row6_col4\" class=\"data row6 col4\" >0.251066</td>\n",
       "                        <td id=\"T_47566e1e_dc2f_11eb_8661_1bead2d2d6f9row6_col5\" class=\"data row6 col5\" >0.237330</td>\n",
       "                        <td id=\"T_47566e1e_dc2f_11eb_8661_1bead2d2d6f9row6_col6\" class=\"data row6 col6\" >1.000000</td>\n",
       "                        <td id=\"T_47566e1e_dc2f_11eb_8661_1bead2d2d6f9row6_col7\" class=\"data row6 col7\" >-0.999901</td>\n",
       "                        <td id=\"T_47566e1e_dc2f_11eb_8661_1bead2d2d6f9row6_col8\" class=\"data row6 col8\" >-0.008477</td>\n",
       "                        <td id=\"T_47566e1e_dc2f_11eb_8661_1bead2d2d6f9row6_col9\" class=\"data row6 col9\" >-0.252123</td>\n",
       "                        <td id=\"T_47566e1e_dc2f_11eb_8661_1bead2d2d6f9row6_col10\" class=\"data row6 col10\" >-0.252155</td>\n",
       "                        <td id=\"T_47566e1e_dc2f_11eb_8661_1bead2d2d6f9row6_col11\" class=\"data row6 col11\" >-0.251633</td>\n",
       "                        <td id=\"T_47566e1e_dc2f_11eb_8661_1bead2d2d6f9row6_col12\" class=\"data row6 col12\" >-0.252121</td>\n",
       "                        <td id=\"T_47566e1e_dc2f_11eb_8661_1bead2d2d6f9row6_col13\" class=\"data row6 col13\" >-0.257906</td>\n",
       "                        <td id=\"T_47566e1e_dc2f_11eb_8661_1bead2d2d6f9row6_col14\" class=\"data row6 col14\" >-0.051394</td>\n",
       "            </tr>\n",
       "            <tr>\n",
       "                        <th id=\"T_47566e1e_dc2f_11eb_8661_1bead2d2d6f9level0_row7\" class=\"row_heading level0 row7\" >RA</th>\n",
       "                        <td id=\"T_47566e1e_dc2f_11eb_8661_1bead2d2d6f9row7_col0\" class=\"data row7 col0\" >-0.002724</td>\n",
       "                        <td id=\"T_47566e1e_dc2f_11eb_8661_1bead2d2d6f9row7_col1\" class=\"data row7 col1\" >-0.297472</td>\n",
       "                        <td id=\"T_47566e1e_dc2f_11eb_8661_1bead2d2d6f9row7_col2\" class=\"data row7 col2\" >0.005417</td>\n",
       "                        <td id=\"T_47566e1e_dc2f_11eb_8661_1bead2d2d6f9row7_col3\" class=\"data row7 col3\" >0.014433</td>\n",
       "                        <td id=\"T_47566e1e_dc2f_11eb_8661_1bead2d2d6f9row7_col4\" class=\"data row7 col4\" >-0.250970</td>\n",
       "                        <td id=\"T_47566e1e_dc2f_11eb_8661_1bead2d2d6f9row7_col5\" class=\"data row7 col5\" >-0.237242</td>\n",
       "                        <td id=\"T_47566e1e_dc2f_11eb_8661_1bead2d2d6f9row7_col6\" class=\"data row7 col6\" >-0.999901</td>\n",
       "                        <td id=\"T_47566e1e_dc2f_11eb_8661_1bead2d2d6f9row7_col7\" class=\"data row7 col7\" >1.000000</td>\n",
       "                        <td id=\"T_47566e1e_dc2f_11eb_8661_1bead2d2d6f9row7_col8\" class=\"data row7 col8\" >-0.005572</td>\n",
       "                        <td id=\"T_47566e1e_dc2f_11eb_8661_1bead2d2d6f9row7_col9\" class=\"data row7 col9\" >0.251625</td>\n",
       "                        <td id=\"T_47566e1e_dc2f_11eb_8661_1bead2d2d6f9row7_col10\" class=\"data row7 col10\" >0.251646</td>\n",
       "                        <td id=\"T_47566e1e_dc2f_11eb_8661_1bead2d2d6f9row7_col11\" class=\"data row7 col11\" >0.251137</td>\n",
       "                        <td id=\"T_47566e1e_dc2f_11eb_8661_1bead2d2d6f9row7_col12\" class=\"data row7 col12\" >0.251612</td>\n",
       "                        <td id=\"T_47566e1e_dc2f_11eb_8661_1bead2d2d6f9row7_col13\" class=\"data row7 col13\" >0.257372</td>\n",
       "                        <td id=\"T_47566e1e_dc2f_11eb_8661_1bead2d2d6f9row7_col14\" class=\"data row7 col14\" >0.051829</td>\n",
       "            </tr>\n",
       "            <tr>\n",
       "                        <th id=\"T_47566e1e_dc2f_11eb_8661_1bead2d2d6f9level0_row8\" class=\"row_heading level0 row8\" >SA1</th>\n",
       "                        <td id=\"T_47566e1e_dc2f_11eb_8661_1bead2d2d6f9row8_col0\" class=\"data row8 col0\" >0.005739</td>\n",
       "                        <td id=\"T_47566e1e_dc2f_11eb_8661_1bead2d2d6f9row8_col1\" class=\"data row8 col1\" >-0.009706</td>\n",
       "                        <td id=\"T_47566e1e_dc2f_11eb_8661_1bead2d2d6f9row8_col2\" class=\"data row8 col2\" >0.010418</td>\n",
       "                        <td id=\"T_47566e1e_dc2f_11eb_8661_1bead2d2d6f9row8_col3\" class=\"data row8 col3\" >0.009597</td>\n",
       "                        <td id=\"T_47566e1e_dc2f_11eb_8661_1bead2d2d6f9row8_col4\" class=\"data row8 col4\" >-0.007204</td>\n",
       "                        <td id=\"T_47566e1e_dc2f_11eb_8661_1bead2d2d6f9row8_col5\" class=\"data row8 col5\" >-0.006658</td>\n",
       "                        <td id=\"T_47566e1e_dc2f_11eb_8661_1bead2d2d6f9row8_col6\" class=\"data row8 col6\" >-0.008477</td>\n",
       "                        <td id=\"T_47566e1e_dc2f_11eb_8661_1bead2d2d6f9row8_col7\" class=\"data row8 col7\" >-0.005572</td>\n",
       "                        <td id=\"T_47566e1e_dc2f_11eb_8661_1bead2d2d6f9row8_col8\" class=\"data row8 col8\" >1.000000</td>\n",
       "                        <td id=\"T_47566e1e_dc2f_11eb_8661_1bead2d2d6f9row8_col9\" class=\"data row8 col9\" >0.035765</td>\n",
       "                        <td id=\"T_47566e1e_dc2f_11eb_8661_1bead2d2d6f9row8_col10\" class=\"data row8 col10\" >0.036581</td>\n",
       "                        <td id=\"T_47566e1e_dc2f_11eb_8661_1bead2d2d6f9row8_col11\" class=\"data row8 col11\" >0.035659</td>\n",
       "                        <td id=\"T_47566e1e_dc2f_11eb_8661_1bead2d2d6f9row8_col12\" class=\"data row8 col12\" >0.036567</td>\n",
       "                        <td id=\"T_47566e1e_dc2f_11eb_8661_1bead2d2d6f9row8_col13\" class=\"data row8 col13\" >0.038369</td>\n",
       "                        <td id=\"T_47566e1e_dc2f_11eb_8661_1bead2d2d6f9row8_col14\" class=\"data row8 col14\" >-0.030854</td>\n",
       "            </tr>\n",
       "            <tr>\n",
       "                        <th id=\"T_47566e1e_dc2f_11eb_8661_1bead2d2d6f9level0_row9\" class=\"row_heading level0 row9\" >Spikes_diff_mean_5</th>\n",
       "                        <td id=\"T_47566e1e_dc2f_11eb_8661_1bead2d2d6f9row9_col0\" class=\"data row9 col0\" >-0.463036</td>\n",
       "                        <td id=\"T_47566e1e_dc2f_11eb_8661_1bead2d2d6f9row9_col1\" class=\"data row9 col1\" >0.225652</td>\n",
       "                        <td id=\"T_47566e1e_dc2f_11eb_8661_1bead2d2d6f9row9_col2\" class=\"data row9 col2\" >-0.007127</td>\n",
       "                        <td id=\"T_47566e1e_dc2f_11eb_8661_1bead2d2d6f9row9_col3\" class=\"data row9 col3\" >0.053263</td>\n",
       "                        <td id=\"T_47566e1e_dc2f_11eb_8661_1bead2d2d6f9row9_col4\" class=\"data row9 col4\" >-0.706594</td>\n",
       "                        <td id=\"T_47566e1e_dc2f_11eb_8661_1bead2d2d6f9row9_col5\" class=\"data row9 col5\" >-0.674474</td>\n",
       "                        <td id=\"T_47566e1e_dc2f_11eb_8661_1bead2d2d6f9row9_col6\" class=\"data row9 col6\" >-0.252123</td>\n",
       "                        <td id=\"T_47566e1e_dc2f_11eb_8661_1bead2d2d6f9row9_col7\" class=\"data row9 col7\" >0.251625</td>\n",
       "                        <td id=\"T_47566e1e_dc2f_11eb_8661_1bead2d2d6f9row9_col8\" class=\"data row9 col8\" >0.035765</td>\n",
       "                        <td id=\"T_47566e1e_dc2f_11eb_8661_1bead2d2d6f9row9_col9\" class=\"data row9 col9\" >1.000000</td>\n",
       "                        <td id=\"T_47566e1e_dc2f_11eb_8661_1bead2d2d6f9row9_col10\" class=\"data row9 col10\" >0.999657</td>\n",
       "                        <td id=\"T_47566e1e_dc2f_11eb_8661_1bead2d2d6f9row9_col11\" class=\"data row9 col11\" >0.998597</td>\n",
       "                        <td id=\"T_47566e1e_dc2f_11eb_8661_1bead2d2d6f9row9_col12\" class=\"data row9 col12\" >0.999513</td>\n",
       "                        <td id=\"T_47566e1e_dc2f_11eb_8661_1bead2d2d6f9row9_col13\" class=\"data row9 col13\" >0.994695</td>\n",
       "                        <td id=\"T_47566e1e_dc2f_11eb_8661_1bead2d2d6f9row9_col14\" class=\"data row9 col14\" >0.075850</td>\n",
       "            </tr>\n",
       "            <tr>\n",
       "                        <th id=\"T_47566e1e_dc2f_11eb_8661_1bead2d2d6f9level0_row10\" class=\"row_heading level0 row10\" >Spikes_diff_mean_15</th>\n",
       "                        <td id=\"T_47566e1e_dc2f_11eb_8661_1bead2d2d6f9row10_col0\" class=\"data row10 col0\" >-0.462938</td>\n",
       "                        <td id=\"T_47566e1e_dc2f_11eb_8661_1bead2d2d6f9row10_col1\" class=\"data row10 col1\" >0.225819</td>\n",
       "                        <td id=\"T_47566e1e_dc2f_11eb_8661_1bead2d2d6f9row10_col2\" class=\"data row10 col2\" >-0.007129</td>\n",
       "                        <td id=\"T_47566e1e_dc2f_11eb_8661_1bead2d2d6f9row10_col3\" class=\"data row10 col3\" >0.053464</td>\n",
       "                        <td id=\"T_47566e1e_dc2f_11eb_8661_1bead2d2d6f9row10_col4\" class=\"data row10 col4\" >-0.706869</td>\n",
       "                        <td id=\"T_47566e1e_dc2f_11eb_8661_1bead2d2d6f9row10_col5\" class=\"data row10 col5\" >-0.674705</td>\n",
       "                        <td id=\"T_47566e1e_dc2f_11eb_8661_1bead2d2d6f9row10_col6\" class=\"data row10 col6\" >-0.252155</td>\n",
       "                        <td id=\"T_47566e1e_dc2f_11eb_8661_1bead2d2d6f9row10_col7\" class=\"data row10 col7\" >0.251646</td>\n",
       "                        <td id=\"T_47566e1e_dc2f_11eb_8661_1bead2d2d6f9row10_col8\" class=\"data row10 col8\" >0.036581</td>\n",
       "                        <td id=\"T_47566e1e_dc2f_11eb_8661_1bead2d2d6f9row10_col9\" class=\"data row10 col9\" >0.999657</td>\n",
       "                        <td id=\"T_47566e1e_dc2f_11eb_8661_1bead2d2d6f9row10_col10\" class=\"data row10 col10\" >1.000000</td>\n",
       "                        <td id=\"T_47566e1e_dc2f_11eb_8661_1bead2d2d6f9row10_col11\" class=\"data row10 col11\" >0.998260</td>\n",
       "                        <td id=\"T_47566e1e_dc2f_11eb_8661_1bead2d2d6f9row10_col12\" class=\"data row10 col12\" >0.999891</td>\n",
       "                        <td id=\"T_47566e1e_dc2f_11eb_8661_1bead2d2d6f9row10_col13\" class=\"data row10 col13\" >0.994215</td>\n",
       "                        <td id=\"T_47566e1e_dc2f_11eb_8661_1bead2d2d6f9row10_col14\" class=\"data row10 col14\" >0.076905</td>\n",
       "            </tr>\n",
       "            <tr>\n",
       "                        <th id=\"T_47566e1e_dc2f_11eb_8661_1bead2d2d6f9level0_row11\" class=\"row_heading level0 row11\" >Spikes_diff_median_5</th>\n",
       "                        <td id=\"T_47566e1e_dc2f_11eb_8661_1bead2d2d6f9row11_col0\" class=\"data row11 col0\" >-0.465842</td>\n",
       "                        <td id=\"T_47566e1e_dc2f_11eb_8661_1bead2d2d6f9row11_col1\" class=\"data row11 col1\" >0.224266</td>\n",
       "                        <td id=\"T_47566e1e_dc2f_11eb_8661_1bead2d2d6f9row11_col2\" class=\"data row11 col2\" >-0.007160</td>\n",
       "                        <td id=\"T_47566e1e_dc2f_11eb_8661_1bead2d2d6f9row11_col3\" class=\"data row11 col3\" >0.052155</td>\n",
       "                        <td id=\"T_47566e1e_dc2f_11eb_8661_1bead2d2d6f9row11_col4\" class=\"data row11 col4\" >-0.708120</td>\n",
       "                        <td id=\"T_47566e1e_dc2f_11eb_8661_1bead2d2d6f9row11_col5\" class=\"data row11 col5\" >-0.675952</td>\n",
       "                        <td id=\"T_47566e1e_dc2f_11eb_8661_1bead2d2d6f9row11_col6\" class=\"data row11 col6\" >-0.251633</td>\n",
       "                        <td id=\"T_47566e1e_dc2f_11eb_8661_1bead2d2d6f9row11_col7\" class=\"data row11 col7\" >0.251137</td>\n",
       "                        <td id=\"T_47566e1e_dc2f_11eb_8661_1bead2d2d6f9row11_col8\" class=\"data row11 col8\" >0.035659</td>\n",
       "                        <td id=\"T_47566e1e_dc2f_11eb_8661_1bead2d2d6f9row11_col9\" class=\"data row11 col9\" >0.998597</td>\n",
       "                        <td id=\"T_47566e1e_dc2f_11eb_8661_1bead2d2d6f9row11_col10\" class=\"data row11 col10\" >0.998260</td>\n",
       "                        <td id=\"T_47566e1e_dc2f_11eb_8661_1bead2d2d6f9row11_col11\" class=\"data row11 col11\" >1.000000</td>\n",
       "                        <td id=\"T_47566e1e_dc2f_11eb_8661_1bead2d2d6f9row11_col12\" class=\"data row11 col12\" >0.998158</td>\n",
       "                        <td id=\"T_47566e1e_dc2f_11eb_8661_1bead2d2d6f9row11_col13\" class=\"data row11 col13\" >0.992845</td>\n",
       "                        <td id=\"T_47566e1e_dc2f_11eb_8661_1bead2d2d6f9row11_col14\" class=\"data row11 col14\" >0.078467</td>\n",
       "            </tr>\n",
       "            <tr>\n",
       "                        <th id=\"T_47566e1e_dc2f_11eb_8661_1bead2d2d6f9level0_row12\" class=\"row_heading level0 row12\" >Spikes_diff_median_15</th>\n",
       "                        <td id=\"T_47566e1e_dc2f_11eb_8661_1bead2d2d6f9row12_col0\" class=\"data row12 col0\" >-0.463224</td>\n",
       "                        <td id=\"T_47566e1e_dc2f_11eb_8661_1bead2d2d6f9row12_col1\" class=\"data row12 col1\" >0.225253</td>\n",
       "                        <td id=\"T_47566e1e_dc2f_11eb_8661_1bead2d2d6f9row12_col2\" class=\"data row12 col2\" >-0.007078</td>\n",
       "                        <td id=\"T_47566e1e_dc2f_11eb_8661_1bead2d2d6f9row12_col3\" class=\"data row12 col3\" >0.053325</td>\n",
       "                        <td id=\"T_47566e1e_dc2f_11eb_8661_1bead2d2d6f9row12_col4\" class=\"data row12 col4\" >-0.706480</td>\n",
       "                        <td id=\"T_47566e1e_dc2f_11eb_8661_1bead2d2d6f9row12_col5\" class=\"data row12 col5\" >-0.674338</td>\n",
       "                        <td id=\"T_47566e1e_dc2f_11eb_8661_1bead2d2d6f9row12_col6\" class=\"data row12 col6\" >-0.252121</td>\n",
       "                        <td id=\"T_47566e1e_dc2f_11eb_8661_1bead2d2d6f9row12_col7\" class=\"data row12 col7\" >0.251612</td>\n",
       "                        <td id=\"T_47566e1e_dc2f_11eb_8661_1bead2d2d6f9row12_col8\" class=\"data row12 col8\" >0.036567</td>\n",
       "                        <td id=\"T_47566e1e_dc2f_11eb_8661_1bead2d2d6f9row12_col9\" class=\"data row12 col9\" >0.999513</td>\n",
       "                        <td id=\"T_47566e1e_dc2f_11eb_8661_1bead2d2d6f9row12_col10\" class=\"data row12 col10\" >0.999891</td>\n",
       "                        <td id=\"T_47566e1e_dc2f_11eb_8661_1bead2d2d6f9row12_col11\" class=\"data row12 col11\" >0.998158</td>\n",
       "                        <td id=\"T_47566e1e_dc2f_11eb_8661_1bead2d2d6f9row12_col12\" class=\"data row12 col12\" >1.000000</td>\n",
       "                        <td id=\"T_47566e1e_dc2f_11eb_8661_1bead2d2d6f9row12_col13\" class=\"data row12 col13\" >0.993972</td>\n",
       "                        <td id=\"T_47566e1e_dc2f_11eb_8661_1bead2d2d6f9row12_col14\" class=\"data row12 col14\" >0.077217</td>\n",
       "            </tr>\n",
       "            <tr>\n",
       "                        <th id=\"T_47566e1e_dc2f_11eb_8661_1bead2d2d6f9level0_row13\" class=\"row_heading level0 row13\" >Spikes_diff_time_inrange_10</th>\n",
       "                        <td id=\"T_47566e1e_dc2f_11eb_8661_1bead2d2d6f9row13_col0\" class=\"data row13 col0\" >-0.455496</td>\n",
       "                        <td id=\"T_47566e1e_dc2f_11eb_8661_1bead2d2d6f9row13_col1\" class=\"data row13 col1\" >0.224270</td>\n",
       "                        <td id=\"T_47566e1e_dc2f_11eb_8661_1bead2d2d6f9row13_col2\" class=\"data row13 col2\" >-0.006997</td>\n",
       "                        <td id=\"T_47566e1e_dc2f_11eb_8661_1bead2d2d6f9row13_col3\" class=\"data row13 col3\" >0.053847</td>\n",
       "                        <td id=\"T_47566e1e_dc2f_11eb_8661_1bead2d2d6f9row13_col4\" class=\"data row13 col4\" >-0.694109</td>\n",
       "                        <td id=\"T_47566e1e_dc2f_11eb_8661_1bead2d2d6f9row13_col5\" class=\"data row13 col5\" >-0.662461</td>\n",
       "                        <td id=\"T_47566e1e_dc2f_11eb_8661_1bead2d2d6f9row13_col6\" class=\"data row13 col6\" >-0.257906</td>\n",
       "                        <td id=\"T_47566e1e_dc2f_11eb_8661_1bead2d2d6f9row13_col7\" class=\"data row13 col7\" >0.257372</td>\n",
       "                        <td id=\"T_47566e1e_dc2f_11eb_8661_1bead2d2d6f9row13_col8\" class=\"data row13 col8\" >0.038369</td>\n",
       "                        <td id=\"T_47566e1e_dc2f_11eb_8661_1bead2d2d6f9row13_col9\" class=\"data row13 col9\" >0.994695</td>\n",
       "                        <td id=\"T_47566e1e_dc2f_11eb_8661_1bead2d2d6f9row13_col10\" class=\"data row13 col10\" >0.994215</td>\n",
       "                        <td id=\"T_47566e1e_dc2f_11eb_8661_1bead2d2d6f9row13_col11\" class=\"data row13 col11\" >0.992845</td>\n",
       "                        <td id=\"T_47566e1e_dc2f_11eb_8661_1bead2d2d6f9row13_col12\" class=\"data row13 col12\" >0.993972</td>\n",
       "                        <td id=\"T_47566e1e_dc2f_11eb_8661_1bead2d2d6f9row13_col13\" class=\"data row13 col13\" >1.000000</td>\n",
       "                        <td id=\"T_47566e1e_dc2f_11eb_8661_1bead2d2d6f9row13_col14\" class=\"data row13 col14\" >0.065382</td>\n",
       "            </tr>\n",
       "            <tr>\n",
       "                        <th id=\"T_47566e1e_dc2f_11eb_8661_1bead2d2d6f9level0_row14\" class=\"row_heading level0 row14\" >Spikes_diff_time_inrange_20</th>\n",
       "                        <td id=\"T_47566e1e_dc2f_11eb_8661_1bead2d2d6f9row14_col0\" class=\"data row14 col0\" >-0.136841</td>\n",
       "                        <td id=\"T_47566e1e_dc2f_11eb_8661_1bead2d2d6f9row14_col1\" class=\"data row14 col1\" >0.100708</td>\n",
       "                        <td id=\"T_47566e1e_dc2f_11eb_8661_1bead2d2d6f9row14_col2\" class=\"data row14 col2\" >0.000947</td>\n",
       "                        <td id=\"T_47566e1e_dc2f_11eb_8661_1bead2d2d6f9row14_col3\" class=\"data row14 col3\" >0.128545</td>\n",
       "                        <td id=\"T_47566e1e_dc2f_11eb_8661_1bead2d2d6f9row14_col4\" class=\"data row14 col4\" >-0.271502</td>\n",
       "                        <td id=\"T_47566e1e_dc2f_11eb_8661_1bead2d2d6f9row14_col5\" class=\"data row14 col5\" >-0.253553</td>\n",
       "                        <td id=\"T_47566e1e_dc2f_11eb_8661_1bead2d2d6f9row14_col6\" class=\"data row14 col6\" >-0.051394</td>\n",
       "                        <td id=\"T_47566e1e_dc2f_11eb_8661_1bead2d2d6f9row14_col7\" class=\"data row14 col7\" >0.051829</td>\n",
       "                        <td id=\"T_47566e1e_dc2f_11eb_8661_1bead2d2d6f9row14_col8\" class=\"data row14 col8\" >-0.030854</td>\n",
       "                        <td id=\"T_47566e1e_dc2f_11eb_8661_1bead2d2d6f9row14_col9\" class=\"data row14 col9\" >0.075850</td>\n",
       "                        <td id=\"T_47566e1e_dc2f_11eb_8661_1bead2d2d6f9row14_col10\" class=\"data row14 col10\" >0.076905</td>\n",
       "                        <td id=\"T_47566e1e_dc2f_11eb_8661_1bead2d2d6f9row14_col11\" class=\"data row14 col11\" >0.078467</td>\n",
       "                        <td id=\"T_47566e1e_dc2f_11eb_8661_1bead2d2d6f9row14_col12\" class=\"data row14 col12\" >0.077217</td>\n",
       "                        <td id=\"T_47566e1e_dc2f_11eb_8661_1bead2d2d6f9row14_col13\" class=\"data row14 col13\" >0.065382</td>\n",
       "                        <td id=\"T_47566e1e_dc2f_11eb_8661_1bead2d2d6f9row14_col14\" class=\"data row14 col14\" >1.000000</td>\n",
       "            </tr>\n",
       "    </tbody></table>"
      ],
      "text/plain": [
       "<pandas.io.formats.style.Styler at 0x7fe97f7671c0>"
      ]
     },
     "execution_count": 194,
     "metadata": {},
     "output_type": "execute_result"
    }
   ],
   "source": [
    "corr = sim_df_feat.corr()\n",
    "corr.style.background_gradient(cmap='coolwarm')\n",
    "# corr"
   ]
  },
  {
   "cell_type": "code",
   "execution_count": 195,
   "id": "e7002f9c-9a59-497c-b492-c3c2bfde2625",
   "metadata": {},
   "outputs": [
    {
     "data": {
      "text/html": [
       "<div>\n",
       "<style scoped>\n",
       "    .dataframe tbody tr th:only-of-type {\n",
       "        vertical-align: middle;\n",
       "    }\n",
       "\n",
       "    .dataframe tbody tr th {\n",
       "        vertical-align: top;\n",
       "    }\n",
       "\n",
       "    .dataframe thead th {\n",
       "        text-align: right;\n",
       "    }\n",
       "</style>\n",
       "<table border=\"1\" class=\"dataframe\">\n",
       "  <thead>\n",
       "    <tr style=\"text-align: right;\">\n",
       "      <th></th>\n",
       "      <th>Frequency</th>\n",
       "      <th>Spikes_diff_time_inrange_10</th>\n",
       "      <th>Spikes_diff_median_5</th>\n",
       "    </tr>\n",
       "  </thead>\n",
       "  <tbody>\n",
       "    <tr>\n",
       "      <th>Frequency</th>\n",
       "      <td>1.000000</td>\n",
       "      <td>-0.455496</td>\n",
       "      <td>-0.465842</td>\n",
       "    </tr>\n",
       "    <tr>\n",
       "      <th>Spikes_diff_time_inrange_10</th>\n",
       "      <td>-0.455496</td>\n",
       "      <td>1.000000</td>\n",
       "      <td>0.992845</td>\n",
       "    </tr>\n",
       "    <tr>\n",
       "      <th>Spikes_diff_median_5</th>\n",
       "      <td>-0.465842</td>\n",
       "      <td>0.992845</td>\n",
       "      <td>1.000000</td>\n",
       "    </tr>\n",
       "  </tbody>\n",
       "</table>\n",
       "</div>"
      ],
      "text/plain": [
       "                             Frequency  \\\n",
       "Frequency                     1.000000   \n",
       "Spikes_diff_time_inrange_10  -0.455496   \n",
       "Spikes_diff_median_5         -0.465842   \n",
       "\n",
       "                             Spikes_diff_time_inrange_10  \\\n",
       "Frequency                                      -0.455496   \n",
       "Spikes_diff_time_inrange_10                     1.000000   \n",
       "Spikes_diff_median_5                            0.992845   \n",
       "\n",
       "                             Spikes_diff_median_5  \n",
       "Frequency                               -0.465842  \n",
       "Spikes_diff_time_inrange_10              0.992845  \n",
       "Spikes_diff_median_5                     1.000000  "
      ]
     },
     "execution_count": 195,
     "metadata": {},
     "output_type": "execute_result"
    }
   ],
   "source": [
    "sim_df_feat[[\"Frequency\",\"Spikes_diff_time_inrange_10\",\"Spikes_diff_median_5\"]].corr()"
   ]
  },
  {
   "cell_type": "markdown",
   "id": "4c9ccb77-1159-4a84-b51a-6d42c50fe736",
   "metadata": {},
   "source": [
    "# export data"
   ]
  },
  {
   "cell_type": "code",
   "execution_count": 196,
   "id": "4fc01848-50da-4267-977c-bef4e9dc40f2",
   "metadata": {},
   "outputs": [
    {
     "data": {
      "text/html": [
       "<div>\n",
       "<style scoped>\n",
       "    .dataframe tbody tr th:only-of-type {\n",
       "        vertical-align: middle;\n",
       "    }\n",
       "\n",
       "    .dataframe tbody tr th {\n",
       "        vertical-align: top;\n",
       "    }\n",
       "\n",
       "    .dataframe thead th {\n",
       "        text-align: right;\n",
       "    }\n",
       "</style>\n",
       "<table border=\"1\" class=\"dataframe\">\n",
       "  <thead>\n",
       "    <tr style=\"text-align: right;\">\n",
       "      <th></th>\n",
       "      <th>FiringRate</th>\n",
       "      <th>Spikes</th>\n",
       "      <th>Frequency</th>\n",
       "      <th>Afferent_Class</th>\n",
       "      <th>depth</th>\n",
       "      <th>Pin_Radius</th>\n",
       "      <th>duration</th>\n",
       "      <th>FiringRate_value</th>\n",
       "      <th>Spikes_n_items</th>\n",
       "      <th>PC</th>\n",
       "      <th>RA</th>\n",
       "      <th>SA1</th>\n",
       "      <th>Spikes_diff_mean_5</th>\n",
       "      <th>Spikes_diff_mean_15</th>\n",
       "      <th>Spikes_diff_median_5</th>\n",
       "      <th>Spikes_diff_median_15</th>\n",
       "      <th>Spikes_diff_time_inrange_10</th>\n",
       "      <th>Spikes_diff_time_inrange_20</th>\n",
       "    </tr>\n",
       "  </thead>\n",
       "  <tbody>\n",
       "    <tr>\n",
       "      <th>0</th>\n",
       "      <td>(95.3,)</td>\n",
       "      <td>(0.001, 0.0098, 0.02, 0.0304, 0.0408, 0.0514, 0.0618, 0.0724, 0.0828, 0.0934, 0.104, 0.1144, 0.125, 0.1354, 0.146, 0.1566, 0.167, 0.1776, 0.1882, 0.1986, 0.2092, 0.2196, 0.2302, 0.2408, 0.2512, 0....</td>\n",
       "      <td>95</td>\n",
       "      <td>PC</td>\n",
       "      <td>1.60</td>\n",
       "      <td>1.070</td>\n",
       "      <td>1.7630</td>\n",
       "      <td>95.3125</td>\n",
       "      <td>168</td>\n",
       "      <td>1</td>\n",
       "      <td>0</td>\n",
       "      <td>0</td>\n",
       "      <td>0.052594</td>\n",
       "      <td>0.157829</td>\n",
       "      <td>0.052734</td>\n",
       "      <td>0.157837</td>\n",
       "      <td>0.103027</td>\n",
       "      <td>0.105225</td>\n",
       "    </tr>\n",
       "    <tr>\n",
       "      <th>1</th>\n",
       "      <td>(130.6,)</td>\n",
       "      <td>(0.001, 0.0064, 0.013, 0.0206, 0.028, 0.0358, 0.0432, 0.051, 0.0584, 0.0664, 0.0738, 0.0818, 0.0892, 0.0972, 0.1046, 0.1124, 0.1198, 0.1278, 0.1353, 0.1432, 0.1506, 0.1586, 0.166, 0.174, 0.1814, 0...</td>\n",
       "      <td>65</td>\n",
       "      <td>PC</td>\n",
       "      <td>0.58</td>\n",
       "      <td>1.390</td>\n",
       "      <td>1.0340</td>\n",
       "      <td>130.6250</td>\n",
       "      <td>135</td>\n",
       "      <td>1</td>\n",
       "      <td>0</td>\n",
       "      <td>0</td>\n",
       "      <td>0.038393</td>\n",
       "      <td>0.115272</td>\n",
       "      <td>0.038513</td>\n",
       "      <td>0.115234</td>\n",
       "      <td>0.072815</td>\n",
       "      <td>0.076843</td>\n",
       "    </tr>\n",
       "    <tr>\n",
       "      <th>2</th>\n",
       "      <td>(35.25,)</td>\n",
       "      <td>(0.0262, 0.05, 0.0798, 0.104, 0.1344, 0.1584, 0.189, 0.2133, 0.2434, 0.2673, 0.298, 0.322, 0.3525, 0.3765, 0.407, 0.4312, 0.4617, 0.4856, 0.516, 0.54, 0.571, 0.5947, 0.625, 0.6494, 0.6797, 0.7036,...</td>\n",
       "      <td>55</td>\n",
       "      <td>PC</td>\n",
       "      <td>1.30</td>\n",
       "      <td>0.825</td>\n",
       "      <td>1.0215</td>\n",
       "      <td>35.2500</td>\n",
       "      <td>36</td>\n",
       "      <td>1</td>\n",
       "      <td>0</td>\n",
       "      <td>0</td>\n",
       "      <td>0.136173</td>\n",
       "      <td>0.408728</td>\n",
       "      <td>0.133484</td>\n",
       "      <td>0.406006</td>\n",
       "      <td>0.271973</td>\n",
       "      <td>0.272705</td>\n",
       "    </tr>\n",
       "  </tbody>\n",
       "</table>\n",
       "</div>"
      ],
      "text/plain": [
       "  FiringRate  \\\n",
       "0    (95.3,)   \n",
       "1   (130.6,)   \n",
       "2   (35.25,)   \n",
       "\n",
       "                                                                                                                                                                                                    Spikes  \\\n",
       "0  (0.001, 0.0098, 0.02, 0.0304, 0.0408, 0.0514, 0.0618, 0.0724, 0.0828, 0.0934, 0.104, 0.1144, 0.125, 0.1354, 0.146, 0.1566, 0.167, 0.1776, 0.1882, 0.1986, 0.2092, 0.2196, 0.2302, 0.2408, 0.2512, 0....   \n",
       "1  (0.001, 0.0064, 0.013, 0.0206, 0.028, 0.0358, 0.0432, 0.051, 0.0584, 0.0664, 0.0738, 0.0818, 0.0892, 0.0972, 0.1046, 0.1124, 0.1198, 0.1278, 0.1353, 0.1432, 0.1506, 0.1586, 0.166, 0.174, 0.1814, 0...   \n",
       "2  (0.0262, 0.05, 0.0798, 0.104, 0.1344, 0.1584, 0.189, 0.2133, 0.2434, 0.2673, 0.298, 0.322, 0.3525, 0.3765, 0.407, 0.4312, 0.4617, 0.4856, 0.516, 0.54, 0.571, 0.5947, 0.625, 0.6494, 0.6797, 0.7036,...   \n",
       "\n",
       "   Frequency  \\\n",
       "0         95   \n",
       "1         65   \n",
       "2         55   \n",
       "\n",
       "  Afferent_Class  \\\n",
       "0             PC   \n",
       "1             PC   \n",
       "2             PC   \n",
       "\n",
       "   depth  \\\n",
       "0   1.60   \n",
       "1   0.58   \n",
       "2   1.30   \n",
       "\n",
       "   Pin_Radius  \\\n",
       "0       1.070   \n",
       "1       1.390   \n",
       "2       0.825   \n",
       "\n",
       "   duration  \\\n",
       "0    1.7630   \n",
       "1    1.0340   \n",
       "2    1.0215   \n",
       "\n",
       "   FiringRate_value  \\\n",
       "0           95.3125   \n",
       "1          130.6250   \n",
       "2           35.2500   \n",
       "\n",
       "   Spikes_n_items  \\\n",
       "0             168   \n",
       "1             135   \n",
       "2              36   \n",
       "\n",
       "   PC  RA  \\\n",
       "0   1   0   \n",
       "1   1   0   \n",
       "2   1   0   \n",
       "\n",
       "   SA1  \\\n",
       "0    0   \n",
       "1    0   \n",
       "2    0   \n",
       "\n",
       "   Spikes_diff_mean_5  \\\n",
       "0            0.052594   \n",
       "1            0.038393   \n",
       "2            0.136173   \n",
       "\n",
       "   Spikes_diff_mean_15  \\\n",
       "0             0.157829   \n",
       "1             0.115272   \n",
       "2             0.408728   \n",
       "\n",
       "   Spikes_diff_median_5  \\\n",
       "0              0.052734   \n",
       "1              0.038513   \n",
       "2              0.133484   \n",
       "\n",
       "   Spikes_diff_median_15  \\\n",
       "0               0.157837   \n",
       "1               0.115234   \n",
       "2               0.406006   \n",
       "\n",
       "   Spikes_diff_time_inrange_10  \\\n",
       "0                     0.103027   \n",
       "1                     0.072815   \n",
       "2                     0.271973   \n",
       "\n",
       "   Spikes_diff_time_inrange_20  \n",
       "0                     0.105225  \n",
       "1                     0.076843  \n",
       "2                     0.272705  "
      ]
     },
     "execution_count": 196,
     "metadata": {},
     "output_type": "execute_result"
    }
   ],
   "source": [
    "sim_df_feat[:3]"
   ]
  },
  {
   "cell_type": "code",
   "execution_count": 199,
   "id": "a5524ee7-05a9-45fe-a658-85d312bc9b6e",
   "metadata": {},
   "outputs": [],
   "source": [
    "feature_cols = [\"PC\", \"RA\", \"SA1\",\"FiringRate_value\",\"Spikes_n_items\", \"depth\",\"Pin_Radius\",\"duration\",\n",
    "                \"Spikes_diff_time_inrange_10\",\n",
    "                \"Spikes_diff_time_inrange_20\", \n",
    "                \"Spikes_diff_mean_5\",\n",
    "                \"Spikes_diff_mean_15\"] # \"depth\", \"Pin_Radius\", \"Spikes_diff_mean\",\n",
    "target_col = \"Frequency\""
   ]
  },
  {
   "cell_type": "code",
   "execution_count": 200,
   "id": "6d9ddf42-7ee0-4bba-b367-7f8d489ed43e",
   "metadata": {},
   "outputs": [],
   "source": [
    "sim_df_feat[feature_cols+[target_col]].to_csv(\"../data/dataset_v3.csv\")"
   ]
  },
  {
   "cell_type": "code",
   "execution_count": null,
   "id": "2d21ae19-ac47-4664-a989-3ae58dfc361f",
   "metadata": {},
   "outputs": [],
   "source": []
  }
 ],
 "metadata": {
  "kernelspec": {
   "display_name": "Py3.8 (noaa)",
   "language": "python",
   "name": "noaa-runtime"
  },
  "language_info": {
   "codemirror_mode": {
    "name": "ipython",
    "version": 3
   },
   "file_extension": ".py",
   "mimetype": "text/x-python",
   "name": "python",
   "nbconvert_exporter": "python",
   "pygments_lexer": "ipython3",
   "version": "3.8.5"
  },
  "toc-autonumbering": true
 },
 "nbformat": 4,
 "nbformat_minor": 5
}
