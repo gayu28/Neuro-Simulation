{
 "cells": [
  {
   "cell_type": "code",
   "execution_count": 2,
   "id": "e7e0c6df-10e3-4f0e-80b0-64f6cd1d924f",
   "metadata": {},
   "outputs": [],
   "source": [
    "import numpy as np\n",
    "import pandas as pd"
   ]
  },
  {
   "cell_type": "code",
   "execution_count": 35,
   "id": "656bf20d-525e-4967-a1a1-47d1972fdada",
   "metadata": {},
   "outputs": [],
   "source": [
    "from sklearn.linear_model import ElasticNetCV\n",
    "from sklearn.metrics import r2_score"
   ]
  },
  {
   "cell_type": "code",
   "execution_count": 57,
   "id": "9424839b-4bd4-4736-a549-837aa4d6b55c",
   "metadata": {},
   "outputs": [],
   "source": [
    "import matplotlib.pyplot as plt\n",
    "import seaborn as sns"
   ]
  },
  {
   "cell_type": "markdown",
   "id": "9348d4ba-d3d1-4667-87b2-e64525d3562d",
   "metadata": {},
   "source": [
    "# Config"
   ]
  },
  {
   "cell_type": "code",
   "execution_count": 180,
   "id": "e9f0f374-4a75-4ab2-b0d8-fd3be14d9d69",
   "metadata": {},
   "outputs": [],
   "source": [
    "random_state = 1291\n",
    "\n",
    "feature_cols = [\"PC\", \"RA\", \"SA1\", \"FiringRate_value\",\"Spikes_diff_mean\", \"depth\", \"Pin_Radius\"] #\"Spikes_n_items\",  \n",
    "target_col = \"Frequency\""
   ]
  },
  {
   "cell_type": "markdown",
   "id": "5d9b62e4-c9aa-4813-a4d8-f2609a80dace",
   "metadata": {},
   "source": [
    "# Load Data"
   ]
  },
  {
   "cell_type": "code",
   "execution_count": 181,
   "id": "fa330054-53a9-4eab-9b0d-41005bb506da",
   "metadata": {},
   "outputs": [
    {
     "name": "stdout",
     "output_type": "stream",
     "text": [
      "(12499, 9)\n"
     ]
    },
    {
     "data": {
      "text/html": [
       "<div>\n",
       "<style scoped>\n",
       "    .dataframe tbody tr th:only-of-type {\n",
       "        vertical-align: middle;\n",
       "    }\n",
       "\n",
       "    .dataframe tbody tr th {\n",
       "        vertical-align: top;\n",
       "    }\n",
       "\n",
       "    .dataframe thead th {\n",
       "        text-align: right;\n",
       "    }\n",
       "</style>\n",
       "<table border=\"1\" class=\"dataframe\">\n",
       "  <thead>\n",
       "    <tr style=\"text-align: right;\">\n",
       "      <th></th>\n",
       "      <th>PC</th>\n",
       "      <th>RA</th>\n",
       "      <th>SA1</th>\n",
       "      <th>FiringRate_value</th>\n",
       "      <th>Spikes_n_items</th>\n",
       "      <th>Spikes_diff_mean</th>\n",
       "      <th>depth</th>\n",
       "      <th>Pin_Radius</th>\n",
       "      <th>Frequency</th>\n",
       "    </tr>\n",
       "  </thead>\n",
       "  <tbody>\n",
       "    <tr>\n",
       "      <th>9815</th>\n",
       "      <td>1</td>\n",
       "      <td>0</td>\n",
       "      <td>0</td>\n",
       "      <td>72.100</td>\n",
       "      <td>102</td>\n",
       "      <td>0.013590</td>\n",
       "      <td>1.78</td>\n",
       "      <td>0.345</td>\n",
       "      <td>75</td>\n",
       "    </tr>\n",
       "    <tr>\n",
       "      <th>10204</th>\n",
       "      <td>0</td>\n",
       "      <td>1</td>\n",
       "      <td>0</td>\n",
       "      <td>1.900</td>\n",
       "      <td>2</td>\n",
       "      <td>0.446800</td>\n",
       "      <td>2.77</td>\n",
       "      <td>0.470</td>\n",
       "      <td>95</td>\n",
       "    </tr>\n",
       "    <tr>\n",
       "      <th>9190</th>\n",
       "      <td>1</td>\n",
       "      <td>0</td>\n",
       "      <td>0</td>\n",
       "      <td>145.600</td>\n",
       "      <td>166</td>\n",
       "      <td>0.006739</td>\n",
       "      <td>1.15</td>\n",
       "      <td>0.980</td>\n",
       "      <td>75</td>\n",
       "    </tr>\n",
       "    <tr>\n",
       "      <th>10578</th>\n",
       "      <td>1</td>\n",
       "      <td>0</td>\n",
       "      <td>0</td>\n",
       "      <td>5.453</td>\n",
       "      <td>8</td>\n",
       "      <td>0.192886</td>\n",
       "      <td>0.30</td>\n",
       "      <td>0.755</td>\n",
       "      <td>5</td>\n",
       "    </tr>\n",
       "    <tr>\n",
       "      <th>9538</th>\n",
       "      <td>0</td>\n",
       "      <td>1</td>\n",
       "      <td>0</td>\n",
       "      <td>88.700</td>\n",
       "      <td>164</td>\n",
       "      <td>0.011179</td>\n",
       "      <td>0.62</td>\n",
       "      <td>0.970</td>\n",
       "      <td>45</td>\n",
       "    </tr>\n",
       "  </tbody>\n",
       "</table>\n",
       "</div>"
      ],
      "text/plain": [
       "       PC  RA  SA1  FiringRate_value  Spikes_n_items  Spikes_diff_mean  depth  \\\n",
       "9815    1   0    0            72.100             102          0.013590   1.78   \n",
       "10204   0   1    0             1.900               2          0.446800   2.77   \n",
       "9190    1   0    0           145.600             166          0.006739   1.15   \n",
       "10578   1   0    0             5.453               8          0.192886   0.30   \n",
       "9538    0   1    0            88.700             164          0.011179   0.62   \n",
       "\n",
       "       Pin_Radius  Frequency  \n",
       "9815        0.345         75  \n",
       "10204       0.470         95  \n",
       "9190        0.980         75  \n",
       "10578       0.755          5  \n",
       "9538        0.970         45  "
      ]
     },
     "execution_count": 181,
     "metadata": {},
     "output_type": "execute_result"
    }
   ],
   "source": [
    "dataset = pd.read_csv(\"../data/dataset_v1.csv\", index_col=0)\n",
    "print(dataset.shape)\n",
    "dataset.sample(5)"
   ]
  },
  {
   "cell_type": "markdown",
   "id": "83acc1a0-db26-4e3f-b98b-ffb38f9d9786",
   "metadata": {},
   "source": [
    "# Split"
   ]
  },
  {
   "cell_type": "code",
   "execution_count": 182,
   "id": "17a83b88-dbf0-4902-96b6-cb8b8f7c94fd",
   "metadata": {},
   "outputs": [],
   "source": [
    "X, y = dataset[feature_cols], dataset[target_col]"
   ]
  },
  {
   "cell_type": "markdown",
   "id": "9a8fbadf-423c-4721-be22-f9d64e5c5fb7",
   "metadata": {},
   "source": [
    "# Model"
   ]
  },
  {
   "cell_type": "code",
   "execution_count": 220,
   "id": "f2aed327-bd5e-4cd4-83dd-6b937bade4cf",
   "metadata": {},
   "outputs": [],
   "source": [
    "enet = ElasticNetCV(\n",
    "    l1_ratio=0.1,\n",
    "    eps=0.001,\n",
    "    n_alphas=1000,\n",
    "    random_state=random_state)"
   ]
  },
  {
   "cell_type": "code",
   "execution_count": 221,
   "id": "1acb6579-a2c8-4d25-b347-191d3014dc28",
   "metadata": {},
   "outputs": [
    {
     "data": {
      "text/plain": [
       "ElasticNetCV(l1_ratio=0.1, n_alphas=1000, random_state=1291)"
      ]
     },
     "execution_count": 221,
     "metadata": {},
     "output_type": "execute_result"
    }
   ],
   "source": [
    "enet.fit(X, y)"
   ]
  },
  {
   "cell_type": "code",
   "execution_count": 222,
   "id": "83f958e7-63f5-4a35-81c5-d76c7623d779",
   "metadata": {},
   "outputs": [
    {
     "data": {
      "text/plain": [
       "0.20316651771390137"
      ]
     },
     "execution_count": 222,
     "metadata": {},
     "output_type": "execute_result"
    }
   ],
   "source": [
    "enet.score(X,y)"
   ]
  },
  {
   "cell_type": "markdown",
   "id": "32dc8051-598a-4114-96f4-66225e0438bb",
   "metadata": {},
   "source": [
    "# Evaluate"
   ]
  },
  {
   "cell_type": "code",
   "execution_count": 223,
   "id": "7241610e-bb48-45a2-8a01-3c6d93402812",
   "metadata": {},
   "outputs": [],
   "source": [
    "pred_y = enet.predict(X)"
   ]
  },
  {
   "cell_type": "code",
   "execution_count": 224,
   "id": "08f8baf0-8d5c-4546-bcb8-c82746f42cd6",
   "metadata": {},
   "outputs": [
    {
     "name": "stderr",
     "output_type": "stream",
     "text": [
      "/home/minesh_1291/anaconda3/envs/noaa-runtime/lib/python3.8/site-packages/seaborn/_decorators.py:36: FutureWarning: Pass the following variables as keyword args: x, y. From version 0.12, the only valid positional argument will be `data`, and passing other arguments without an explicit keyword will result in an error or misinterpretation.\n",
      "  warnings.warn(\n"
     ]
    },
    {
     "data": {
      "text/plain": [
       "<AxesSubplot:xlabel='Frequency'>"
      ]
     },
     "execution_count": 224,
     "metadata": {},
     "output_type": "execute_result"
    },
    {
     "data": {
      "image/png": "[encoded data removed]",
      "text/plain": [
       "<Figure size 432x288 with 1 Axes>"
      ]
     },
     "metadata": {
      "needs_background": "light"
     },
     "output_type": "display_data"
    }
   ],
   "source": [
    "sns.boxplot(y, pred_y) # ,\".\")"
   ]
  },
  {
   "cell_type": "code",
   "execution_count": 225,
   "id": "e24aa72d-38fa-4fdf-ba06-cf7dc01d76e9",
   "metadata": {},
   "outputs": [
    {
     "data": {
      "text/plain": [
       "0.20316651771390137"
      ]
     },
     "execution_count": 225,
     "metadata": {},
     "output_type": "execute_result"
    }
   ],
   "source": [
    "r2_score(y, pred_y)"
   ]
  },
  {
   "cell_type": "markdown",
   "id": "eecff463-51ff-46ec-82f6-63a01048daff",
   "metadata": {},
   "source": [
    "# Interpretation"
   ]
  },
  {
   "cell_type": "code",
   "execution_count": 226,
   "id": "6fd5cf61-e0d7-49ed-bc41-06c37e87daab",
   "metadata": {},
   "outputs": [
    {
     "data": {
      "text/plain": [
       "7.228251642825786"
      ]
     },
     "execution_count": 226,
     "metadata": {},
     "output_type": "execute_result"
    }
   ],
   "source": [
    "enet.alpha_"
   ]
  },
  {
   "cell_type": "code",
   "execution_count": 227,
   "id": "8ccfdde0-08dd-41e5-a1ad-b3daeeb1f8de",
   "metadata": {},
   "outputs": [
    {
     "data": {
      "text/plain": [
       "0.1"
      ]
     },
     "execution_count": 227,
     "metadata": {},
     "output_type": "execute_result"
    }
   ],
   "source": [
    "enet.l1_ratio_"
   ]
  },
  {
   "cell_type": "code",
   "execution_count": 228,
   "id": "6d6fa094-750e-437f-a913-30ab482628bd",
   "metadata": {},
   "outputs": [
    {
     "data": {
      "image/png": "[encoded data removed]",
      "text/plain": [
       "<Figure size 1728x432 with 1 Axes>"
      ]
     },
     "metadata": {
      "needs_background": "light"
     },
     "output_type": "display_data"
    }
   ],
   "source": [
    "plt.subplots(figsize=(24,6))\n",
    "plt.bar(feature_cols, enet.coef_)\n",
    "plt.tight_layout()"
   ]
  },
  {
   "cell_type": "code",
   "execution_count": null,
   "id": "fff26e41-ff34-4368-b6cb-b6ab1a56a733",
   "metadata": {},
   "outputs": [],
   "source": []
  }
 ],
 "metadata": {
  "kernelspec": {
   "display_name": "Py3.8 (noaa)",
   "language": "python",
   "name": "noaa-runtime"
  },
  "language_info": {
   "codemirror_mode": {
    "name": "ipython",
    "version": 3
   },
   "file_extension": ".py",
   "mimetype": "text/x-python",
   "name": "python",
   "nbconvert_exporter": "python",
   "pygments_lexer": "ipython3",
   "version": "3.8.5"
  }
 },
 "nbformat": 4,
 "nbformat_minor": 5
}
