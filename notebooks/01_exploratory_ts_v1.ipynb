{
 "cells": [
  {
   "cell_type": "code",
   "execution_count": 21,
   "id": "e2b67116-289b-477a-b41b-6ca71c5a5bac",
   "metadata": {},
   "outputs": [],
   "source": [
    "import numpy as np\n",
    "import pandas as pd"
   ]
  },
  {
   "cell_type": "code",
   "execution_count": 2,
   "id": "cfcf7561-a1fb-4d58-a9cf-37d62ad05076",
   "metadata": {},
   "outputs": [],
   "source": [
    "inputfile = \"../data/TactSim-Draft1.csv\""
   ]
  },
  {
   "cell_type": "code",
   "execution_count": 4,
   "id": "2a925cc7-cbf2-4ddf-a489-2a2f22685b33",
   "metadata": {},
   "outputs": [
    {
     "name": "stdout",
     "output_type": "stream",
     "text": [
      "(20000, 7)\n"
     ]
    },
    {
     "data": {
      "text/html": [
       "<div>\n",
       "<style scoped>\n",
       "    .dataframe tbody tr th:only-of-type {\n",
       "        vertical-align: middle;\n",
       "    }\n",
       "\n",
       "    .dataframe tbody tr th {\n",
       "        vertical-align: top;\n",
       "    }\n",
       "\n",
       "    .dataframe thead th {\n",
       "        text-align: right;\n",
       "    }\n",
       "</style>\n",
       "<table border=\"1\" class=\"dataframe\">\n",
       "  <thead>\n",
       "    <tr style=\"text-align: right;\">\n",
       "      <th></th>\n",
       "      <th>FiringRate</th>\n",
       "      <th>Spikes</th>\n",
       "      <th>Frequency</th>\n",
       "      <th>depth</th>\n",
       "      <th>Afferent_Class</th>\n",
       "      <th>duration</th>\n",
       "      <th>Pin_Radius</th>\n",
       "    </tr>\n",
       "  </thead>\n",
       "  <tbody>\n",
       "    <tr>\n",
       "      <th>0</th>\n",
       "      <td>[0.0]</td>\n",
       "      <td>[]</td>\n",
       "      <td>25</td>\n",
       "      <td>3.19</td>\n",
       "      <td>PC</td>\n",
       "      <td>1.5245</td>\n",
       "      <td>1.36</td>\n",
       "    </tr>\n",
       "    <tr>\n",
       "      <th>1</th>\n",
       "      <td>[205.32852564102566]</td>\n",
       "      <td>[0.0084 0.017  0.0322 0.0354 0.0404 0.0436 0.0...</td>\n",
       "      <td>35</td>\n",
       "      <td>0.27</td>\n",
       "      <td>RA</td>\n",
       "      <td>1.9970</td>\n",
       "      <td>0.73</td>\n",
       "    </tr>\n",
       "    <tr>\n",
       "      <th>2</th>\n",
       "      <td>[0.0]</td>\n",
       "      <td>[]</td>\n",
       "      <td>15</td>\n",
       "      <td>1.39</td>\n",
       "      <td>PC</td>\n",
       "      <td>1.2720</td>\n",
       "      <td>0.34</td>\n",
       "    </tr>\n",
       "  </tbody>\n",
       "</table>\n",
       "</div>"
      ],
      "text/plain": [
       "             FiringRate                                             Spikes  \\\n",
       "0                 [0.0]                                                 []   \n",
       "1  [205.32852564102566]  [0.0084 0.017  0.0322 0.0354 0.0404 0.0436 0.0...   \n",
       "2                 [0.0]                                                 []   \n",
       "\n",
       "   Frequency  depth Afferent_Class  duration  Pin_Radius  \n",
       "0         25   3.19             PC    1.5245        1.36  \n",
       "1         35   0.27             RA    1.9970        0.73  \n",
       "2         15   1.39             PC    1.2720        0.34  "
      ]
     },
     "execution_count": 4,
     "metadata": {},
     "output_type": "execute_result"
    }
   ],
   "source": [
    "sim_df = pd.read_csv(inputfile, index_col=0)\n",
    "print(sim_df.shape)\n",
    "sim_df[:3]"
   ]
  },
  {
   "cell_type": "markdown",
   "id": "367aa931-5406-4e14-b973-2aa97d49db13",
   "metadata": {},
   "source": [
    "# Notes"
   ]
  },
  {
   "cell_type": "markdown",
   "id": "fdfcf4db-160c-4520-b820-343d04d119c0",
   "metadata": {},
   "source": [
    "- 20k Samples & 7 Columns\n",
    "- Columns\n",
    "  - Predictors\n",
    "      - FiringRate\n",
    "      - Spikes\n",
    "      - Afferent_Class\n",
    "  - Target\n",
    "      - Frequency"
   ]
  },
  {
   "cell_type": "markdown",
   "id": "0a5abb7d-b776-493b-998d-1c514136dead",
   "metadata": {},
   "source": [
    "## check data: FiringRate"
   ]
  },
  {
   "cell_type": "markdown",
   "id": "de75e173-e823-4c66-b66a-36f014dbd249",
   "metadata": {},
   "source": [
    "- Contains list with only one value"
   ]
  },
  {
   "cell_type": "code",
   "execution_count": 15,
   "id": "07ee2c09-2d0b-486c-82fd-a6df210e24a2",
   "metadata": {},
   "outputs": [
    {
     "data": {
      "text/plain": [
       "1    20000\n",
       "Name: FiringRate, dtype: int64"
      ]
     },
     "execution_count": 15,
     "metadata": {},
     "output_type": "execute_result"
    }
   ],
   "source": [
    "check_list_lengths(sim_df[\"FiringRate\"])"
   ]
  },
  {
   "cell_type": "code",
   "execution_count": 13,
   "id": "e3b9a02b-b0a3-44f5-aafd-a9416cd6f307",
   "metadata": {},
   "outputs": [],
   "source": [
    "sim_df[\"FiringRate_value\"] = sim_df[\"FiringRate\"].apply(lambda x: round(eval(x)[0], 4)).astype(\"float16\")"
   ]
  },
  {
   "cell_type": "markdown",
   "id": "965c3ade-acd1-4ca0-994c-8022ac4b8ecb",
   "metadata": {},
   "source": [
    "## check data: Spikes"
   ]
  },
  {
   "cell_type": "markdown",
   "id": "9ea39568-d174-4ca2-931c-a0a61a17790f",
   "metadata": {},
   "source": [
    "| num of items | num of samples |\n",
    "| -- | -- |\n",
    "| 0 |   10914 | \n",
    "| 1 |     314 | \n",
    "| 2 |      165 | \n",
    "| 3 |       102 | \n",
    "| 4 |        78 | \n",
    "Sum = 11573"
   ]
  },
  {
   "cell_type": "code",
   "execution_count": 43,
   "id": "d7285ade-59bb-484b-b0c3-06ed76682cd1",
   "metadata": {},
   "outputs": [],
   "source": [
    "# sim_df[\"Spikes\"].apply(lambda x: len(x)).value_counts()[:30] # len of string"
   ]
  },
  {
   "cell_type": "code",
   "execution_count": 48,
   "id": "4cd184fe-6967-45e0-92b3-f1f3eddea0af",
   "metadata": {},
   "outputs": [
    {
     "data": {
      "text/plain": [
       "0     10914\n",
       "1       314\n",
       "2       165\n",
       "3       102\n",
       "49       96\n",
       "6        88\n",
       "47       88\n",
       "26       83\n",
       "41       81\n",
       "39       80\n",
       "Name: Spikes, dtype: int64"
      ]
     },
     "execution_count": 48,
     "metadata": {},
     "output_type": "execute_result"
    }
   ],
   "source": [
    "sim_df[\"Spikes_n_items\"] = sim_df[\"Spikes\"].apply(lambda x: len(np_from_str(x)))\n",
    "\n",
    "sim_df[\"Spikes\"].apply(lambda x: len(np_from_str(x))).value_counts()[:10]"
   ]
  },
  {
   "cell_type": "markdown",
   "id": "d7142f4b-c38b-42c5-be08-252ac505dea5",
   "metadata": {},
   "source": [
    "## check data: Afferent_Class"
   ]
  },
  {
   "cell_type": "code",
   "execution_count": 49,
   "id": "ff03dc47-b15d-4685-9241-614576624e1a",
   "metadata": {},
   "outputs": [
    {
     "data": {
      "text/plain": [
       "RA     6675\n",
       "SA1    6668\n",
       "PC     6657\n",
       "Name: Afferent_Class, dtype: int64"
      ]
     },
     "execution_count": 49,
     "metadata": {},
     "output_type": "execute_result"
    }
   ],
   "source": [
    "sim_df[\"Afferent_Class\"].value_counts()"
   ]
  },
  {
   "cell_type": "code",
   "execution_count": 56,
   "id": "f7fa3a33-8727-4705-bc28-94395956a422",
   "metadata": {},
   "outputs": [
    {
     "data": {
      "text/plain": [
       "Afferent_Class    \n",
       "PC              0     1582\n",
       "                1      109\n",
       "                41      49\n",
       "                49      49\n",
       "                39      48\n",
       "RA              0     3066\n",
       "                1      161\n",
       "                2      100\n",
       "                3       59\n",
       "                6       58\n",
       "SA1             0     6266\n",
       "                1       44\n",
       "                2       24\n",
       "                3       24\n",
       "                5       17\n",
       "Name: Spikes_n_items, dtype: int64"
      ]
     },
     "execution_count": 56,
     "metadata": {},
     "output_type": "execute_result"
    }
   ],
   "source": [
    "sim_df.groupby(\"Afferent_Class\")[\"Spikes_n_items\"].apply(lambda x: x.value_counts()[:5])"
   ]
  },
  {
   "cell_type": "markdown",
   "id": "7d2e296b-118b-4147-8e43-6b519570b0cc",
   "metadata": {},
   "source": [
    "## check data: Frequency"
   ]
  },
  {
   "cell_type": "code",
   "execution_count": 59,
   "id": "8d8bbd07-0469-40dd-a172-b611d36f64a0",
   "metadata": {},
   "outputs": [
    {
     "data": {
      "text/plain": [
       "5     2051\n",
       "15    1988\n",
       "25    2043\n",
       "35    1943\n",
       "45    2085\n",
       "55    1953\n",
       "65    2006\n",
       "75    2028\n",
       "85    1954\n",
       "95    1949\n",
       "Name: Frequency, dtype: int64"
      ]
     },
     "execution_count": 59,
     "metadata": {},
     "output_type": "execute_result"
    }
   ],
   "source": [
    "sim_df[\"Frequency\"].value_counts().sort_index()"
   ]
  },
  {
   "cell_type": "markdown",
   "id": "6ca86e5a-f86d-463e-96ee-0906dd9321ec",
   "metadata": {},
   "source": [
    "# Utilities"
   ]
  },
  {
   "cell_type": "code",
   "execution_count": 17,
   "id": "accd7f2c-535b-437d-88cc-d5a50fa1ff6c",
   "metadata": {},
   "outputs": [],
   "source": [
    "def check_list_lengths(series):\n",
    "    return series.apply(lambda x: len(eval(x))).value_counts()\n",
    "     \n",
    "def np_from_str(string):\n",
    "    string = string.replace(\"[]\",\"\").replace(\"]\",\"\").replace(\"[\",\"\").replace(\".\",\"\")\n",
    "    float_list = [float(i.strip()) for i in string.split()]\n",
    "    return float_list"
   ]
  },
  {
   "cell_type": "code",
   "execution_count": null,
   "id": "ecb30b12-0d6e-40ac-998c-bf024ea081d5",
   "metadata": {},
   "outputs": [],
   "source": []
  }
 ],
 "metadata": {
  "kernelspec": {
   "display_name": "Py3.8 (noaa)",
   "language": "python",
   "name": "noaa-runtime"
  },
  "language_info": {
   "codemirror_mode": {
    "name": "ipython",
    "version": 3
   },
   "file_extension": ".py",
   "mimetype": "text/x-python",
   "name": "python",
   "nbconvert_exporter": "python",
   "pygments_lexer": "ipython3",
   "version": "3.8.5"
  },
  "toc-autonumbering": true
 },
 "nbformat": 4,
 "nbformat_minor": 5
}
