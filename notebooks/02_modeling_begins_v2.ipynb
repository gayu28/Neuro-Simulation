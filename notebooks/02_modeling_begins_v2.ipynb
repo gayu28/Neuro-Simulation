{
 "cells": [
  {
   "cell_type": "code",
   "execution_count": 1,
   "id": "e7e0c6df-10e3-4f0e-80b0-64f6cd1d924f",
   "metadata": {},
   "outputs": [],
   "source": [
    "import numpy as np\n",
    "import pandas as pd"
   ]
  },
  {
   "cell_type": "code",
   "execution_count": 219,
   "id": "656bf20d-525e-4967-a1a1-47d1972fdada",
   "metadata": {},
   "outputs": [],
   "source": [
    "from sklearn.model_selection import StratifiedKFold\n",
    "\n",
    "from sklearn.linear_model import ElasticNetCV, ElasticNet\n",
    "from sklearn.ensemble import BaggingRegressor, RandomForestClassifier\n",
    "from sklearn.metrics import r2_score, mean_squared_error"
   ]
  },
  {
   "cell_type": "code",
   "execution_count": 189,
   "id": "9424839b-4bd4-4736-a549-837aa4d6b55c",
   "metadata": {},
   "outputs": [],
   "source": [
    "import matplotlib.pyplot as plt\n",
    "import seaborn as sns"
   ]
  },
  {
   "cell_type": "markdown",
   "id": "9348d4ba-d3d1-4667-87b2-e64525d3562d",
   "metadata": {},
   "source": [
    "# Config"
   ]
  },
  {
   "cell_type": "code",
   "execution_count": 226,
   "id": "e9f0f374-4a75-4ab2-b0d8-fd3be14d9d69",
   "metadata": {},
   "outputs": [],
   "source": [
    "random_state = 1291\n",
    "\n",
    "feature_cols = [\"PC\", \"RA\", \"SA1\", \"FiringRate_value\",\"Spikes_diff_mean\", \"depth\", \"Pin_Radius\", \"Spikes_diff_time_inrange\", \"Spikes_n_items\"][-2:] \n",
    "feature_cols = [\"PC\", \"RA\", \"SA1\", \"FiringRate_value\",\"Spikes_diff_mean\", \"Pin_Radius\", \"Spikes_diff_time_inrange\",\n",
    "               \"Spikes_diff_mean_2\",\"Spikes_diff_mean_5\"] #\"depth\"\n",
    "# feature_cols = [\"Spikes_diff_time_inrange\",\"FiringRate_value\"]\n",
    "target_col = \"Frequency\"\n",
    "\n",
    "N_folds = 5"
   ]
  },
  {
   "cell_type": "markdown",
   "id": "5d9b62e4-c9aa-4813-a4d8-f2609a80dace",
   "metadata": {},
   "source": [
    "# Load Data"
   ]
  },
  {
   "cell_type": "code",
   "execution_count": 204,
   "id": "fa330054-53a9-4eab-9b0d-41005bb506da",
   "metadata": {},
   "outputs": [
    {
     "name": "stdout",
     "output_type": "stream",
     "text": [
      "(10860, 15)\n"
     ]
    },
    {
     "data": {
      "text/html": [
       "<div>\n",
       "<style scoped>\n",
       "    .dataframe tbody tr th:only-of-type {\n",
       "        vertical-align: middle;\n",
       "    }\n",
       "\n",
       "    .dataframe tbody tr th {\n",
       "        vertical-align: top;\n",
       "    }\n",
       "\n",
       "    .dataframe thead th {\n",
       "        text-align: right;\n",
       "    }\n",
       "</style>\n",
       "<table border=\"1\" class=\"dataframe\">\n",
       "  <thead>\n",
       "    <tr style=\"text-align: right;\">\n",
       "      <th></th>\n",
       "      <th>PC</th>\n",
       "      <th>PC.1</th>\n",
       "      <th>RA</th>\n",
       "      <th>RA.1</th>\n",
       "      <th>SA1</th>\n",
       "      <th>SA1.1</th>\n",
       "      <th>FiringRate_value</th>\n",
       "      <th>Spikes_n_items</th>\n",
       "      <th>Spikes_diff_mean</th>\n",
       "      <th>depth</th>\n",
       "      <th>Pin_Radius</th>\n",
       "      <th>Spikes_diff_time_inrange</th>\n",
       "      <th>Spikes_diff_mean_2</th>\n",
       "      <th>Spikes_diff_mean_5</th>\n",
       "      <th>Frequency</th>\n",
       "    </tr>\n",
       "  </thead>\n",
       "  <tbody>\n",
       "    <tr>\n",
       "      <th>146</th>\n",
       "      <td>1</td>\n",
       "      <td>1</td>\n",
       "      <td>0</td>\n",
       "      <td>0</td>\n",
       "      <td>0</td>\n",
       "      <td>0</td>\n",
       "      <td>95.40</td>\n",
       "      <td>189</td>\n",
       "      <td>0.021033</td>\n",
       "      <td>1.28</td>\n",
       "      <td>0.960</td>\n",
       "      <td>0.1032</td>\n",
       "      <td>0.021033</td>\n",
       "      <td>0.052603</td>\n",
       "      <td>95</td>\n",
       "    </tr>\n",
       "    <tr>\n",
       "      <th>7194</th>\n",
       "      <td>1</td>\n",
       "      <td>1</td>\n",
       "      <td>0</td>\n",
       "      <td>0</td>\n",
       "      <td>0</td>\n",
       "      <td>0</td>\n",
       "      <td>164.20</td>\n",
       "      <td>265</td>\n",
       "      <td>0.011934</td>\n",
       "      <td>1.70</td>\n",
       "      <td>0.790</td>\n",
       "      <td>0.0812</td>\n",
       "      <td>0.011934</td>\n",
       "      <td>0.029576</td>\n",
       "      <td>85</td>\n",
       "    </tr>\n",
       "    <tr>\n",
       "      <th>8633</th>\n",
       "      <td>1</td>\n",
       "      <td>1</td>\n",
       "      <td>0</td>\n",
       "      <td>0</td>\n",
       "      <td>0</td>\n",
       "      <td>0</td>\n",
       "      <td>166.80</td>\n",
       "      <td>178</td>\n",
       "      <td>0.011784</td>\n",
       "      <td>1.07</td>\n",
       "      <td>1.185</td>\n",
       "      <td>0.0636</td>\n",
       "      <td>0.011784</td>\n",
       "      <td>0.029422</td>\n",
       "      <td>85</td>\n",
       "    </tr>\n",
       "    <tr>\n",
       "      <th>1783</th>\n",
       "      <td>1</td>\n",
       "      <td>1</td>\n",
       "      <td>0</td>\n",
       "      <td>0</td>\n",
       "      <td>0</td>\n",
       "      <td>0</td>\n",
       "      <td>35.22</td>\n",
       "      <td>37</td>\n",
       "      <td>0.054514</td>\n",
       "      <td>1.99</td>\n",
       "      <td>1.420</td>\n",
       "      <td>0.2722</td>\n",
       "      <td>0.054514</td>\n",
       "      <td>0.136313</td>\n",
       "      <td>55</td>\n",
       "    </tr>\n",
       "    <tr>\n",
       "      <th>9488</th>\n",
       "      <td>0</td>\n",
       "      <td>0</td>\n",
       "      <td>1</td>\n",
       "      <td>1</td>\n",
       "      <td>0</td>\n",
       "      <td>0</td>\n",
       "      <td>26.62</td>\n",
       "      <td>34</td>\n",
       "      <td>0.070688</td>\n",
       "      <td>1.51</td>\n",
       "      <td>0.480</td>\n",
       "      <td>0.3724</td>\n",
       "      <td>0.070688</td>\n",
       "      <td>0.175552</td>\n",
       "      <td>35</td>\n",
       "    </tr>\n",
       "  </tbody>\n",
       "</table>\n",
       "</div>"
      ],
      "text/plain": [
       "      PC  PC.1  RA  RA.1  SA1  SA1.1  FiringRate_value  Spikes_n_items  \\\n",
       "146    1     1   0     0    0      0             95.40             189   \n",
       "7194   1     1   0     0    0      0            164.20             265   \n",
       "8633   1     1   0     0    0      0            166.80             178   \n",
       "1783   1     1   0     0    0      0             35.22              37   \n",
       "9488   0     0   1     1    0      0             26.62              34   \n",
       "\n",
       "      Spikes_diff_mean  depth  Pin_Radius  Spikes_diff_time_inrange  \\\n",
       "146           0.021033   1.28       0.960                    0.1032   \n",
       "7194          0.011934   1.70       0.790                    0.0812   \n",
       "8633          0.011784   1.07       1.185                    0.0636   \n",
       "1783          0.054514   1.99       1.420                    0.2722   \n",
       "9488          0.070688   1.51       0.480                    0.3724   \n",
       "\n",
       "      Spikes_diff_mean_2  Spikes_diff_mean_5  Frequency  \n",
       "146             0.021033            0.052603         95  \n",
       "7194            0.011934            0.029576         85  \n",
       "8633            0.011784            0.029422         85  \n",
       "1783            0.054514            0.136313         55  \n",
       "9488            0.070688            0.175552         35  "
      ]
     },
     "execution_count": 204,
     "metadata": {},
     "output_type": "execute_result"
    }
   ],
   "source": [
    "dataset = pd.read_csv(\"../data/dataset_v2.csv\", index_col=0)\n",
    "print(dataset.shape)\n",
    "dataset.sample(5)"
   ]
  },
  {
   "cell_type": "markdown",
   "id": "83acc1a0-db26-4e3f-b98b-ffb38f9d9786",
   "metadata": {},
   "source": [
    "# Split"
   ]
  },
  {
   "cell_type": "code",
   "execution_count": 205,
   "id": "17a83b88-dbf0-4902-96b6-cb8b8f7c94fd",
   "metadata": {},
   "outputs": [
    {
     "data": {
      "text/plain": [
       "((10860, 9), (10860,))"
      ]
     },
     "execution_count": 205,
     "metadata": {},
     "output_type": "execute_result"
    }
   ],
   "source": [
    "X, y = dataset[feature_cols], dataset[target_col]\n",
    "X.shape, y.shape"
   ]
  },
  {
   "cell_type": "code",
   "execution_count": 246,
   "id": "e08ed771-5c7b-4aa0-96e9-720ecd547823",
   "metadata": {},
   "outputs": [
    {
     "name": "stderr",
     "output_type": "stream",
     "text": [
      "/home/minesh_1291/anaconda3/envs/noaa-runtime/lib/python3.8/site-packages/sklearn/model_selection/_split.py:293: FutureWarning: Setting a random_state has no effect since shuffle is False. This will raise an error in 0.24. You should leave random_state to its default (None), or set shuffle=True.\n",
      "  warnings.warn(\n"
     ]
    }
   ],
   "source": [
    "skf = StratifiedKFold(random_state=random_state)\n",
    "for i, (train_index, test_index) in enumerate(skf.split(X, y)):\n",
    "    dataset[f\"fold_{i}\"] = \"\"\n",
    "    dataset.loc[train_index, f\"fold_{i}\"] = \"train\"\n",
    "    dataset.loc[test_index, f\"fold_{i}\"] = \"test\""
   ]
  },
  {
   "cell_type": "markdown",
   "id": "9a8fbadf-423c-4721-be22-f9d64e5c5fb7",
   "metadata": {},
   "source": [
    "# Model"
   ]
  },
  {
   "cell_type": "code",
   "execution_count": 247,
   "id": "dd41ed86-7acf-41d0-bc84-ed0feac2ac4a",
   "metadata": {},
   "outputs": [],
   "source": [
    "# BaggingClassifier - ElasticNetCV\n",
    "\n",
    "enet = ElasticNetCV(\n",
    "    l1_ratio=0.5,\n",
    "    eps=0.001,\n",
    "    n_alphas=100,\n",
    "    random_state=random_state,\n",
    "    fit_intercept=True)\n",
    "\n",
    "bagging = BaggingRegressor(enet,\n",
    "                           n_estimators=100,\n",
    "                            max_samples=0.5, max_features=0.5)\n"
   ]
  },
  {
   "cell_type": "code",
   "execution_count": 252,
   "id": "2fefcc8e-4191-4ef5-a4c4-bc6177b82750",
   "metadata": {},
   "outputs": [],
   "source": [
    "# RandomForestClassifier\n",
    "\n",
    "rfc = RandomForestClassifier(\n",
    "    min_samples_split=25)"
   ]
  },
  {
   "cell_type": "code",
   "execution_count": 253,
   "id": "f2aed327-bd5e-4cd4-83dd-6b937bade4cf",
   "metadata": {},
   "outputs": [],
   "source": [
    "# ElasticNetCV\n",
    "\n",
    "# enet = ElasticNetCV(\n",
    "#     l1_ratio=0.5,\n",
    "#     eps=0.001,\n",
    "#     n_alphas=100,\n",
    "#     random_state=random_state,\n",
    "#     fit_intercept=True)"
   ]
  },
  {
   "cell_type": "code",
   "execution_count": 254,
   "id": "1acb6579-a2c8-4d25-b347-191d3014dc28",
   "metadata": {},
   "outputs": [
    {
     "name": "stdout",
     "output_type": "stream",
     "text": [
      "fold_0\n",
      "0.819866482504604 0.6998158379373849\n",
      "fold_1\n",
      "0.8105432780847146 0.7076427255985267\n",
      "fold_2\n",
      "0.8107734806629834 0.7021178637200737\n",
      "fold_3\n",
      "0.8154926335174953 0.6979742173112339\n",
      "fold_4\n",
      "0.815377532228361 0.7168508287292817\n"
     ]
    }
   ],
   "source": [
    "for f in range(N_folds):\n",
    "    print(f\"fold_{f}\")\n",
    "    X_tr, y_tr = dataset.loc[dataset[f\"fold_{f}\"]==\"train\",feature_cols], dataset.loc[dataset[f\"fold_{f}\"]==\"train\", target_col]\n",
    "    X_test, y_test = dataset.loc[dataset[f\"fold_{f}\"]==\"test\",feature_cols], dataset.loc[dataset[f\"fold_{f}\"]==\"test\", target_col]\n",
    "    \n",
    "    rfc = rfc.fit(X_tr, y_tr)\n",
    "    print(\n",
    "        rfc.score(X_tr, y_tr),\n",
    "        rfc.score(X_test, y_test)\n",
    "    )\n",
    "    \n",
    "    dataset.loc[dataset[f\"fold_{f}\"]==\"train\", f\"fold_{f}_pred\"] = rfc.predict(X_tr)\n",
    "    dataset.loc[dataset[f\"fold_{f}\"]==\"test\", f\"fold_{f}_pred\"] = rfc.predict(X_test)\n",
    "    \n",
    "    "
   ]
  },
  {
   "cell_type": "code",
   "execution_count": null,
   "id": "be7063b9-d1bf-4a0c-ac55-fdd2f340de11",
   "metadata": {},
   "outputs": [],
   "source": []
  },
  {
   "cell_type": "code",
   "execution_count": 209,
   "id": "83f958e7-63f5-4a35-81c5-d76c7623d779",
   "metadata": {},
   "outputs": [],
   "source": [
    "# ElasticNetCV\n",
    "\n",
    "# enet.score(X,y)"
   ]
  },
  {
   "cell_type": "code",
   "execution_count": 251,
   "id": "42c0e4fb-b028-4523-b847-b766273e4921",
   "metadata": {},
   "outputs": [
    {
     "data": {
      "text/plain": [
       "0.868232044198895"
      ]
     },
     "execution_count": 251,
     "metadata": {},
     "output_type": "execute_result"
    }
   ],
   "source": [
    "# BaggingClassifier - ElasticNetCV\n",
    "\n",
    "# bagging.score(X, y)\n",
    "\n",
    "rfc.score(X, y)"
   ]
  },
  {
   "cell_type": "markdown",
   "id": "32dc8051-598a-4114-96f4-66225e0438bb",
   "metadata": {},
   "source": [
    "# Evaluate"
   ]
  },
  {
   "cell_type": "code",
   "execution_count": 215,
   "id": "7241610e-bb48-45a2-8a01-3c6d93402812",
   "metadata": {},
   "outputs": [],
   "source": [
    "pred_y = rfc.predict(X)"
   ]
  },
  {
   "cell_type": "code",
   "execution_count": 216,
   "id": "08f8baf0-8d5c-4546-bcb8-c82746f42cd6",
   "metadata": {},
   "outputs": [
    {
     "name": "stderr",
     "output_type": "stream",
     "text": [
      "/home/minesh_1291/anaconda3/envs/noaa-runtime/lib/python3.8/site-packages/seaborn/_decorators.py:36: FutureWarning: Pass the following variables as keyword args: x, y. From version 0.12, the only valid positional argument will be `data`, and passing other arguments without an explicit keyword will result in an error or misinterpretation.\n",
      "  warnings.warn(\n"
     ]
    },
    {
     "data": {
      "text/plain": [
       "<AxesSubplot:xlabel='Frequency'>"
      ]
     },
     "execution_count": 216,
     "metadata": {},
     "output_type": "execute_result"
    },
    {
     "data": {
      "image/png": "[encoded data removed]",
      "text/plain": [
       "<Figure size 432x288 with 1 Axes>"
      ]
     },
     "metadata": {
      "needs_background": "light"
     },
     "output_type": "display_data"
    }
   ],
   "source": [
    "sns.boxplot(y, pred_y) # ,\".\")"
   ]
  },
  {
   "cell_type": "code",
   "execution_count": 217,
   "id": "e24aa72d-38fa-4fdf-ba06-cf7dc01d76e9",
   "metadata": {},
   "outputs": [
    {
     "data": {
      "text/plain": [
       "1.0"
      ]
     },
     "execution_count": 217,
     "metadata": {},
     "output_type": "execute_result"
    }
   ],
   "source": [
    "r2_score(y, pred_y)"
   ]
  },
  {
   "cell_type": "code",
   "execution_count": 218,
   "id": "830a656f-210b-4b48-9ed4-ac0d8ac1b54c",
   "metadata": {},
   "outputs": [
    {
     "name": "stderr",
     "output_type": "stream",
     "text": [
      "<ipython-input-218-8f93844441e9>:6: DeprecationWarning: The default dtype for empty Series will be 'object' instead of 'float64' in a future version. Specify a dtype explicitly to silence this warning.\n",
      "  rmse_dict = pd.Series(index=freqs)\n"
     ]
    },
    {
     "data": {
      "text/plain": [
       "<AxesSubplot:>"
      ]
     },
     "execution_count": 218,
     "metadata": {},
     "output_type": "execute_result"
    },
    {
     "data": {
      "image/png": "[encoded data removed]",
      "text/plain": [
       "<Figure size 432x288 with 1 Axes>"
      ]
     },
     "metadata": {
      "needs_background": "light"
     },
     "output_type": "display_data"
    }
   ],
   "source": [
    "def rmse_f(y, y_):\n",
    "    rmse = mean_squared_error(y, y_, squared=False)\n",
    "    return round(rmse, 3)\n",
    "\n",
    "freqs = np.sort(y.unique())\n",
    "rmse_dict = pd.Series(index=freqs)\n",
    "for yi in freqs:\n",
    "    rmse_dict[yi] = rmse_f(y[y==yi], pred_y[y==yi])\n",
    "    \n",
    "rmse_dict.plot(kind='bar')"
   ]
  },
  {
   "cell_type": "code",
   "execution_count": 237,
   "id": "c468732a-0bbe-48a1-8825-2bcface03325",
   "metadata": {},
   "outputs": [],
   "source": [
    "dataset[\"Afferent_Class\"] = dataset[[\"PC\", \"RA\", \"SA1\"]].idxmax(1)"
   ]
  },
  {
   "cell_type": "code",
   "execution_count": 243,
   "id": "21a78c9c-fa4a-42be-8ad7-e43914e90cfc",
   "metadata": {},
   "outputs": [
    {
     "data": {
      "text/plain": [
       "Afferent_Class  Frequency  fold_1\n",
       "PC              5          test        2\n",
       "                           train       8\n",
       "                15         test       76\n",
       "                           train     297\n",
       "                25         test      111\n",
       "                           train     435\n",
       "                35         test      148\n",
       "                           train     568\n",
       "                45         test      142\n",
       "                           train     532\n",
       "                55         test      163\n",
       "                           train     614\n",
       "                65         test      154\n",
       "                           train     643\n",
       "                75         test      174\n",
       "                           train     610\n",
       "                85         test      168\n",
       "                           train     698\n",
       "                95         test      169\n",
       "                           train     662\n",
       "RA              5          test       21\n",
       "                           train      84\n",
       "                15         test       50\n",
       "                           train     206\n",
       "                25         test       74\n",
       "                           train     304\n",
       "                35         test       80\n",
       "                           train     344\n",
       "                45         test       94\n",
       "                           train     413\n",
       "                55         test       92\n",
       "                           train     410\n",
       "                65         test      115\n",
       "                           train     428\n",
       "                75         test      101\n",
       "                           train     491\n",
       "                85         test      124\n",
       "                           train     471\n",
       "                95         test      113\n",
       "                           train     465\n",
       "SA1             65         train       2\n",
       "                75         train       1\n",
       "                85         test        1\n",
       "                           train       1\n",
       "                95         train       1\n",
       "Name: fold_1, dtype: int64"
      ]
     },
     "execution_count": 243,
     "metadata": {},
     "output_type": "execute_result"
    }
   ],
   "source": [
    "dataset.groupby([\"Afferent_Class\",\"Frequency\"])[\"fold_1\"].value_counts().sort_index()"
   ]
  },
  {
   "cell_type": "markdown",
   "id": "eecff463-51ff-46ec-82f6-63a01048daff",
   "metadata": {},
   "source": [
    "# Interpretation"
   ]
  },
  {
   "cell_type": "markdown",
   "id": "b9ec1c10-a27a-419d-87e8-5600f88a959f",
   "metadata": {},
   "source": [
    "## RFC"
   ]
  },
  {
   "cell_type": "code",
   "execution_count": null,
   "id": "ff378299-6d0d-4fc2-9bcf-c041b67f34df",
   "metadata": {},
   "outputs": [],
   "source": []
  },
  {
   "cell_type": "markdown",
   "id": "de836672-8599-4a3e-82d3-40985719edf0",
   "metadata": {},
   "source": [
    "## Enet"
   ]
  },
  {
   "cell_type": "code",
   "execution_count": 145,
   "id": "6fd5cf61-e0d7-49ed-bc41-06c37e87daab",
   "metadata": {},
   "outputs": [
    {
     "data": {
      "text/plain": [
       "1.4060874177665517"
      ]
     },
     "execution_count": 145,
     "metadata": {},
     "output_type": "execute_result"
    }
   ],
   "source": [
    "enet.alpha_"
   ]
  },
  {
   "cell_type": "code",
   "execution_count": 146,
   "id": "8ccfdde0-08dd-41e5-a1ad-b3daeeb1f8de",
   "metadata": {},
   "outputs": [
    {
     "data": {
      "text/plain": [
       "0.5"
      ]
     },
     "execution_count": 146,
     "metadata": {},
     "output_type": "execute_result"
    }
   ],
   "source": [
    "enet.l1_ratio_"
   ]
  },
  {
   "cell_type": "code",
   "execution_count": 147,
   "id": "6d6fa094-750e-437f-a913-30ab482628bd",
   "metadata": {},
   "outputs": [
    {
     "data": {
      "image/png": "[encoded data removed]",
      "text/plain": [
       "<Figure size 1728x432 with 1 Axes>"
      ]
     },
     "metadata": {
      "needs_background": "light"
     },
     "output_type": "display_data"
    }
   ],
   "source": [
    "plt.subplots(figsize=(24,6))\n",
    "plt.bar(feature_cols, enet.coef_)\n",
    "plt.tight_layout()"
   ]
  },
  {
   "cell_type": "code",
   "execution_count": null,
   "id": "fff26e41-ff34-4368-b6cb-b6ab1a56a733",
   "metadata": {},
   "outputs": [],
   "source": []
  },
  {
   "cell_type": "code",
   "execution_count": null,
   "id": "a3948753-52ee-48c8-b612-eba4b3de3625",
   "metadata": {},
   "outputs": [],
   "source": []
  }
 ],
 "metadata": {
  "kernelspec": {
   "display_name": "Py3.8 (noaa)",
   "language": "python",
   "name": "noaa-runtime"
  },
  "language_info": {
   "codemirror_mode": {
    "name": "ipython",
    "version": 3
   },
   "file_extension": ".py",
   "mimetype": "text/x-python",
   "name": "python",
   "nbconvert_exporter": "python",
   "pygments_lexer": "ipython3",
   "version": "3.8.5"
  }
 },
 "nbformat": 4,
 "nbformat_minor": 5
}
