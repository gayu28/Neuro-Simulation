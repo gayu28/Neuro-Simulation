{
 "cells": [
  {
   "cell_type": "code",
   "execution_count": 25,
   "id": "e2b67116-289b-477a-b41b-6ca71c5a5bac",
   "metadata": {},
   "outputs": [],
   "source": [
    "import numpy as np\n",
    "import pandas as pd\n",
    "\n",
    "import matplotlib.pyplot as plt"
   ]
  },
  {
   "cell_type": "code",
   "execution_count": 8,
   "id": "9f9aa24b-8764-481e-b244-5f5a5c4cc6c0",
   "metadata": {},
   "outputs": [],
   "source": [
    "pd.set_option('display.max_rows', None)\n",
    "pd.set_option('display.max_columns', None)\n",
    "pd.set_option('display.width', 12)\n",
    "pd.set_option('display.max_colwidth', 200)"
   ]
  },
  {
   "cell_type": "markdown",
   "id": "6761c283-8008-49f8-a5f4-d09437eb6270",
   "metadata": {},
   "source": [
    "# Utilities"
   ]
  },
  {
   "cell_type": "code",
   "execution_count": 9,
   "id": "227d4f0b-8f3b-413f-a0ec-a5dbd20d857f",
   "metadata": {},
   "outputs": [],
   "source": [
    "def eval_w(x):\n",
    "    try:\n",
    "        return eval(x)\n",
    "    except Exception as e:\n",
    "        print(x, e)\n",
    "        return []\n",
    "\n",
    "def check_list_lengths(series):\n",
    "    return series.apply(lambda x: len(x)).value_counts()\n",
    "        \n",
    "def np_from_str(string):\n",
    "    string = string.replace(\"[]\",\"\").replace(\"]\",\"\").replace(\"[\",\"\").replace(\".\",\"\")\n",
    "    float_list = [float(i.strip()) for i in string.split()]\n",
    "    return float_list"
   ]
  },
  {
   "cell_type": "markdown",
   "id": "694808f8-cd63-4225-a00f-029b6d507a98",
   "metadata": {},
   "source": [
    "# Main"
   ]
  },
  {
   "cell_type": "code",
   "execution_count": 78,
   "id": "cfcf7561-a1fb-4d58-a9cf-37d62ad05076",
   "metadata": {},
   "outputs": [],
   "source": [
    "inputfile = \"../data/TactSim-Draft1.csv\"\n",
    "inputfile = \"../data/TactSim-Draft2.pkl\""
   ]
  },
  {
   "cell_type": "code",
   "execution_count": 79,
   "id": "2a925cc7-cbf2-4ddf-a489-2a2f22685b33",
   "metadata": {},
   "outputs": [
    {
     "name": "stdout",
     "output_type": "stream",
     "text": [
      "(12499, 7)\n"
     ]
    },
    {
     "data": {
      "text/html": [
       "<div>\n",
       "<style scoped>\n",
       "    .dataframe tbody tr th:only-of-type {\n",
       "        vertical-align: middle;\n",
       "    }\n",
       "\n",
       "    .dataframe tbody tr th {\n",
       "        vertical-align: top;\n",
       "    }\n",
       "\n",
       "    .dataframe thead th {\n",
       "        text-align: right;\n",
       "    }\n",
       "</style>\n",
       "<table border=\"1\" class=\"dataframe\">\n",
       "  <thead>\n",
       "    <tr style=\"text-align: right;\">\n",
       "      <th></th>\n",
       "      <th>FiringRate</th>\n",
       "      <th>Spikes</th>\n",
       "      <th>Frequency</th>\n",
       "      <th>depth</th>\n",
       "      <th>Afferent_Class</th>\n",
       "      <th>duration</th>\n",
       "      <th>Pin_Radius</th>\n",
       "    </tr>\n",
       "  </thead>\n",
       "  <tbody>\n",
       "    <tr>\n",
       "      <th>0</th>\n",
       "      <td>[95.30292716133424]</td>\n",
       "      <td>[0.001, 0.0098, 0.02, 0.0304, 0.040799999999999996, 0.0514, 0.0618, 0.0724, 0.08280000000000001, 0.09340000000000001, 0.10400000000000001, 0.1144, 0.125, 0.1354, 0.14600000000000002, 0.15660000000...</td>\n",
       "      <td>95</td>\n",
       "      <td>1.60</td>\n",
       "      <td>PC</td>\n",
       "      <td>1.763</td>\n",
       "      <td>1.07</td>\n",
       "    </tr>\n",
       "    <tr>\n",
       "      <th>1</th>\n",
       "      <td>[130.586186883343]</td>\n",
       "      <td>[0.001, 0.0063999999999999994, 0.013000000000000001, 0.0206, 0.027999999999999997, 0.0358, 0.043199999999999995, 0.051, 0.0584, 0.0664, 0.0738, 0.08180000000000001, 0.0892, 0.09720000000000001, 0....</td>\n",
       "      <td>65</td>\n",
       "      <td>0.58</td>\n",
       "      <td>PC</td>\n",
       "      <td>1.034</td>\n",
       "      <td>1.39</td>\n",
       "    </tr>\n",
       "    <tr>\n",
       "      <th>2</th>\n",
       "      <td>[0.7628928898382668]</td>\n",
       "      <td>[0.0494]</td>\n",
       "      <td>95</td>\n",
       "      <td>2.04</td>\n",
       "      <td>RA</td>\n",
       "      <td>1.311</td>\n",
       "      <td>1.38</td>\n",
       "    </tr>\n",
       "  </tbody>\n",
       "</table>\n",
       "</div>"
      ],
      "text/plain": [
       "             FiringRate  \\\n",
       "0   [95.30292716133424]   \n",
       "1    [130.586186883343]   \n",
       "2  [0.7628928898382668]   \n",
       "\n",
       "                                                                                                                                                                                                    Spikes  \\\n",
       "0  [0.001, 0.0098, 0.02, 0.0304, 0.040799999999999996, 0.0514, 0.0618, 0.0724, 0.08280000000000001, 0.09340000000000001, 0.10400000000000001, 0.1144, 0.125, 0.1354, 0.14600000000000002, 0.15660000000...   \n",
       "1  [0.001, 0.0063999999999999994, 0.013000000000000001, 0.0206, 0.027999999999999997, 0.0358, 0.043199999999999995, 0.051, 0.0584, 0.0664, 0.0738, 0.08180000000000001, 0.0892, 0.09720000000000001, 0....   \n",
       "2                                                                                                                                                                                                 [0.0494]   \n",
       "\n",
       "   Frequency  \\\n",
       "0         95   \n",
       "1         65   \n",
       "2         95   \n",
       "\n",
       "   depth  \\\n",
       "0   1.60   \n",
       "1   0.58   \n",
       "2   2.04   \n",
       "\n",
       "  Afferent_Class  \\\n",
       "0             PC   \n",
       "1             PC   \n",
       "2             RA   \n",
       "\n",
       "   duration  \\\n",
       "0     1.763   \n",
       "1     1.034   \n",
       "2     1.311   \n",
       "\n",
       "   Pin_Radius  \n",
       "0        1.07  \n",
       "1        1.39  \n",
       "2        1.38  "
      ]
     },
     "execution_count": 79,
     "metadata": {},
     "output_type": "execute_result"
    }
   ],
   "source": [
    "sim_df = pd.read_pickle(inputfile)\n",
    "print(sim_df.shape)\n",
    "sim_df[:3]"
   ]
  },
  {
   "cell_type": "markdown",
   "id": "367aa931-5406-4e14-b973-2aa97d49db13",
   "metadata": {},
   "source": [
    "# Notes"
   ]
  },
  {
   "cell_type": "markdown",
   "id": "fdfcf4db-160c-4520-b820-343d04d119c0",
   "metadata": {},
   "source": [
    "- 21.5k Samples & 7 Columns\n",
    "- Columns\n",
    "  - Predictors\n",
    "      - FiringRate\n",
    "      - Spikes\n",
    "      - Afferent_Class\n",
    "  - Target\n",
    "      - Frequency"
   ]
  },
  {
   "cell_type": "markdown",
   "id": "0a5abb7d-b776-493b-998d-1c514136dead",
   "metadata": {},
   "source": [
    "## check data: FiringRate"
   ]
  },
  {
   "cell_type": "markdown",
   "id": "de75e173-e823-4c66-b66a-36f014dbd249",
   "metadata": {},
   "source": [
    "- Contains list with only one value"
   ]
  },
  {
   "cell_type": "code",
   "execution_count": 80,
   "id": "07ee2c09-2d0b-486c-82fd-a6df210e24a2",
   "metadata": {
    "tags": []
   },
   "outputs": [
    {
     "data": {
      "text/plain": [
       "1    12499\n",
       "Name: FiringRate, dtype: int64"
      ]
     },
     "execution_count": 80,
     "metadata": {},
     "output_type": "execute_result"
    }
   ],
   "source": [
    "check_list_lengths(sim_df[\"FiringRate\"])"
   ]
  },
  {
   "cell_type": "code",
   "execution_count": 81,
   "id": "e3b9a02b-b0a3-44f5-aafd-a9416cd6f307",
   "metadata": {},
   "outputs": [],
   "source": [
    "sim_df[\"FiringRate_value\"] = sim_df[\"FiringRate\"].apply(lambda x: round(x[0], 4)).astype(\"float16\")"
   ]
  },
  {
   "cell_type": "markdown",
   "id": "965c3ade-acd1-4ca0-994c-8022ac4b8ecb",
   "metadata": {},
   "source": [
    "## check data: Spikes"
   ]
  },
  {
   "cell_type": "markdown",
   "id": "9ea39568-d174-4ca2-931c-a0a61a17790f",
   "metadata": {},
   "source": [
    "| num of items | num of samples |\n",
    "| -- | -- |\n",
    "| 0 |   10914 | \n",
    "| 1 |     314 | \n",
    "| 2 |      165 | \n",
    "| 3 |       102 | \n",
    "| 4 |        78 | \n",
    "Sum = 11573"
   ]
  },
  {
   "cell_type": "code",
   "execution_count": 82,
   "id": "d7285ade-59bb-484b-b0c3-06ed76682cd1",
   "metadata": {},
   "outputs": [],
   "source": [
    "# sim_df[\"Spikes\"].apply(lambda x: len(x)).value_counts()[:30] # len of string"
   ]
  },
  {
   "cell_type": "code",
   "execution_count": 83,
   "id": "4cd184fe-6967-45e0-92b3-f1f3eddea0af",
   "metadata": {},
   "outputs": [
    {
     "data": {
      "image/png": "[encoded data removed]",
      "text/plain": [
       "<Figure size 432x288 with 1 Axes>"
      ]
     },
     "metadata": {
      "needs_background": "light"
     },
     "output_type": "display_data"
    }
   ],
   "source": [
    "sim_df[\"Spikes_n_items\"] = sim_df[\"Spikes\"].apply(lambda x: len(x))\n",
    "\n",
    "sim_df[\"Spikes\"].apply(lambda x: len(x)).value_counts()[:].plot(kind=\"hist\", bins=120);"
   ]
  },
  {
   "cell_type": "code",
   "execution_count": 84,
   "id": "5493704e-0bee-4d3f-af3a-bba8a6f0e571",
   "metadata": {},
   "outputs": [],
   "source": [
    "# choosing sample with >10 spike recorded\n",
    "sim_df[\"Spikes_n_items\"].value_counts().sort_index()\n",
    "sim_df = sim_df[sim_df[\"Spikes_n_items\"]>10].reset_index(drop=True)"
   ]
  },
  {
   "cell_type": "markdown",
   "id": "d7142f4b-c38b-42c5-be08-252ac505dea5",
   "metadata": {},
   "source": [
    "## check data: Afferent_Class"
   ]
  },
  {
   "cell_type": "code",
   "execution_count": 85,
   "id": "ff03dc47-b15d-4685-9241-614576624e1a",
   "metadata": {},
   "outputs": [
    {
     "data": {
      "text/plain": [
       "PC     6374\n",
       "RA     4480\n",
       "SA1       6\n",
       "Name: Afferent_Class, dtype: int64"
      ]
     },
     "execution_count": 85,
     "metadata": {},
     "output_type": "execute_result"
    }
   ],
   "source": [
    "sim_df[\"Afferent_Class\"].value_counts()"
   ]
  },
  {
   "cell_type": "code",
   "execution_count": 86,
   "id": "f7fa3a33-8727-4705-bc28-94395956a422",
   "metadata": {},
   "outputs": [
    {
     "data": {
      "text/plain": [
       "Afferent_Class    \n",
       "PC              47    62\n",
       "                49    62\n",
       "                46    62\n",
       "                39    62\n",
       "                56    62\n",
       "RA              36    78\n",
       "                34    76\n",
       "                29    72\n",
       "                39    65\n",
       "                28    63\n",
       "SA1             11     3\n",
       "                12     2\n",
       "                13     1\n",
       "Name: Spikes_n_items, dtype: int64"
      ]
     },
     "execution_count": 86,
     "metadata": {},
     "output_type": "execute_result"
    }
   ],
   "source": [
    "sim_df.groupby(\"Afferent_Class\")[\"Spikes_n_items\"].apply(lambda x: x.value_counts()[:5])"
   ]
  },
  {
   "cell_type": "markdown",
   "id": "7d2e296b-118b-4147-8e43-6b519570b0cc",
   "metadata": {},
   "source": [
    "## check data: Frequency"
   ]
  },
  {
   "cell_type": "code",
   "execution_count": 87,
   "id": "8d8bbd07-0469-40dd-a172-b611d36f64a0",
   "metadata": {},
   "outputs": [
    {
     "data": {
      "text/plain": [
       "5      115\n",
       "15     629\n",
       "25     924\n",
       "35    1140\n",
       "45    1181\n",
       "55    1279\n",
       "65    1342\n",
       "75    1377\n",
       "85    1463\n",
       "95    1410\n",
       "Name: Frequency, dtype: int64"
      ]
     },
     "execution_count": 87,
     "metadata": {},
     "output_type": "execute_result"
    }
   ],
   "source": [
    "sim_df[\"Frequency\"].value_counts().sort_index()"
   ]
  },
  {
   "cell_type": "code",
   "execution_count": 88,
   "id": "64a1c6b6-dbd0-47ac-9f07-bdabe1a43721",
   "metadata": {},
   "outputs": [
    {
     "data": {
      "text/plain": [
       "Afferent_Class  Frequency\n",
       "PC              5             10\n",
       "                15           373\n",
       "                25           546\n",
       "                35           716\n",
       "                45           674\n",
       "                55           777\n",
       "                65           797\n",
       "                75           784\n",
       "                85           866\n",
       "                95           831\n",
       "RA              5            105\n",
       "                15           256\n",
       "                25           378\n",
       "                35           424\n",
       "                45           507\n",
       "                55           502\n",
       "                65           543\n",
       "                75           592\n",
       "                85           595\n",
       "                95           578\n",
       "SA1             65             2\n",
       "                75             1\n",
       "                85             2\n",
       "                95             1\n",
       "Name: Frequency, dtype: int64"
      ]
     },
     "execution_count": 88,
     "metadata": {},
     "output_type": "execute_result"
    }
   ],
   "source": [
    "sim_df.groupby(\"Afferent_Class\")[\"Frequency\"].value_counts().sort_index()"
   ]
  },
  {
   "cell_type": "code",
   "execution_count": 89,
   "id": "22c11ce8-1e20-4e9b-a6de-2932326a287f",
   "metadata": {
    "tags": []
   },
   "outputs": [],
   "source": [
    "# sim_df.groupby([\"Afferent_Class\",\"Frequency\"])[\"Spikes_n_items\"].value_counts().sort_index()"
   ]
  },
  {
   "cell_type": "markdown",
   "id": "8adf2631-74c2-49e5-afa3-bc8433dfb3e4",
   "metadata": {},
   "source": [
    "# Visualize Data: spikes"
   ]
  },
  {
   "cell_type": "code",
   "execution_count": 90,
   "id": "c61a7e46-8372-4dc4-a430-2b5050e1de44",
   "metadata": {},
   "outputs": [
    {
     "data": {
      "text/plain": [
       "mean      109.913352\n",
       "median     72.000000\n",
       "Name: Spikes_n_items, dtype: float64"
      ]
     },
     "execution_count": 90,
     "metadata": {},
     "output_type": "execute_result"
    }
   ],
   "source": [
    "sim_df[\"Spikes_n_items\"].agg([\"mean\",\"median\"])"
   ]
  },
  {
   "cell_type": "code",
   "execution_count": 91,
   "id": "fe251817-ea63-4706-a7d8-d2c2595a1509",
   "metadata": {},
   "outputs": [
    {
     "data": {
      "text/plain": [
       "0    95\n",
       "1    65\n",
       "2    55\n",
       "3    65\n",
       "4    85\n",
       "Name: Frequency, dtype: int64"
      ]
     },
     "execution_count": 91,
     "metadata": {},
     "output_type": "execute_result"
    }
   ],
   "source": [
    "sim_df[\"Frequency\"][:5]"
   ]
  },
  {
   "cell_type": "code",
   "execution_count": 92,
   "id": "7c637cc5-25dd-4035-bd56-b84e812252d5",
   "metadata": {},
   "outputs": [
    {
     "data": {
      "text/plain": [
       "[<matplotlib.lines.Line2D at 0x7f1301f6d760>]"
      ]
     },
     "execution_count": 92,
     "metadata": {},
     "output_type": "execute_result"
    },
    {
     "data": {
      "image/png": "[encoded data removed]",
      "text/plain": [
       "<Figure size 432x288 with 1 Axes>"
      ]
     },
     "metadata": {
      "needs_background": "light"
     },
     "output_type": "display_data"
    }
   ],
   "source": [
    "plt.plot(sim_df[\"Spikes\"][0][:50], \".\")\n",
    "plt.plot(sim_df[\"Spikes\"][1][:50], \".\")\n",
    "plt.plot(sim_df[\"Spikes\"][2][:50], \".\")\n",
    "plt.plot(sim_df[\"Spikes\"][3][:50], \".\")\n",
    "plt.plot(sim_df[\"Spikes\"][4][:50], \".\")"
   ]
  },
  {
   "cell_type": "markdown",
   "id": "a211b726-2176-4993-9a57-050a9b37f608",
   "metadata": {},
   "source": [
    "# Feature Engineering"
   ]
  },
  {
   "cell_type": "code",
   "execution_count": 93,
   "id": "d5ae36b2-90c1-4868-91f2-e7f5a5a9a782",
   "metadata": {},
   "outputs": [],
   "source": [
    "sim_df_feat = pd.concat([sim_df,pd.get_dummies(sim_df[\"Afferent_Class\"])],1)"
   ]
  },
  {
   "cell_type": "code",
   "execution_count": 99,
   "id": "e8ea399d-e9ff-42ca-9fa2-d9186c006504",
   "metadata": {},
   "outputs": [],
   "source": [
    "def diff_feats(x, period=2):\n",
    "    tmp_sr = pd.Series(x)\n",
    "    if len(tmp_sr)>1:\n",
    "        return np.mean(pd.Series.diff(tmp_sr, period))\n",
    "    else:\n",
    "        return -1\n",
    "\n",
    "sim_df_feat[\"Spikes_diff_mean_2\"] = sim_df_feat[\"Spikes\"].apply(lambda x: diff_feats(x, period=5))\n",
    "sim_df_feat[\"Spikes_diff_mean_5\"] = sim_df_feat[\"Spikes\"].apply(lambda x: diff_feats(x, period=15))"
   ]
  },
  {
   "cell_type": "code",
   "execution_count": 100,
   "id": "c025c6e2-0513-4bbb-9863-0f4ba16eb142",
   "metadata": {},
   "outputs": [],
   "source": [
    "def diff_time_inrange(x, start=0, end=10):\n",
    "    if len(x)>end:\n",
    "        return x[end]-x[start]\n",
    "    else:\n",
    "        return -1\n",
    "\n",
    "sim_df_feat[\"Spikes_diff_time_inrange\"] = sim_df_feat[\"Spikes\"].apply(lambda x: diff_time_inrange(x))"
   ]
  },
  {
   "cell_type": "markdown",
   "id": "bd4c0662-0881-4465-9c05-86d42a8de342",
   "metadata": {},
   "source": [
    "# Feature Explore/Viz"
   ]
  },
  {
   "cell_type": "code",
   "execution_count": 104,
   "id": "83a2df3f-092d-41fd-8097-cb0b9c5a9a00",
   "metadata": {},
   "outputs": [
    {
     "name": "stdout",
     "output_type": "stream",
     "text": [
      "(10860, 15)\n"
     ]
    },
    {
     "data": {
      "text/plain": [
       "FiringRate                    0\n",
       "Spikes                        0\n",
       "Frequency                     0\n",
       "depth                         0\n",
       "Afferent_Class                0\n",
       "duration                      0\n",
       "Pin_Radius                    0\n",
       "FiringRate_value              0\n",
       "Spikes_n_items                0\n",
       "PC                            0\n",
       "RA                            0\n",
       "SA1                           0\n",
       "Spikes_diff_mean_2            0\n",
       "Spikes_diff_mean_5          285\n",
       "Spikes_diff_time_inrange      0\n",
       "dtype: int64"
      ]
     },
     "execution_count": 104,
     "metadata": {},
     "output_type": "execute_result"
    }
   ],
   "source": [
    "print(sim_df_feat.shape)\n",
    "sim_df_feat.isna().sum()"
   ]
  },
  {
   "cell_type": "code",
   "execution_count": 102,
   "id": "e9d50e1a-d25c-4a5d-9efe-a2f6daa88a34",
   "metadata": {},
   "outputs": [
    {
     "name": "stderr",
     "output_type": "stream",
     "text": [
      "/home/minesh_1291/anaconda3/envs/noaa-runtime/lib/python3.8/site-packages/pandas/io/formats/style.py:1126: RuntimeWarning: All-NaN slice encountered\n",
      "  smin = np.nanmin(s.to_numpy()) if vmin is None else vmin\n",
      "/home/minesh_1291/anaconda3/envs/noaa-runtime/lib/python3.8/site-packages/pandas/io/formats/style.py:1127: RuntimeWarning: All-NaN slice encountered\n",
      "  smax = np.nanmax(s.to_numpy()) if vmax is None else vmax\n"
     ]
    },
    {
     "data": {
      "text/html": [
       "<style  type=\"text/css\" >\n",
       "#T_34ced3e0_dbb1_11eb_b6b4_35e1bf251e42row0_col0,#T_34ced3e0_dbb1_11eb_b6b4_35e1bf251e42row1_col1,#T_34ced3e0_dbb1_11eb_b6b4_35e1bf251e42row2_col2,#T_34ced3e0_dbb1_11eb_b6b4_35e1bf251e42row3_col3,#T_34ced3e0_dbb1_11eb_b6b4_35e1bf251e42row4_col4,#T_34ced3e0_dbb1_11eb_b6b4_35e1bf251e42row5_col5,#T_34ced3e0_dbb1_11eb_b6b4_35e1bf251e42row6_col6,#T_34ced3e0_dbb1_11eb_b6b4_35e1bf251e42row7_col7,#T_34ced3e0_dbb1_11eb_b6b4_35e1bf251e42row9_col9,#T_34ced3e0_dbb1_11eb_b6b4_35e1bf251e42row9_col10,#T_34ced3e0_dbb1_11eb_b6b4_35e1bf251e42row9_col11,#T_34ced3e0_dbb1_11eb_b6b4_35e1bf251e42row10_col9,#T_34ced3e0_dbb1_11eb_b6b4_35e1bf251e42row10_col10,#T_34ced3e0_dbb1_11eb_b6b4_35e1bf251e42row10_col11,#T_34ced3e0_dbb1_11eb_b6b4_35e1bf251e42row11_col9,#T_34ced3e0_dbb1_11eb_b6b4_35e1bf251e42row11_col10,#T_34ced3e0_dbb1_11eb_b6b4_35e1bf251e42row11_col11{\n",
       "            background-color:  #b40426;\n",
       "            color:  #f1f1f1;\n",
       "        }#T_34ced3e0_dbb1_11eb_b6b4_35e1bf251e42row0_col1{\n",
       "            background-color:  #bcd2f7;\n",
       "            color:  #000000;\n",
       "        }#T_34ced3e0_dbb1_11eb_b6b4_35e1bf251e42row0_col2,#T_34ced3e0_dbb1_11eb_b6b4_35e1bf251e42row4_col1,#T_34ced3e0_dbb1_11eb_b6b4_35e1bf251e42row4_col9,#T_34ced3e0_dbb1_11eb_b6b4_35e1bf251e42row4_col10,#T_34ced3e0_dbb1_11eb_b6b4_35e1bf251e42row4_col11,#T_34ced3e0_dbb1_11eb_b6b4_35e1bf251e42row6_col3,#T_34ced3e0_dbb1_11eb_b6b4_35e1bf251e42row6_col7,#T_34ced3e0_dbb1_11eb_b6b4_35e1bf251e42row7_col2,#T_34ced3e0_dbb1_11eb_b6b4_35e1bf251e42row7_col6,#T_34ced3e0_dbb1_11eb_b6b4_35e1bf251e42row9_col0,#T_34ced3e0_dbb1_11eb_b6b4_35e1bf251e42row9_col3,#T_34ced3e0_dbb1_11eb_b6b4_35e1bf251e42row9_col4,#T_34ced3e0_dbb1_11eb_b6b4_35e1bf251e42row9_col5,#T_34ced3e0_dbb1_11eb_b6b4_35e1bf251e42row10_col0,#T_34ced3e0_dbb1_11eb_b6b4_35e1bf251e42row10_col3,#T_34ced3e0_dbb1_11eb_b6b4_35e1bf251e42row10_col4,#T_34ced3e0_dbb1_11eb_b6b4_35e1bf251e42row10_col5,#T_34ced3e0_dbb1_11eb_b6b4_35e1bf251e42row11_col3{\n",
       "            background-color:  #3b4cc0;\n",
       "            color:  #f1f1f1;\n",
       "        }#T_34ced3e0_dbb1_11eb_b6b4_35e1bf251e42row0_col3,#T_34ced3e0_dbb1_11eb_b6b4_35e1bf251e42row7_col3,#T_34ced3e0_dbb1_11eb_b6b4_35e1bf251e42row11_col0,#T_34ced3e0_dbb1_11eb_b6b4_35e1bf251e42row11_col4,#T_34ced3e0_dbb1_11eb_b6b4_35e1bf251e42row11_col5{\n",
       "            background-color:  #3c4ec2;\n",
       "            color:  #f1f1f1;\n",
       "        }#T_34ced3e0_dbb1_11eb_b6b4_35e1bf251e42row0_col4{\n",
       "            background-color:  #f7b497;\n",
       "            color:  #000000;\n",
       "        }#T_34ced3e0_dbb1_11eb_b6b4_35e1bf251e42row0_col5{\n",
       "            background-color:  #f7b99e;\n",
       "            color:  #000000;\n",
       "        }#T_34ced3e0_dbb1_11eb_b6b4_35e1bf251e42row0_col6,#T_34ced3e0_dbb1_11eb_b6b4_35e1bf251e42row2_col6{\n",
       "            background-color:  #dedcdb;\n",
       "            color:  #000000;\n",
       "        }#T_34ced3e0_dbb1_11eb_b6b4_35e1bf251e42row0_col7,#T_34ced3e0_dbb1_11eb_b6b4_35e1bf251e42row2_col7{\n",
       "            background-color:  #dbdcde;\n",
       "            color:  #000000;\n",
       "        }#T_34ced3e0_dbb1_11eb_b6b4_35e1bf251e42row0_col8,#T_34ced3e0_dbb1_11eb_b6b4_35e1bf251e42row1_col8,#T_34ced3e0_dbb1_11eb_b6b4_35e1bf251e42row2_col8,#T_34ced3e0_dbb1_11eb_b6b4_35e1bf251e42row3_col8,#T_34ced3e0_dbb1_11eb_b6b4_35e1bf251e42row4_col8,#T_34ced3e0_dbb1_11eb_b6b4_35e1bf251e42row5_col8,#T_34ced3e0_dbb1_11eb_b6b4_35e1bf251e42row6_col8,#T_34ced3e0_dbb1_11eb_b6b4_35e1bf251e42row7_col8,#T_34ced3e0_dbb1_11eb_b6b4_35e1bf251e42row8_col0,#T_34ced3e0_dbb1_11eb_b6b4_35e1bf251e42row8_col1,#T_34ced3e0_dbb1_11eb_b6b4_35e1bf251e42row8_col2,#T_34ced3e0_dbb1_11eb_b6b4_35e1bf251e42row8_col3,#T_34ced3e0_dbb1_11eb_b6b4_35e1bf251e42row8_col4,#T_34ced3e0_dbb1_11eb_b6b4_35e1bf251e42row8_col5,#T_34ced3e0_dbb1_11eb_b6b4_35e1bf251e42row8_col6,#T_34ced3e0_dbb1_11eb_b6b4_35e1bf251e42row8_col7,#T_34ced3e0_dbb1_11eb_b6b4_35e1bf251e42row8_col8,#T_34ced3e0_dbb1_11eb_b6b4_35e1bf251e42row8_col9,#T_34ced3e0_dbb1_11eb_b6b4_35e1bf251e42row8_col10,#T_34ced3e0_dbb1_11eb_b6b4_35e1bf251e42row8_col11,#T_34ced3e0_dbb1_11eb_b6b4_35e1bf251e42row9_col8,#T_34ced3e0_dbb1_11eb_b6b4_35e1bf251e42row10_col8,#T_34ced3e0_dbb1_11eb_b6b4_35e1bf251e42row11_col8{\n",
       "            background-color:  #000000;\n",
       "            color:  #f1f1f1;\n",
       "        }#T_34ced3e0_dbb1_11eb_b6b4_35e1bf251e42row0_col9,#T_34ced3e0_dbb1_11eb_b6b4_35e1bf251e42row0_col10{\n",
       "            background-color:  #6788ee;\n",
       "            color:  #000000;\n",
       "        }#T_34ced3e0_dbb1_11eb_b6b4_35e1bf251e42row0_col11{\n",
       "            background-color:  #6687ed;\n",
       "            color:  #000000;\n",
       "        }#T_34ced3e0_dbb1_11eb_b6b4_35e1bf251e42row1_col0{\n",
       "            background-color:  #cedaeb;\n",
       "            color:  #000000;\n",
       "        }#T_34ced3e0_dbb1_11eb_b6b4_35e1bf251e42row1_col2,#T_34ced3e0_dbb1_11eb_b6b4_35e1bf251e42row1_col3,#T_34ced3e0_dbb1_11eb_b6b4_35e1bf251e42row5_col1,#T_34ced3e0_dbb1_11eb_b6b4_35e1bf251e42row5_col3{\n",
       "            background-color:  #3d50c3;\n",
       "            color:  #f1f1f1;\n",
       "        }#T_34ced3e0_dbb1_11eb_b6b4_35e1bf251e42row1_col4{\n",
       "            background-color:  #82a6fb;\n",
       "            color:  #000000;\n",
       "        }#T_34ced3e0_dbb1_11eb_b6b4_35e1bf251e42row1_col5{\n",
       "            background-color:  #81a4fb;\n",
       "            color:  #000000;\n",
       "        }#T_34ced3e0_dbb1_11eb_b6b4_35e1bf251e42row1_col6{\n",
       "            background-color:  #f6bea4;\n",
       "            color:  #000000;\n",
       "        }#T_34ced3e0_dbb1_11eb_b6b4_35e1bf251e42row1_col7{\n",
       "            background-color:  #b1cbfc;\n",
       "            color:  #000000;\n",
       "        }#T_34ced3e0_dbb1_11eb_b6b4_35e1bf251e42row1_col9,#T_34ced3e0_dbb1_11eb_b6b4_35e1bf251e42row1_col10{\n",
       "            background-color:  #e9d5cb;\n",
       "            color:  #000000;\n",
       "        }#T_34ced3e0_dbb1_11eb_b6b4_35e1bf251e42row1_col11{\n",
       "            background-color:  #e8d6cc;\n",
       "            color:  #000000;\n",
       "        }#T_34ced3e0_dbb1_11eb_b6b4_35e1bf251e42row2_col0{\n",
       "            background-color:  #a3c2fe;\n",
       "            color:  #000000;\n",
       "        }#T_34ced3e0_dbb1_11eb_b6b4_35e1bf251e42row2_col1{\n",
       "            background-color:  #8caffe;\n",
       "            color:  #000000;\n",
       "        }#T_34ced3e0_dbb1_11eb_b6b4_35e1bf251e42row2_col3,#T_34ced3e0_dbb1_11eb_b6b4_35e1bf251e42row4_col3{\n",
       "            background-color:  #3e51c5;\n",
       "            color:  #f1f1f1;\n",
       "        }#T_34ced3e0_dbb1_11eb_b6b4_35e1bf251e42row2_col4{\n",
       "            background-color:  #c7d7f0;\n",
       "            color:  #000000;\n",
       "        }#T_34ced3e0_dbb1_11eb_b6b4_35e1bf251e42row2_col5{\n",
       "            background-color:  #e7d7ce;\n",
       "            color:  #000000;\n",
       "        }#T_34ced3e0_dbb1_11eb_b6b4_35e1bf251e42row2_col9,#T_34ced3e0_dbb1_11eb_b6b4_35e1bf251e42row2_col11{\n",
       "            background-color:  #cbd8ee;\n",
       "            color:  #000000;\n",
       "        }#T_34ced3e0_dbb1_11eb_b6b4_35e1bf251e42row2_col10{\n",
       "            background-color:  #ccd9ed;\n",
       "            color:  #000000;\n",
       "        }#T_34ced3e0_dbb1_11eb_b6b4_35e1bf251e42row3_col0{\n",
       "            background-color:  #a5c3fe;\n",
       "            color:  #000000;\n",
       "        }#T_34ced3e0_dbb1_11eb_b6b4_35e1bf251e42row3_col1{\n",
       "            background-color:  #8db0fe;\n",
       "            color:  #000000;\n",
       "        }#T_34ced3e0_dbb1_11eb_b6b4_35e1bf251e42row3_col2,#T_34ced3e0_dbb1_11eb_b6b4_35e1bf251e42row6_col2{\n",
       "            background-color:  #3f53c6;\n",
       "            color:  #f1f1f1;\n",
       "        }#T_34ced3e0_dbb1_11eb_b6b4_35e1bf251e42row3_col4,#T_34ced3e0_dbb1_11eb_b6b4_35e1bf251e42row9_col1,#T_34ced3e0_dbb1_11eb_b6b4_35e1bf251e42row10_col1,#T_34ced3e0_dbb1_11eb_b6b4_35e1bf251e42row11_col1{\n",
       "            background-color:  #c6d6f1;\n",
       "            color:  #000000;\n",
       "        }#T_34ced3e0_dbb1_11eb_b6b4_35e1bf251e42row3_col5{\n",
       "            background-color:  #c1d4f4;\n",
       "            color:  #000000;\n",
       "        }#T_34ced3e0_dbb1_11eb_b6b4_35e1bf251e42row3_col6{\n",
       "            background-color:  #dcdddd;\n",
       "            color:  #000000;\n",
       "        }#T_34ced3e0_dbb1_11eb_b6b4_35e1bf251e42row3_col7{\n",
       "            background-color:  #dddcdc;\n",
       "            color:  #000000;\n",
       "        }#T_34ced3e0_dbb1_11eb_b6b4_35e1bf251e42row3_col9,#T_34ced3e0_dbb1_11eb_b6b4_35e1bf251e42row3_col10{\n",
       "            background-color:  #c4d5f3;\n",
       "            color:  #000000;\n",
       "        }#T_34ced3e0_dbb1_11eb_b6b4_35e1bf251e42row3_col11{\n",
       "            background-color:  #c3d5f4;\n",
       "            color:  #000000;\n",
       "        }#T_34ced3e0_dbb1_11eb_b6b4_35e1bf251e42row4_col0,#T_34ced3e0_dbb1_11eb_b6b4_35e1bf251e42row5_col6{\n",
       "            background-color:  #f4c5ad;\n",
       "            color:  #000000;\n",
       "        }#T_34ced3e0_dbb1_11eb_b6b4_35e1bf251e42row4_col2,#T_34ced3e0_dbb1_11eb_b6b4_35e1bf251e42row7_col1{\n",
       "            background-color:  #4257c9;\n",
       "            color:  #f1f1f1;\n",
       "        }#T_34ced3e0_dbb1_11eb_b6b4_35e1bf251e42row4_col5{\n",
       "            background-color:  #bd1f2d;\n",
       "            color:  #f1f1f1;\n",
       "        }#T_34ced3e0_dbb1_11eb_b6b4_35e1bf251e42row4_col6{\n",
       "            background-color:  #f5c2aa;\n",
       "            color:  #000000;\n",
       "        }#T_34ced3e0_dbb1_11eb_b6b4_35e1bf251e42row4_col7{\n",
       "            background-color:  #b6cefa;\n",
       "            color:  #000000;\n",
       "        }#T_34ced3e0_dbb1_11eb_b6b4_35e1bf251e42row5_col0{\n",
       "            background-color:  #f3c8b2;\n",
       "            color:  #000000;\n",
       "        }#T_34ced3e0_dbb1_11eb_b6b4_35e1bf251e42row5_col2{\n",
       "            background-color:  #88abfd;\n",
       "            color:  #000000;\n",
       "        }#T_34ced3e0_dbb1_11eb_b6b4_35e1bf251e42row5_col4{\n",
       "            background-color:  #bb1b2c;\n",
       "            color:  #f1f1f1;\n",
       "        }#T_34ced3e0_dbb1_11eb_b6b4_35e1bf251e42row5_col7{\n",
       "            background-color:  #b9d0f9;\n",
       "            color:  #000000;\n",
       "        }#T_34ced3e0_dbb1_11eb_b6b4_35e1bf251e42row5_col9,#T_34ced3e0_dbb1_11eb_b6b4_35e1bf251e42row5_col10,#T_34ced3e0_dbb1_11eb_b6b4_35e1bf251e42row5_col11{\n",
       "            background-color:  #4055c8;\n",
       "            color:  #f1f1f1;\n",
       "        }#T_34ced3e0_dbb1_11eb_b6b4_35e1bf251e42row6_col0{\n",
       "            background-color:  #a7c5fe;\n",
       "            color:  #000000;\n",
       "        }#T_34ced3e0_dbb1_11eb_b6b4_35e1bf251e42row6_col1{\n",
       "            background-color:  #d5dbe5;\n",
       "            color:  #000000;\n",
       "        }#T_34ced3e0_dbb1_11eb_b6b4_35e1bf251e42row6_col4{\n",
       "            background-color:  #ecd3c5;\n",
       "            color:  #000000;\n",
       "        }#T_34ced3e0_dbb1_11eb_b6b4_35e1bf251e42row6_col5{\n",
       "            background-color:  #ead5c9;\n",
       "            color:  #000000;\n",
       "        }#T_34ced3e0_dbb1_11eb_b6b4_35e1bf251e42row6_col9,#T_34ced3e0_dbb1_11eb_b6b4_35e1bf251e42row6_col10{\n",
       "            background-color:  #93b5fe;\n",
       "            color:  #000000;\n",
       "        }#T_34ced3e0_dbb1_11eb_b6b4_35e1bf251e42row6_col11{\n",
       "            background-color:  #90b2fe;\n",
       "            color:  #000000;\n",
       "        }#T_34ced3e0_dbb1_11eb_b6b4_35e1bf251e42row7_col0{\n",
       "            background-color:  #a2c1ff;\n",
       "            color:  #000000;\n",
       "        }#T_34ced3e0_dbb1_11eb_b6b4_35e1bf251e42row7_col4{\n",
       "            background-color:  #92b4fe;\n",
       "            color:  #000000;\n",
       "        }#T_34ced3e0_dbb1_11eb_b6b4_35e1bf251e42row7_col5{\n",
       "            background-color:  #8fb1fe;\n",
       "            color:  #000000;\n",
       "        }#T_34ced3e0_dbb1_11eb_b6b4_35e1bf251e42row7_col9,#T_34ced3e0_dbb1_11eb_b6b4_35e1bf251e42row7_col10,#T_34ced3e0_dbb1_11eb_b6b4_35e1bf251e42row7_col11{\n",
       "            background-color:  #ebd3c6;\n",
       "            color:  #000000;\n",
       "        }#T_34ced3e0_dbb1_11eb_b6b4_35e1bf251e42row9_col2,#T_34ced3e0_dbb1_11eb_b6b4_35e1bf251e42row10_col2,#T_34ced3e0_dbb1_11eb_b6b4_35e1bf251e42row11_col2{\n",
       "            background-color:  #4961d2;\n",
       "            color:  #f1f1f1;\n",
       "        }#T_34ced3e0_dbb1_11eb_b6b4_35e1bf251e42row9_col6,#T_34ced3e0_dbb1_11eb_b6b4_35e1bf251e42row10_col6,#T_34ced3e0_dbb1_11eb_b6b4_35e1bf251e42row11_col6{\n",
       "            background-color:  #b7cff9;\n",
       "            color:  #000000;\n",
       "        }#T_34ced3e0_dbb1_11eb_b6b4_35e1bf251e42row9_col7,#T_34ced3e0_dbb1_11eb_b6b4_35e1bf251e42row10_col7,#T_34ced3e0_dbb1_11eb_b6b4_35e1bf251e42row11_col7{\n",
       "            background-color:  #f5c4ac;\n",
       "            color:  #000000;\n",
       "        }</style><table id=\"T_34ced3e0_dbb1_11eb_b6b4_35e1bf251e42\" ><thead>    <tr>        <th class=\"blank level0\" ></th>        <th class=\"col_heading level0 col0\" >Frequency</th>        <th class=\"col_heading level0 col1\" >depth</th>        <th class=\"col_heading level0 col2\" >duration</th>        <th class=\"col_heading level0 col3\" >Pin_Radius</th>        <th class=\"col_heading level0 col4\" >FiringRate_value</th>        <th class=\"col_heading level0 col5\" >Spikes_n_items</th>        <th class=\"col_heading level0 col6\" >PC</th>        <th class=\"col_heading level0 col7\" >RA</th>        <th class=\"col_heading level0 col8\" >SA1</th>        <th class=\"col_heading level0 col9\" >Spikes_diff_mean_2</th>        <th class=\"col_heading level0 col10\" >Spikes_diff_mean_5</th>        <th class=\"col_heading level0 col11\" >Spikes_diff_time_inrange</th>    </tr></thead><tbody>\n",
       "                <tr>\n",
       "                        <th id=\"T_34ced3e0_dbb1_11eb_b6b4_35e1bf251e42level0_row0\" class=\"row_heading level0 row0\" >Frequency</th>\n",
       "                        <td id=\"T_34ced3e0_dbb1_11eb_b6b4_35e1bf251e42row0_col0\" class=\"data row0 col0\" >1.000000</td>\n",
       "                        <td id=\"T_34ced3e0_dbb1_11eb_b6b4_35e1bf251e42row0_col1\" class=\"data row0 col1\" >0.188111</td>\n",
       "                        <td id=\"T_34ced3e0_dbb1_11eb_b6b4_35e1bf251e42row0_col2\" class=\"data row0 col2\" >-0.006036</td>\n",
       "                        <td id=\"T_34ced3e0_dbb1_11eb_b6b4_35e1bf251e42row0_col3\" class=\"data row0 col3\" >-0.001150</td>\n",
       "                        <td id=\"T_34ced3e0_dbb1_11eb_b6b4_35e1bf251e42row0_col4\" class=\"data row0 col4\" >0.449326</td>\n",
       "                        <td id=\"T_34ced3e0_dbb1_11eb_b6b4_35e1bf251e42row0_col5\" class=\"data row0 col5\" >0.431117</td>\n",
       "                        <td id=\"T_34ced3e0_dbb1_11eb_b6b4_35e1bf251e42row0_col6\" class=\"data row0 col6\" >0.010432</td>\n",
       "                        <td id=\"T_34ced3e0_dbb1_11eb_b6b4_35e1bf251e42row0_col7\" class=\"data row0 col7\" >-0.010432</td>\n",
       "                        <td id=\"T_34ced3e0_dbb1_11eb_b6b4_35e1bf251e42row0_col8\" class=\"data row0 col8\" >nan</td>\n",
       "                        <td id=\"T_34ced3e0_dbb1_11eb_b6b4_35e1bf251e42row0_col9\" class=\"data row0 col9\" >-0.465382</td>\n",
       "                        <td id=\"T_34ced3e0_dbb1_11eb_b6b4_35e1bf251e42row0_col10\" class=\"data row0 col10\" >-0.465722</td>\n",
       "                        <td id=\"T_34ced3e0_dbb1_11eb_b6b4_35e1bf251e42row0_col11\" class=\"data row0 col11\" >-0.457629</td>\n",
       "            </tr>\n",
       "            <tr>\n",
       "                        <th id=\"T_34ced3e0_dbb1_11eb_b6b4_35e1bf251e42level0_row1\" class=\"row_heading level0 row1\" >depth</th>\n",
       "                        <td id=\"T_34ced3e0_dbb1_11eb_b6b4_35e1bf251e42row1_col0\" class=\"data row1 col0\" >0.188111</td>\n",
       "                        <td id=\"T_34ced3e0_dbb1_11eb_b6b4_35e1bf251e42row1_col1\" class=\"data row1 col1\" >1.000000</td>\n",
       "                        <td id=\"T_34ced3e0_dbb1_11eb_b6b4_35e1bf251e42row1_col2\" class=\"data row1 col2\" >0.000065</td>\n",
       "                        <td id=\"T_34ced3e0_dbb1_11eb_b6b4_35e1bf251e42row1_col3\" class=\"data row1 col3\" >0.005213</td>\n",
       "                        <td id=\"T_34ced3e0_dbb1_11eb_b6b4_35e1bf251e42row1_col4\" class=\"data row1 col4\" >-0.329279</td>\n",
       "                        <td id=\"T_34ced3e0_dbb1_11eb_b6b4_35e1bf251e42row1_col5\" class=\"data row1 col5\" >-0.314501</td>\n",
       "                        <td id=\"T_34ced3e0_dbb1_11eb_b6b4_35e1bf251e42row1_col6\" class=\"data row1 col6\" >0.295845</td>\n",
       "                        <td id=\"T_34ced3e0_dbb1_11eb_b6b4_35e1bf251e42row1_col7\" class=\"data row1 col7\" >-0.295845</td>\n",
       "                        <td id=\"T_34ced3e0_dbb1_11eb_b6b4_35e1bf251e42row1_col8\" class=\"data row1 col8\" >nan</td>\n",
       "                        <td id=\"T_34ced3e0_dbb1_11eb_b6b4_35e1bf251e42row1_col9\" class=\"data row1 col9\" >0.227157</td>\n",
       "                        <td id=\"T_34ced3e0_dbb1_11eb_b6b4_35e1bf251e42row1_col10\" class=\"data row1 col10\" >0.227400</td>\n",
       "                        <td id=\"T_34ced3e0_dbb1_11eb_b6b4_35e1bf251e42row1_col11\" class=\"data row1 col11\" >0.226639</td>\n",
       "            </tr>\n",
       "            <tr>\n",
       "                        <th id=\"T_34ced3e0_dbb1_11eb_b6b4_35e1bf251e42level0_row2\" class=\"row_heading level0 row2\" >duration</th>\n",
       "                        <td id=\"T_34ced3e0_dbb1_11eb_b6b4_35e1bf251e42row2_col0\" class=\"data row2 col0\" >-0.006036</td>\n",
       "                        <td id=\"T_34ced3e0_dbb1_11eb_b6b4_35e1bf251e42row2_col1\" class=\"data row2 col1\" >0.000065</td>\n",
       "                        <td id=\"T_34ced3e0_dbb1_11eb_b6b4_35e1bf251e42row2_col2\" class=\"data row2 col2\" >1.000000</td>\n",
       "                        <td id=\"T_34ced3e0_dbb1_11eb_b6b4_35e1bf251e42row2_col3\" class=\"data row2 col3\" >0.007153</td>\n",
       "                        <td id=\"T_34ced3e0_dbb1_11eb_b6b4_35e1bf251e42row2_col4\" class=\"data row2 col4\" >0.015955</td>\n",
       "                        <td id=\"T_34ced3e0_dbb1_11eb_b6b4_35e1bf251e42row2_col5\" class=\"data row2 col5\" >0.228804</td>\n",
       "                        <td id=\"T_34ced3e0_dbb1_11eb_b6b4_35e1bf251e42row2_col6\" class=\"data row2 col6\" >0.009797</td>\n",
       "                        <td id=\"T_34ced3e0_dbb1_11eb_b6b4_35e1bf251e42row2_col7\" class=\"data row2 col7\" >-0.009797</td>\n",
       "                        <td id=\"T_34ced3e0_dbb1_11eb_b6b4_35e1bf251e42row2_col8\" class=\"data row2 col8\" >nan</td>\n",
       "                        <td id=\"T_34ced3e0_dbb1_11eb_b6b4_35e1bf251e42row2_col9\" class=\"data row2 col9\" >0.039267</td>\n",
       "                        <td id=\"T_34ced3e0_dbb1_11eb_b6b4_35e1bf251e42row2_col10\" class=\"data row2 col10\" >0.039257</td>\n",
       "                        <td id=\"T_34ced3e0_dbb1_11eb_b6b4_35e1bf251e42row2_col11\" class=\"data row2 col11\" >0.039452</td>\n",
       "            </tr>\n",
       "            <tr>\n",
       "                        <th id=\"T_34ced3e0_dbb1_11eb_b6b4_35e1bf251e42level0_row3\" class=\"row_heading level0 row3\" >Pin_Radius</th>\n",
       "                        <td id=\"T_34ced3e0_dbb1_11eb_b6b4_35e1bf251e42row3_col0\" class=\"data row3 col0\" >-0.001150</td>\n",
       "                        <td id=\"T_34ced3e0_dbb1_11eb_b6b4_35e1bf251e42row3_col1\" class=\"data row3 col1\" >0.005213</td>\n",
       "                        <td id=\"T_34ced3e0_dbb1_11eb_b6b4_35e1bf251e42row3_col2\" class=\"data row3 col2\" >0.007153</td>\n",
       "                        <td id=\"T_34ced3e0_dbb1_11eb_b6b4_35e1bf251e42row3_col3\" class=\"data row3 col3\" >1.000000</td>\n",
       "                        <td id=\"T_34ced3e0_dbb1_11eb_b6b4_35e1bf251e42row3_col4\" class=\"data row3 col4\" >0.007302</td>\n",
       "                        <td id=\"T_34ced3e0_dbb1_11eb_b6b4_35e1bf251e42row3_col5\" class=\"data row3 col5\" >0.005747</td>\n",
       "                        <td id=\"T_34ced3e0_dbb1_11eb_b6b4_35e1bf251e42row3_col6\" class=\"data row3 col6\" >-0.002291</td>\n",
       "                        <td id=\"T_34ced3e0_dbb1_11eb_b6b4_35e1bf251e42row3_col7\" class=\"data row3 col7\" >0.002291</td>\n",
       "                        <td id=\"T_34ced3e0_dbb1_11eb_b6b4_35e1bf251e42row3_col8\" class=\"data row3 col8\" >nan</td>\n",
       "                        <td id=\"T_34ced3e0_dbb1_11eb_b6b4_35e1bf251e42row3_col9\" class=\"data row3 col9\" >-0.005077</td>\n",
       "                        <td id=\"T_34ced3e0_dbb1_11eb_b6b4_35e1bf251e42row3_col10\" class=\"data row3 col10\" >-0.004966</td>\n",
       "                        <td id=\"T_34ced3e0_dbb1_11eb_b6b4_35e1bf251e42row3_col11\" class=\"data row3 col11\" >-0.003047</td>\n",
       "            </tr>\n",
       "            <tr>\n",
       "                        <th id=\"T_34ced3e0_dbb1_11eb_b6b4_35e1bf251e42level0_row4\" class=\"row_heading level0 row4\" >FiringRate_value</th>\n",
       "                        <td id=\"T_34ced3e0_dbb1_11eb_b6b4_35e1bf251e42row4_col0\" class=\"data row4 col0\" >0.449326</td>\n",
       "                        <td id=\"T_34ced3e0_dbb1_11eb_b6b4_35e1bf251e42row4_col1\" class=\"data row4 col1\" >-0.329279</td>\n",
       "                        <td id=\"T_34ced3e0_dbb1_11eb_b6b4_35e1bf251e42row4_col2\" class=\"data row4 col2\" >0.015955</td>\n",
       "                        <td id=\"T_34ced3e0_dbb1_11eb_b6b4_35e1bf251e42row4_col3\" class=\"data row4 col3\" >0.007302</td>\n",
       "                        <td id=\"T_34ced3e0_dbb1_11eb_b6b4_35e1bf251e42row4_col4\" class=\"data row4 col4\" >1.000000</td>\n",
       "                        <td id=\"T_34ced3e0_dbb1_11eb_b6b4_35e1bf251e42row4_col5\" class=\"data row4 col5\" >0.960542</td>\n",
       "                        <td id=\"T_34ced3e0_dbb1_11eb_b6b4_35e1bf251e42row4_col6\" class=\"data row4 col6\" >0.258037</td>\n",
       "                        <td id=\"T_34ced3e0_dbb1_11eb_b6b4_35e1bf251e42row4_col7\" class=\"data row4 col7\" >-0.258037</td>\n",
       "                        <td id=\"T_34ced3e0_dbb1_11eb_b6b4_35e1bf251e42row4_col8\" class=\"data row4 col8\" >nan</td>\n",
       "                        <td id=\"T_34ced3e0_dbb1_11eb_b6b4_35e1bf251e42row4_col9\" class=\"data row4 col9\" >-0.707840</td>\n",
       "                        <td id=\"T_34ced3e0_dbb1_11eb_b6b4_35e1bf251e42row4_col10\" class=\"data row4 col10\" >-0.708685</td>\n",
       "                        <td id=\"T_34ced3e0_dbb1_11eb_b6b4_35e1bf251e42row4_col11\" class=\"data row4 col11\" >-0.696078</td>\n",
       "            </tr>\n",
       "            <tr>\n",
       "                        <th id=\"T_34ced3e0_dbb1_11eb_b6b4_35e1bf251e42level0_row5\" class=\"row_heading level0 row5\" >Spikes_n_items</th>\n",
       "                        <td id=\"T_34ced3e0_dbb1_11eb_b6b4_35e1bf251e42row5_col0\" class=\"data row5 col0\" >0.431117</td>\n",
       "                        <td id=\"T_34ced3e0_dbb1_11eb_b6b4_35e1bf251e42row5_col1\" class=\"data row5 col1\" >-0.314501</td>\n",
       "                        <td id=\"T_34ced3e0_dbb1_11eb_b6b4_35e1bf251e42row5_col2\" class=\"data row5 col2\" >0.228804</td>\n",
       "                        <td id=\"T_34ced3e0_dbb1_11eb_b6b4_35e1bf251e42row5_col3\" class=\"data row5 col3\" >0.005747</td>\n",
       "                        <td id=\"T_34ced3e0_dbb1_11eb_b6b4_35e1bf251e42row5_col4\" class=\"data row5 col4\" >0.960542</td>\n",
       "                        <td id=\"T_34ced3e0_dbb1_11eb_b6b4_35e1bf251e42row5_col5\" class=\"data row5 col5\" >1.000000</td>\n",
       "                        <td id=\"T_34ced3e0_dbb1_11eb_b6b4_35e1bf251e42row5_col6\" class=\"data row5 col6\" >0.247994</td>\n",
       "                        <td id=\"T_34ced3e0_dbb1_11eb_b6b4_35e1bf251e42row5_col7\" class=\"data row5 col7\" >-0.247994</td>\n",
       "                        <td id=\"T_34ced3e0_dbb1_11eb_b6b4_35e1bf251e42row5_col8\" class=\"data row5 col8\" >nan</td>\n",
       "                        <td id=\"T_34ced3e0_dbb1_11eb_b6b4_35e1bf251e42row5_col9\" class=\"data row5 col9\" >-0.673552</td>\n",
       "                        <td id=\"T_34ced3e0_dbb1_11eb_b6b4_35e1bf251e42row5_col10\" class=\"data row5 col10\" >-0.674330</td>\n",
       "                        <td id=\"T_34ced3e0_dbb1_11eb_b6b4_35e1bf251e42row5_col11\" class=\"data row5 col11\" >-0.662343</td>\n",
       "            </tr>\n",
       "            <tr>\n",
       "                        <th id=\"T_34ced3e0_dbb1_11eb_b6b4_35e1bf251e42level0_row6\" class=\"row_heading level0 row6\" >PC</th>\n",
       "                        <td id=\"T_34ced3e0_dbb1_11eb_b6b4_35e1bf251e42row6_col0\" class=\"data row6 col0\" >0.010432</td>\n",
       "                        <td id=\"T_34ced3e0_dbb1_11eb_b6b4_35e1bf251e42row6_col1\" class=\"data row6 col1\" >0.295845</td>\n",
       "                        <td id=\"T_34ced3e0_dbb1_11eb_b6b4_35e1bf251e42row6_col2\" class=\"data row6 col2\" >0.009797</td>\n",
       "                        <td id=\"T_34ced3e0_dbb1_11eb_b6b4_35e1bf251e42row6_col3\" class=\"data row6 col3\" >-0.002291</td>\n",
       "                        <td id=\"T_34ced3e0_dbb1_11eb_b6b4_35e1bf251e42row6_col4\" class=\"data row6 col4\" >0.258037</td>\n",
       "                        <td id=\"T_34ced3e0_dbb1_11eb_b6b4_35e1bf251e42row6_col5\" class=\"data row6 col5\" >0.247994</td>\n",
       "                        <td id=\"T_34ced3e0_dbb1_11eb_b6b4_35e1bf251e42row6_col6\" class=\"data row6 col6\" >1.000000</td>\n",
       "                        <td id=\"T_34ced3e0_dbb1_11eb_b6b4_35e1bf251e42row6_col7\" class=\"data row6 col7\" >-1.000000</td>\n",
       "                        <td id=\"T_34ced3e0_dbb1_11eb_b6b4_35e1bf251e42row6_col8\" class=\"data row6 col8\" >nan</td>\n",
       "                        <td id=\"T_34ced3e0_dbb1_11eb_b6b4_35e1bf251e42row6_col9\" class=\"data row6 col9\" >-0.251669</td>\n",
       "                        <td id=\"T_34ced3e0_dbb1_11eb_b6b4_35e1bf251e42row6_col10\" class=\"data row6 col10\" >-0.251680</td>\n",
       "                        <td id=\"T_34ced3e0_dbb1_11eb_b6b4_35e1bf251e42row6_col11\" class=\"data row6 col11\" >-0.257793</td>\n",
       "            </tr>\n",
       "            <tr>\n",
       "                        <th id=\"T_34ced3e0_dbb1_11eb_b6b4_35e1bf251e42level0_row7\" class=\"row_heading level0 row7\" >RA</th>\n",
       "                        <td id=\"T_34ced3e0_dbb1_11eb_b6b4_35e1bf251e42row7_col0\" class=\"data row7 col0\" >-0.010432</td>\n",
       "                        <td id=\"T_34ced3e0_dbb1_11eb_b6b4_35e1bf251e42row7_col1\" class=\"data row7 col1\" >-0.295845</td>\n",
       "                        <td id=\"T_34ced3e0_dbb1_11eb_b6b4_35e1bf251e42row7_col2\" class=\"data row7 col2\" >-0.009797</td>\n",
       "                        <td id=\"T_34ced3e0_dbb1_11eb_b6b4_35e1bf251e42row7_col3\" class=\"data row7 col3\" >0.002291</td>\n",
       "                        <td id=\"T_34ced3e0_dbb1_11eb_b6b4_35e1bf251e42row7_col4\" class=\"data row7 col4\" >-0.258037</td>\n",
       "                        <td id=\"T_34ced3e0_dbb1_11eb_b6b4_35e1bf251e42row7_col5\" class=\"data row7 col5\" >-0.247994</td>\n",
       "                        <td id=\"T_34ced3e0_dbb1_11eb_b6b4_35e1bf251e42row7_col6\" class=\"data row7 col6\" >-1.000000</td>\n",
       "                        <td id=\"T_34ced3e0_dbb1_11eb_b6b4_35e1bf251e42row7_col7\" class=\"data row7 col7\" >1.000000</td>\n",
       "                        <td id=\"T_34ced3e0_dbb1_11eb_b6b4_35e1bf251e42row7_col8\" class=\"data row7 col8\" >nan</td>\n",
       "                        <td id=\"T_34ced3e0_dbb1_11eb_b6b4_35e1bf251e42row7_col9\" class=\"data row7 col9\" >0.251669</td>\n",
       "                        <td id=\"T_34ced3e0_dbb1_11eb_b6b4_35e1bf251e42row7_col10\" class=\"data row7 col10\" >0.251680</td>\n",
       "                        <td id=\"T_34ced3e0_dbb1_11eb_b6b4_35e1bf251e42row7_col11\" class=\"data row7 col11\" >0.257793</td>\n",
       "            </tr>\n",
       "            <tr>\n",
       "                        <th id=\"T_34ced3e0_dbb1_11eb_b6b4_35e1bf251e42level0_row8\" class=\"row_heading level0 row8\" >SA1</th>\n",
       "                        <td id=\"T_34ced3e0_dbb1_11eb_b6b4_35e1bf251e42row8_col0\" class=\"data row8 col0\" >nan</td>\n",
       "                        <td id=\"T_34ced3e0_dbb1_11eb_b6b4_35e1bf251e42row8_col1\" class=\"data row8 col1\" >nan</td>\n",
       "                        <td id=\"T_34ced3e0_dbb1_11eb_b6b4_35e1bf251e42row8_col2\" class=\"data row8 col2\" >nan</td>\n",
       "                        <td id=\"T_34ced3e0_dbb1_11eb_b6b4_35e1bf251e42row8_col3\" class=\"data row8 col3\" >nan</td>\n",
       "                        <td id=\"T_34ced3e0_dbb1_11eb_b6b4_35e1bf251e42row8_col4\" class=\"data row8 col4\" >nan</td>\n",
       "                        <td id=\"T_34ced3e0_dbb1_11eb_b6b4_35e1bf251e42row8_col5\" class=\"data row8 col5\" >nan</td>\n",
       "                        <td id=\"T_34ced3e0_dbb1_11eb_b6b4_35e1bf251e42row8_col6\" class=\"data row8 col6\" >nan</td>\n",
       "                        <td id=\"T_34ced3e0_dbb1_11eb_b6b4_35e1bf251e42row8_col7\" class=\"data row8 col7\" >nan</td>\n",
       "                        <td id=\"T_34ced3e0_dbb1_11eb_b6b4_35e1bf251e42row8_col8\" class=\"data row8 col8\" >nan</td>\n",
       "                        <td id=\"T_34ced3e0_dbb1_11eb_b6b4_35e1bf251e42row8_col9\" class=\"data row8 col9\" >nan</td>\n",
       "                        <td id=\"T_34ced3e0_dbb1_11eb_b6b4_35e1bf251e42row8_col10\" class=\"data row8 col10\" >nan</td>\n",
       "                        <td id=\"T_34ced3e0_dbb1_11eb_b6b4_35e1bf251e42row8_col11\" class=\"data row8 col11\" >nan</td>\n",
       "            </tr>\n",
       "            <tr>\n",
       "                        <th id=\"T_34ced3e0_dbb1_11eb_b6b4_35e1bf251e42level0_row9\" class=\"row_heading level0 row9\" >Spikes_diff_mean_2</th>\n",
       "                        <td id=\"T_34ced3e0_dbb1_11eb_b6b4_35e1bf251e42row9_col0\" class=\"data row9 col0\" >-0.465382</td>\n",
       "                        <td id=\"T_34ced3e0_dbb1_11eb_b6b4_35e1bf251e42row9_col1\" class=\"data row9 col1\" >0.227157</td>\n",
       "                        <td id=\"T_34ced3e0_dbb1_11eb_b6b4_35e1bf251e42row9_col2\" class=\"data row9 col2\" >0.039267</td>\n",
       "                        <td id=\"T_34ced3e0_dbb1_11eb_b6b4_35e1bf251e42row9_col3\" class=\"data row9 col3\" >-0.005077</td>\n",
       "                        <td id=\"T_34ced3e0_dbb1_11eb_b6b4_35e1bf251e42row9_col4\" class=\"data row9 col4\" >-0.707840</td>\n",
       "                        <td id=\"T_34ced3e0_dbb1_11eb_b6b4_35e1bf251e42row9_col5\" class=\"data row9 col5\" >-0.673552</td>\n",
       "                        <td id=\"T_34ced3e0_dbb1_11eb_b6b4_35e1bf251e42row9_col6\" class=\"data row9 col6\" >-0.251669</td>\n",
       "                        <td id=\"T_34ced3e0_dbb1_11eb_b6b4_35e1bf251e42row9_col7\" class=\"data row9 col7\" >0.251669</td>\n",
       "                        <td id=\"T_34ced3e0_dbb1_11eb_b6b4_35e1bf251e42row9_col8\" class=\"data row9 col8\" >nan</td>\n",
       "                        <td id=\"T_34ced3e0_dbb1_11eb_b6b4_35e1bf251e42row9_col9\" class=\"data row9 col9\" >1.000000</td>\n",
       "                        <td id=\"T_34ced3e0_dbb1_11eb_b6b4_35e1bf251e42row9_col10\" class=\"data row9 col10\" >0.999673</td>\n",
       "                        <td id=\"T_34ced3e0_dbb1_11eb_b6b4_35e1bf251e42row9_col11\" class=\"data row9 col11\" >0.994630</td>\n",
       "            </tr>\n",
       "            <tr>\n",
       "                        <th id=\"T_34ced3e0_dbb1_11eb_b6b4_35e1bf251e42level0_row10\" class=\"row_heading level0 row10\" >Spikes_diff_mean_5</th>\n",
       "                        <td id=\"T_34ced3e0_dbb1_11eb_b6b4_35e1bf251e42row10_col0\" class=\"data row10 col0\" >-0.465722</td>\n",
       "                        <td id=\"T_34ced3e0_dbb1_11eb_b6b4_35e1bf251e42row10_col1\" class=\"data row10 col1\" >0.227400</td>\n",
       "                        <td id=\"T_34ced3e0_dbb1_11eb_b6b4_35e1bf251e42row10_col2\" class=\"data row10 col2\" >0.039257</td>\n",
       "                        <td id=\"T_34ced3e0_dbb1_11eb_b6b4_35e1bf251e42row10_col3\" class=\"data row10 col3\" >-0.004966</td>\n",
       "                        <td id=\"T_34ced3e0_dbb1_11eb_b6b4_35e1bf251e42row10_col4\" class=\"data row10 col4\" >-0.708685</td>\n",
       "                        <td id=\"T_34ced3e0_dbb1_11eb_b6b4_35e1bf251e42row10_col5\" class=\"data row10 col5\" >-0.674330</td>\n",
       "                        <td id=\"T_34ced3e0_dbb1_11eb_b6b4_35e1bf251e42row10_col6\" class=\"data row10 col6\" >-0.251680</td>\n",
       "                        <td id=\"T_34ced3e0_dbb1_11eb_b6b4_35e1bf251e42row10_col7\" class=\"data row10 col7\" >0.251680</td>\n",
       "                        <td id=\"T_34ced3e0_dbb1_11eb_b6b4_35e1bf251e42row10_col8\" class=\"data row10 col8\" >nan</td>\n",
       "                        <td id=\"T_34ced3e0_dbb1_11eb_b6b4_35e1bf251e42row10_col9\" class=\"data row10 col9\" >0.999673</td>\n",
       "                        <td id=\"T_34ced3e0_dbb1_11eb_b6b4_35e1bf251e42row10_col10\" class=\"data row10 col10\" >1.000000</td>\n",
       "                        <td id=\"T_34ced3e0_dbb1_11eb_b6b4_35e1bf251e42row10_col11\" class=\"data row10 col11\" >0.994202</td>\n",
       "            </tr>\n",
       "            <tr>\n",
       "                        <th id=\"T_34ced3e0_dbb1_11eb_b6b4_35e1bf251e42level0_row11\" class=\"row_heading level0 row11\" >Spikes_diff_time_inrange</th>\n",
       "                        <td id=\"T_34ced3e0_dbb1_11eb_b6b4_35e1bf251e42row11_col0\" class=\"data row11 col0\" >-0.457629</td>\n",
       "                        <td id=\"T_34ced3e0_dbb1_11eb_b6b4_35e1bf251e42row11_col1\" class=\"data row11 col1\" >0.226639</td>\n",
       "                        <td id=\"T_34ced3e0_dbb1_11eb_b6b4_35e1bf251e42row11_col2\" class=\"data row11 col2\" >0.039452</td>\n",
       "                        <td id=\"T_34ced3e0_dbb1_11eb_b6b4_35e1bf251e42row11_col3\" class=\"data row11 col3\" >-0.003047</td>\n",
       "                        <td id=\"T_34ced3e0_dbb1_11eb_b6b4_35e1bf251e42row11_col4\" class=\"data row11 col4\" >-0.696078</td>\n",
       "                        <td id=\"T_34ced3e0_dbb1_11eb_b6b4_35e1bf251e42row11_col5\" class=\"data row11 col5\" >-0.662343</td>\n",
       "                        <td id=\"T_34ced3e0_dbb1_11eb_b6b4_35e1bf251e42row11_col6\" class=\"data row11 col6\" >-0.257793</td>\n",
       "                        <td id=\"T_34ced3e0_dbb1_11eb_b6b4_35e1bf251e42row11_col7\" class=\"data row11 col7\" >0.257793</td>\n",
       "                        <td id=\"T_34ced3e0_dbb1_11eb_b6b4_35e1bf251e42row11_col8\" class=\"data row11 col8\" >nan</td>\n",
       "                        <td id=\"T_34ced3e0_dbb1_11eb_b6b4_35e1bf251e42row11_col9\" class=\"data row11 col9\" >0.994630</td>\n",
       "                        <td id=\"T_34ced3e0_dbb1_11eb_b6b4_35e1bf251e42row11_col10\" class=\"data row11 col10\" >0.994202</td>\n",
       "                        <td id=\"T_34ced3e0_dbb1_11eb_b6b4_35e1bf251e42row11_col11\" class=\"data row11 col11\" >1.000000</td>\n",
       "            </tr>\n",
       "    </tbody></table>"
      ],
      "text/plain": [
       "<pandas.io.formats.style.Styler at 0x7f1301b4ea60>"
      ]
     },
     "execution_count": 102,
     "metadata": {},
     "output_type": "execute_result"
    }
   ],
   "source": [
    "corr = sim_df_feat.dropna().corr()\n",
    "corr.style.background_gradient(cmap='coolwarm')\n",
    "# corr"
   ]
  },
  {
   "cell_type": "code",
   "execution_count": 77,
   "id": "e7002f9c-9a59-497c-b492-c3c2bfde2625",
   "metadata": {},
   "outputs": [
    {
     "data": {
      "text/plain": [
       "array([[ 1.        , -0.39405434],\n",
       "       [-0.39405434,  1.        ]])"
      ]
     },
     "execution_count": 77,
     "metadata": {},
     "output_type": "execute_result"
    }
   ],
   "source": [
    "np.corrcoef(sim_df[\"Frequency\"], sim_df[\"Spikes_diff_time_inrange\"])"
   ]
  },
  {
   "cell_type": "markdown",
   "id": "4c9ccb77-1159-4a84-b51a-6d42c50fe736",
   "metadata": {},
   "source": [
    "# export data"
   ]
  },
  {
   "cell_type": "code",
   "execution_count": 68,
   "id": "4fc01848-50da-4267-977c-bef4e9dc40f2",
   "metadata": {},
   "outputs": [
    {
     "data": {
      "text/html": [
       "<div>\n",
       "<style scoped>\n",
       "    .dataframe tbody tr th:only-of-type {\n",
       "        vertical-align: middle;\n",
       "    }\n",
       "\n",
       "    .dataframe tbody tr th {\n",
       "        vertical-align: top;\n",
       "    }\n",
       "\n",
       "    .dataframe thead th {\n",
       "        text-align: right;\n",
       "    }\n",
       "</style>\n",
       "<table border=\"1\" class=\"dataframe\">\n",
       "  <thead>\n",
       "    <tr style=\"text-align: right;\">\n",
       "      <th></th>\n",
       "      <th>FiringRate</th>\n",
       "      <th>Spikes</th>\n",
       "      <th>Frequency</th>\n",
       "      <th>depth</th>\n",
       "      <th>Afferent_Class</th>\n",
       "      <th>duration</th>\n",
       "      <th>Pin_Radius</th>\n",
       "      <th>FiringRate_value</th>\n",
       "      <th>Spikes_n_items</th>\n",
       "      <th>Spikes_diff_time_inrange</th>\n",
       "      <th>Spikes_diff_mean</th>\n",
       "      <th>PC</th>\n",
       "      <th>RA</th>\n",
       "      <th>SA1</th>\n",
       "      <th>PC</th>\n",
       "      <th>RA</th>\n",
       "      <th>SA1</th>\n",
       "      <th>Spikes_diff_mean_2</th>\n",
       "      <th>Spikes_diff_mean_5</th>\n",
       "    </tr>\n",
       "  </thead>\n",
       "  <tbody>\n",
       "    <tr>\n",
       "      <th>0</th>\n",
       "      <td>[95.30292716133424]</td>\n",
       "      <td>[0.001, 0.0098, 0.02, 0.0304, 0.040799999999999996, 0.0514, 0.0618, 0.0724, 0.08280000000000001, 0.09340000000000001, 0.10400000000000001, 0.1144, 0.125, 0.1354, 0.14600000000000002, 0.15660000000...</td>\n",
       "      <td>95</td>\n",
       "      <td>1.60</td>\n",
       "      <td>PC</td>\n",
       "      <td>1.7630</td>\n",
       "      <td>1.070</td>\n",
       "      <td>95.3125</td>\n",
       "      <td>168</td>\n",
       "      <td>0.1030</td>\n",
       "      <td>0.021029</td>\n",
       "      <td>1</td>\n",
       "      <td>0</td>\n",
       "      <td>0</td>\n",
       "      <td>1</td>\n",
       "      <td>0</td>\n",
       "      <td>0</td>\n",
       "      <td>0.021029</td>\n",
       "      <td>0.052596</td>\n",
       "    </tr>\n",
       "    <tr>\n",
       "      <th>1</th>\n",
       "      <td>[130.586186883343]</td>\n",
       "      <td>[0.001, 0.0063999999999999994, 0.013000000000000001, 0.0206, 0.027999999999999997, 0.0358, 0.043199999999999995, 0.051, 0.0584, 0.0664, 0.0738, 0.08180000000000001, 0.0892, 0.09720000000000001, 0....</td>\n",
       "      <td>65</td>\n",
       "      <td>0.58</td>\n",
       "      <td>PC</td>\n",
       "      <td>1.0340</td>\n",
       "      <td>1.390</td>\n",
       "      <td>130.6250</td>\n",
       "      <td>135</td>\n",
       "      <td>0.0728</td>\n",
       "      <td>0.015332</td>\n",
       "      <td>1</td>\n",
       "      <td>0</td>\n",
       "      <td>0</td>\n",
       "      <td>1</td>\n",
       "      <td>0</td>\n",
       "      <td>0</td>\n",
       "      <td>0.015332</td>\n",
       "      <td>0.038385</td>\n",
       "    </tr>\n",
       "    <tr>\n",
       "      <th>2</th>\n",
       "      <td>[35.24574113961229]</td>\n",
       "      <td>[0.026199999999999998, 0.049999999999999996, 0.07980000000000001, 0.10400000000000001, 0.13440000000000002, 0.1584, 0.189, 0.2132, 0.2434, 0.26739999999999997, 0.298, 0.32199999999999995, 0.352599...</td>\n",
       "      <td>55</td>\n",
       "      <td>1.30</td>\n",
       "      <td>PC</td>\n",
       "      <td>1.0215</td>\n",
       "      <td>0.825</td>\n",
       "      <td>35.2500</td>\n",
       "      <td>36</td>\n",
       "      <td>0.2718</td>\n",
       "      <td>0.054482</td>\n",
       "      <td>1</td>\n",
       "      <td>0</td>\n",
       "      <td>0</td>\n",
       "      <td>1</td>\n",
       "      <td>0</td>\n",
       "      <td>0</td>\n",
       "      <td>0.054482</td>\n",
       "      <td>0.136168</td>\n",
       "    </tr>\n",
       "  </tbody>\n",
       "</table>\n",
       "</div>"
      ],
      "text/plain": [
       "            FiringRate  \\\n",
       "0  [95.30292716133424]   \n",
       "1   [130.586186883343]   \n",
       "2  [35.24574113961229]   \n",
       "\n",
       "                                                                                                                                                                                                    Spikes  \\\n",
       "0  [0.001, 0.0098, 0.02, 0.0304, 0.040799999999999996, 0.0514, 0.0618, 0.0724, 0.08280000000000001, 0.09340000000000001, 0.10400000000000001, 0.1144, 0.125, 0.1354, 0.14600000000000002, 0.15660000000...   \n",
       "1  [0.001, 0.0063999999999999994, 0.013000000000000001, 0.0206, 0.027999999999999997, 0.0358, 0.043199999999999995, 0.051, 0.0584, 0.0664, 0.0738, 0.08180000000000001, 0.0892, 0.09720000000000001, 0....   \n",
       "2  [0.026199999999999998, 0.049999999999999996, 0.07980000000000001, 0.10400000000000001, 0.13440000000000002, 0.1584, 0.189, 0.2132, 0.2434, 0.26739999999999997, 0.298, 0.32199999999999995, 0.352599...   \n",
       "\n",
       "   Frequency  \\\n",
       "0         95   \n",
       "1         65   \n",
       "2         55   \n",
       "\n",
       "   depth  \\\n",
       "0   1.60   \n",
       "1   0.58   \n",
       "2   1.30   \n",
       "\n",
       "  Afferent_Class  \\\n",
       "0             PC   \n",
       "1             PC   \n",
       "2             PC   \n",
       "\n",
       "   duration  \\\n",
       "0    1.7630   \n",
       "1    1.0340   \n",
       "2    1.0215   \n",
       "\n",
       "   Pin_Radius  \\\n",
       "0       1.070   \n",
       "1       1.390   \n",
       "2       0.825   \n",
       "\n",
       "   FiringRate_value  \\\n",
       "0           95.3125   \n",
       "1          130.6250   \n",
       "2           35.2500   \n",
       "\n",
       "   Spikes_n_items  \\\n",
       "0             168   \n",
       "1             135   \n",
       "2              36   \n",
       "\n",
       "   Spikes_diff_time_inrange  \\\n",
       "0                    0.1030   \n",
       "1                    0.0728   \n",
       "2                    0.2718   \n",
       "\n",
       "   Spikes_diff_mean  \\\n",
       "0          0.021029   \n",
       "1          0.015332   \n",
       "2          0.054482   \n",
       "\n",
       "   PC  RA  \\\n",
       "0   1   0   \n",
       "1   1   0   \n",
       "2   1   0   \n",
       "\n",
       "   SA1  \\\n",
       "0    0   \n",
       "1    0   \n",
       "2    0   \n",
       "\n",
       "   PC  RA  \\\n",
       "0   1   0   \n",
       "1   1   0   \n",
       "2   1   0   \n",
       "\n",
       "   SA1  \\\n",
       "0    0   \n",
       "1    0   \n",
       "2    0   \n",
       "\n",
       "   Spikes_diff_mean_2  \\\n",
       "0            0.021029   \n",
       "1            0.015332   \n",
       "2            0.054482   \n",
       "\n",
       "   Spikes_diff_mean_5  \n",
       "0            0.052596  \n",
       "1            0.038385  \n",
       "2            0.136168  "
      ]
     },
     "execution_count": 68,
     "metadata": {},
     "output_type": "execute_result"
    }
   ],
   "source": [
    "sim_df[:3]"
   ]
  },
  {
   "cell_type": "code",
   "execution_count": 71,
   "id": "a5524ee7-05a9-45fe-a658-85d312bc9b6e",
   "metadata": {},
   "outputs": [],
   "source": [
    "feature_cols = [\"PC\", \"RA\", \"SA1\",\"FiringRate_value\",\"Spikes_n_items\", \"Spikes_diff_mean\", \"depth\", \"Pin_Radius\", \"Spikes_diff_time_inrange\", \n",
    "                \"Spikes_diff_mean_2\",\"Spikes_diff_mean_5\"]\n",
    "target_col = \"Frequency\""
   ]
  },
  {
   "cell_type": "code",
   "execution_count": 72,
   "id": "6d9ddf42-7ee0-4bba-b367-7f8d489ed43e",
   "metadata": {},
   "outputs": [],
   "source": [
    "sim_df[feature_cols+[target_col]].to_csv(\"../data/dataset_v2.csv\")"
   ]
  },
  {
   "cell_type": "code",
   "execution_count": null,
   "id": "2d21ae19-ac47-4664-a989-3ae58dfc361f",
   "metadata": {},
   "outputs": [],
   "source": []
  }
 ],
 "metadata": {
  "kernelspec": {
   "display_name": "Py3.8 (noaa)",
   "language": "python",
   "name": "noaa-runtime"
  },
  "language_info": {
   "codemirror_mode": {
    "name": "ipython",
    "version": 3
   },
   "file_extension": ".py",
   "mimetype": "text/x-python",
   "name": "python",
   "nbconvert_exporter": "python",
   "pygments_lexer": "ipython3",
   "version": "3.8.5"
  },
  "toc-autonumbering": true
 },
 "nbformat": 4,
 "nbformat_minor": 5
}
